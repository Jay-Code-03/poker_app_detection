{
 "cells": [
  {
   "cell_type": "markdown",
   "metadata": {},
   "source": [
    " ## Optimized Database Configuration and Schema"
   ]
  },
  {
   "cell_type": "code",
   "execution_count": 5,
   "metadata": {},
   "outputs": [],
   "source": [
    "import os\n",
    "import sqlite3\n",
    "import pandas as pd\n",
    "import numpy as np\n",
    "from tqdm import tqdm\n",
    "import matplotlib.pyplot as plt\n",
    "import seaborn as sns\n",
    "import multiprocessing\n",
    "import psutil\n",
    "import time\n",
    "from lxml import etree as ET\n",
    "from concurrent.futures import ProcessPoolExecutor\n",
    "import re\n",
    "import json\n",
    "\n",
    "# For reproducibility\n",
    "np.random.seed(42)\n",
    "\n",
    "def optimize_sqlite_connection(conn):\n",
    "    \"\"\"Apply performance optimizations to SQLite connection\"\"\"\n",
    "    conn.execute('PRAGMA journal_mode = WAL')\n",
    "    conn.execute('PRAGMA synchronous = NORMAL')\n",
    "    conn.execute('PRAGMA cache_size = -64000')  # 64MB cache\n",
    "    conn.execute('PRAGMA temp_store = MEMORY')\n",
    "    conn.execute('PRAGMA mmap_size = 30000000000')  # ~30GB memory map\n",
    "    conn.execute('PRAGMA page_size = 4096')\n",
    "    conn.execute('PRAGMA threads = 4')\n",
    "\n",
    "def create_database_schema(db_path, with_indexes=True):\n",
    "    \"\"\"Create the database schema for poker hand history analysis\"\"\"\n",
    "    conn = sqlite3.connect(db_path)\n",
    "    optimize_sqlite_connection(conn)\n",
    "    c = conn.cursor()\n",
    "    \n",
    "    # Create tables without indexes first for faster bulk loading\n",
    "    c.execute('''\n",
    "    CREATE TABLE IF NOT EXISTS games (\n",
    "        game_id TEXT PRIMARY KEY,\n",
    "        session_id TEXT,\n",
    "        start_date TEXT,\n",
    "        small_blind REAL,\n",
    "        big_blind REAL,\n",
    "        ante REAL,\n",
    "        table_name TEXT,\n",
    "        player_count INTEGER,\n",
    "        is_tournament INTEGER\n",
    "    )\n",
    "    ''')\n",
    "    \n",
    "    c.execute('''\n",
    "    CREATE TABLE IF NOT EXISTS players (\n",
    "        player_id INTEGER PRIMARY KEY AUTOINCREMENT,\n",
    "        player_name TEXT UNIQUE\n",
    "    )\n",
    "    ''')\n",
    "    \n",
    "    c.execute('''\n",
    "    CREATE TABLE IF NOT EXISTS game_players (\n",
    "        game_id TEXT,\n",
    "        player_id INTEGER,\n",
    "        position TEXT,\n",
    "        position_numeric INTEGER,\n",
    "        initial_stack REAL,\n",
    "        is_hero INTEGER,\n",
    "        is_dealer INTEGER,\n",
    "        final_stack REAL,\n",
    "        total_won REAL,\n",
    "        total_bet REAL,\n",
    "        PRIMARY KEY (game_id, player_id),\n",
    "        FOREIGN KEY (game_id) REFERENCES games(game_id),\n",
    "        FOREIGN KEY (player_id) REFERENCES players(player_id)\n",
    "    )\n",
    "    ''')\n",
    "    \n",
    "    c.execute('''\n",
    "    CREATE TABLE IF NOT EXISTS cards (\n",
    "        card_id INTEGER PRIMARY KEY AUTOINCREMENT,\n",
    "        game_id TEXT,\n",
    "        card_type TEXT,  -- Pocket, Flop, Turn, River\n",
    "        player_id INTEGER NULL,\n",
    "        card_values TEXT,\n",
    "        FOREIGN KEY (game_id) REFERENCES games(game_id),\n",
    "        FOREIGN KEY (player_id) REFERENCES players(player_id)\n",
    "    )\n",
    "    ''')\n",
    "    \n",
    "    c.execute('''\n",
    "    CREATE TABLE IF NOT EXISTS actions (\n",
    "        action_id INTEGER PRIMARY KEY AUTOINCREMENT,\n",
    "        game_id TEXT,\n",
    "        player_id INTEGER,\n",
    "        action_round INTEGER,\n",
    "        action_type INTEGER,\n",
    "        simple_action_type TEXT,\n",
    "        action_sum REAL,\n",
    "        action_order INTEGER,\n",
    "        pot_before_action REAL,\n",
    "        players_remaining INTEGER,\n",
    "        FOREIGN KEY (game_id) REFERENCES games(game_id),\n",
    "        FOREIGN KEY (player_id) REFERENCES players(player_id)\n",
    "    )\n",
    "    ''')\n",
    "    \n",
    "    # Only create indexes if requested (defer for bulk loading)\n",
    "    if with_indexes:\n",
    "        c.execute('CREATE INDEX IF NOT EXISTS idx_game_id ON actions(game_id)')\n",
    "        c.execute('CREATE INDEX IF NOT EXISTS idx_player_id ON actions(player_id)')\n",
    "        c.execute('CREATE INDEX IF NOT EXISTS idx_action_type ON actions(simple_action_type)')\n",
    "        c.execute('CREATE INDEX IF NOT EXISTS idx_game_players ON game_players(game_id, player_id)')\n",
    "    \n",
    "    conn.commit()\n",
    "    conn.close()\n",
    "    \n",
    "    print(f\"Database schema created at {db_path}\")\n",
    "\n",
    "def add_indexes(db_path):\n",
    "    \"\"\"Add indexes after bulk loading\"\"\"\n",
    "    conn = sqlite3.connect(db_path)\n",
    "    c = conn.cursor()\n",
    "    \n",
    "    print(\"Creating indexes...\")\n",
    "    c.execute('CREATE INDEX IF NOT EXISTS idx_game_id ON actions(game_id)')\n",
    "    c.execute('CREATE INDEX IF NOT EXISTS idx_player_id ON actions(player_id)')\n",
    "    c.execute('CREATE INDEX IF NOT EXISTS idx_action_type ON actions(simple_action_type)')\n",
    "    c.execute('CREATE INDEX IF NOT EXISTS idx_game_players ON game_players(game_id, player_id)')\n",
    "    \n",
    "    conn.commit()\n",
    "    conn.close()\n",
    "    print(\"Indexes created successfully\")"
   ]
  },
  {
   "cell_type": "markdown",
   "metadata": {},
   "source": [
    "## Optimized Data Extraction Functions"
   ]
  },
  {
   "cell_type": "code",
   "execution_count": 6,
   "metadata": {},
   "outputs": [],
   "source": [
    "def safe_float(text):\n",
    "    \"\"\"Convert text to float, handling currency symbols and errors\"\"\"\n",
    "    if text is None:\n",
    "        return 0.0\n",
    "    try:\n",
    "        return float(re.sub(r\"[^\\d\\.]\", \"\", str(text)))\n",
    "    except Exception:\n",
    "        return 0.0\n",
    "\n",
    "def get_action_type(type_code):\n",
    "    \"\"\"Convert action type code to readable format\"\"\"\n",
    "    action_types = {\n",
    "        0: \"fold\", \n",
    "        1: \"small_blind\", \n",
    "        2: \"big_blind\", \n",
    "        3: \"call\", \n",
    "        4: \"check\", \n",
    "        5: \"raise\", \n",
    "        7: \"raise\", \n",
    "        15: \"ante\",\n",
    "        23: \"raise\"\n",
    "    }\n",
    "    return action_types.get(type_code, f\"unknown_{type_code}\")\n",
    "\n",
    "def simplify_action(action_details, round_no, blinds, pot_before_action, round_contributions, current_round_max):\n",
    "    \"\"\"\n",
    "    Simplify the action into a single string category based on context.\n",
    "    \"\"\"\n",
    "    allowed_types = {0: \"fold\", 3: \"call\", 4: \"check\", 5: \"raise\", 7: \"raise\", 15: \"ante\", 23: \"raise\"}\n",
    "    orig_type = action_details['action_type']\n",
    "    if orig_type not in allowed_types:\n",
    "        return None\n",
    "    base_action = allowed_types[orig_type]\n",
    "    new_action = action_details.copy()\n",
    "    \n",
    "    if base_action != \"raise\":\n",
    "        new_action[\"simple_action_type\"] = base_action\n",
    "    else:\n",
    "        if round_no == 1:  # Preflop\n",
    "            bb = blinds.get(\"big_blind\", 1)\n",
    "            ratio = action_details['action_sum'] / bb if bb != 0 else 0\n",
    "            if ratio <= 2.2:\n",
    "                new_action[\"simple_action_type\"] = \"small_raise_preflop\"\n",
    "            elif ratio <= 2.7:\n",
    "                new_action[\"simple_action_type\"] = \"mid_raise_preflop\"\n",
    "            elif ratio <= 3.2:\n",
    "                new_action[\"simple_action_type\"] = \"big_raise_preflop\"\n",
    "            else:\n",
    "                new_action[\"simple_action_type\"] = \"all_in_preflop\"\n",
    "        else:  # Postflop\n",
    "            current_player_contrib = round_contributions.get(action_details['player_id'], 0)\n",
    "            call_amount = max(0, current_round_max - current_player_contrib)\n",
    "            effective_raise = action_details['action_sum'] - call_amount\n",
    "            effective_pot = pot_before_action + call_amount\n",
    "            ratio = effective_raise / effective_pot if effective_pot > 0 else 0\n",
    "            if ratio <= 0.33:\n",
    "                new_action[\"simple_action_type\"] = \"small_raise_postflop\"\n",
    "            elif ratio <= 0.66:\n",
    "                new_action[\"simple_action_type\"] = \"mid_raise_postflop\"\n",
    "            else:\n",
    "                new_action[\"simple_action_type\"] = \"big_raise_postflop\"\n",
    "    return new_action"
   ]
  },
  {
   "cell_type": "markdown",
   "metadata": {},
   "source": [
    "## Optimized XML Parsing and Database Operations"
   ]
  },
  {
   "cell_type": "code",
   "execution_count": 7,
   "metadata": {},
   "outputs": [],
   "source": [
    "def get_player_id_cache(conn, player_names):\n",
    "    \"\"\"Pre-cache player IDs to avoid repeated lookups\"\"\"\n",
    "    cursor = conn.cursor()\n",
    "    player_id_cache = {}\n",
    "    \n",
    "    # Get existing players\n",
    "    cursor.execute(\"SELECT player_id, player_name FROM players\")\n",
    "    for player_id, player_name in cursor.fetchall():\n",
    "        player_id_cache[player_name] = player_id\n",
    "    \n",
    "    # Insert any new players all at once\n",
    "    new_players = [(name,) for name in player_names if name not in player_id_cache]\n",
    "    if new_players:\n",
    "        cursor.executemany(\"INSERT INTO players (player_name) VALUES (?)\", new_players)\n",
    "        conn.commit()\n",
    "        \n",
    "        # Get the newly inserted IDs\n",
    "        placeholders = ','.join(['?'] * len(new_players))\n",
    "        cursor.execute(f\"SELECT player_id, player_name FROM players WHERE player_name IN ({placeholders})\", \n",
    "                      [name for name, in new_players])\n",
    "        for player_id, player_name in cursor.fetchall():\n",
    "            player_id_cache[player_name] = player_id\n",
    "    \n",
    "    return player_id_cache\n",
    "\n",
    "def parse_xml_batch(file_paths, batch_id, result_queue):\n",
    "    \"\"\"\n",
    "    Parse a batch of XML files and return the extracted data\n",
    "    This function runs in a separate process\n",
    "    \"\"\"\n",
    "    batch_data = {\n",
    "        'games': [],\n",
    "        'game_players': [],\n",
    "        'cards': [],\n",
    "        'actions': [],\n",
    "        'players': set()  # Collect unique player names\n",
    "    }\n",
    "    \n",
    "    files_processed = 0\n",
    "    \n",
    "    try:\n",
    "        for xml_file_path in file_paths:\n",
    "            try:\n",
    "                # Fast XML parsing with lxml\n",
    "                parser = ET.XMLParser(recover=True)\n",
    "                tree = ET.parse(xml_file_path, parser)\n",
    "                root = tree.getroot()\n",
    "                \n",
    "                # Get session info\n",
    "                session_id = root.get('sessioncode', '')\n",
    "                session_general = root.find('general')\n",
    "                hero_nickname = session_general.findtext('nickname', '') if session_general is not None else ''\n",
    "                \n",
    "                # Process each game\n",
    "                for game in root.findall('game'):\n",
    "                    game_id = game.get('gamecode', '')\n",
    "                    \n",
    "                    # Parse general game info\n",
    "                    general = game.find('general')\n",
    "                    if general is None:\n",
    "                        continue\n",
    "                        \n",
    "                    # Get blinds and ante\n",
    "                    small_blind = safe_float(general.findtext('smallblind', \"0\"))\n",
    "                    big_blind = safe_float(general.findtext('bigblind', \"0\"))\n",
    "                    ante = safe_float(general.findtext('ante', \"0\"))\n",
    "                    \n",
    "                    # Get start date\n",
    "                    start_date = general.findtext('startdate', '')\n",
    "                    \n",
    "                    # Get table info\n",
    "                    table_name = ''\n",
    "                    is_tournament = 0\n",
    "                    for parent_general in root.findall('general'):\n",
    "                        table_name = parent_general.findtext('tablename', '')\n",
    "                        is_tournament = 1 if parent_general.findtext('tournamentcode', '') else 0\n",
    "                    \n",
    "                    # Get player count\n",
    "                    players_elem = general.find('players')\n",
    "                    if players_elem is None:\n",
    "                        continue\n",
    "                    player_count = len(players_elem.findall('player'))\n",
    "                    \n",
    "                    # Store game info\n",
    "                    batch_data['games'].append({\n",
    "                        'game_id': game_id,\n",
    "                        'session_id': session_id,\n",
    "                        'start_date': start_date,\n",
    "                        'small_blind': small_blind,\n",
    "                        'big_blind': big_blind,\n",
    "                        'ante': ante,\n",
    "                        'table_name': table_name,\n",
    "                        'player_count': player_count,\n",
    "                        'is_tournament': is_tournament\n",
    "                    })\n",
    "                    \n",
    "                    # Get player positions\n",
    "                    player_positions = {}\n",
    "                    position_numeric = {}\n",
    "                    \n",
    "                    # Find button player\n",
    "                    button_player = None\n",
    "                    for p in players_elem.findall('player'):\n",
    "                        if p.get('dealer', '0') == '1':\n",
    "                            button_player = p.get('name')\n",
    "                            break\n",
    "                    \n",
    "                    # Find SB and BB from round 0 actions\n",
    "                    sb_player = None\n",
    "                    bb_player = None\n",
    "                    for r in game.findall('round'):\n",
    "                        if r.get('no') == '0':\n",
    "                            for act in r.findall('action'):\n",
    "                                action_type = act.get('type')\n",
    "                                player = act.get('player')\n",
    "                                if action_type == '1':\n",
    "                                    sb_player = player\n",
    "                                elif action_type == '2':\n",
    "                                    bb_player = player\n",
    "                    \n",
    "                    # Assign positions\n",
    "                    heads_up = (player_count == 2)\n",
    "                    \n",
    "                    # For 2-player games\n",
    "                    if heads_up and button_player and sb_player:\n",
    "                        player_positions[button_player] = 'BTN/SB'\n",
    "                        position_numeric[button_player] = 0\n",
    "                        \n",
    "                        # In heads-up, the other player must be BB\n",
    "                        for p in players_elem.findall('player'):\n",
    "                            player_name = p.get('name')\n",
    "                            if player_name != button_player:\n",
    "                                player_positions[player_name] = 'BB'\n",
    "                                position_numeric[player_name] = 1\n",
    "                                break\n",
    "                    # For 3+ player games\n",
    "                    else:\n",
    "                        if sb_player:\n",
    "                            player_positions[sb_player] = 'SB'\n",
    "                            position_numeric[sb_player] = 0\n",
    "                        if bb_player:\n",
    "                            player_positions[bb_player] = 'BB'\n",
    "                            position_numeric[bb_player] = 1\n",
    "                        \n",
    "                        # In 3-player games, the third position is button if not SB or BB\n",
    "                        if player_count == 3 and button_player:\n",
    "                            if button_player not in (sb_player, bb_player):\n",
    "                                player_positions[button_player] = 'BTN'\n",
    "                                position_numeric[button_player] = 2\n",
    "                    \n",
    "                    # Process each player\n",
    "                    for p in players_elem.findall('player'):\n",
    "                        player_name = p.get('name')\n",
    "                        if not player_name:\n",
    "                            continue\n",
    "                            \n",
    "                        # Add to set of player names\n",
    "                        batch_data['players'].add(player_name)\n",
    "                        \n",
    "                        initial_stack = safe_float(p.get('chips', '0'))\n",
    "                        is_hero = 1 if player_name == hero_nickname else 0\n",
    "                        is_dealer = 1 if p.get('dealer', '0') == '1' else 0\n",
    "                        total_won = safe_float(p.get('win', '0'))\n",
    "                        total_bet = safe_float(p.get('bet', '0'))\n",
    "                        final_stack = initial_stack + total_won - total_bet\n",
    "                        \n",
    "                        position = player_positions.get(player_name, 'unknown')\n",
    "                        pos_num = position_numeric.get(player_name, -1)\n",
    "                        \n",
    "                        # Store player info for this game\n",
    "                        batch_data['game_players'].append({\n",
    "                            'game_id': game_id,\n",
    "                            'player_name': player_name,\n",
    "                            'position': position,\n",
    "                            'position_numeric': pos_num,\n",
    "                            'initial_stack': initial_stack,\n",
    "                            'is_hero': is_hero,\n",
    "                            'is_dealer': is_dealer,\n",
    "                            'final_stack': final_stack,\n",
    "                            'total_won': total_won,\n",
    "                            'total_bet': total_bet\n",
    "                        })\n",
    "                    \n",
    "                    # Process cards\n",
    "                    for r in game.findall('round'):\n",
    "                        for card in r.findall('cards'):\n",
    "                            card_type = card.get('type')\n",
    "                            player_name = card.get('player', None)\n",
    "                            card_values = card.text.strip() if card.text else ''\n",
    "                            \n",
    "                            # Store card info\n",
    "                            batch_data['cards'].append({\n",
    "                                'game_id': game_id,\n",
    "                                'card_type': card_type,\n",
    "                                'player_name': player_name,\n",
    "                                'card_values': card_values\n",
    "                            })\n",
    "                    \n",
    "                    # Process actions with contextualized information\n",
    "                    active_players = {p.get('name'): True for p in players_elem.findall('player')}\n",
    "                    pot_size = 0.0\n",
    "                    action_order = 0\n",
    "                    \n",
    "                    # Track cumulative contributions\n",
    "                    player_contributions = {p.get('name'): 0.0 for p in players_elem.findall('player')}\n",
    "                    \n",
    "                    for r in game.findall('round'):\n",
    "                        round_no = int(r.get('no', '0'))\n",
    "                        \n",
    "                        # Reset round contributions and maximum for new betting rounds\n",
    "                        if round_no >= 1:\n",
    "                            round_contributions = {player_name: 0.0 for player_name in player_contributions}\n",
    "                            current_round_max = 0.0\n",
    "                        \n",
    "                        for action in r.findall('action'):\n",
    "                            player_name = action.get('player')\n",
    "                            if not player_name:\n",
    "                                continue\n",
    "                                \n",
    "                            action_type = int(action.get('type', '0'))\n",
    "                            action_sum = safe_float(action.get('sum', '0'))\n",
    "                            action_order += 1\n",
    "                            \n",
    "                            # Prepare action details\n",
    "                            action_details = {\n",
    "                                'player_id': player_name,  # We'll resolve player_id later\n",
    "                                'action_type': action_type,\n",
    "                                'action_sum': action_sum,\n",
    "                                'action_round': round_no\n",
    "                            }\n",
    "                            \n",
    "                            current_pot = pot_size\n",
    "                            players_remaining = sum(1 for v in active_players.values() if v)\n",
    "                            \n",
    "                            simple_action_type = get_action_type(action_type)\n",
    "                            \n",
    "                            # Skip round 0 for simplification analysis\n",
    "                            # For rounds ≥ 1, analyze actions in context\n",
    "                            if round_no >= 1:\n",
    "                                # Simplify the action using the round-level data\n",
    "                                simple_action = simplify_action(\n",
    "                                    action_details, \n",
    "                                    round_no, \n",
    "                                    {\"big_blind\": big_blind, \"small_blind\": small_blind, \"ante\": ante}, \n",
    "                                    current_pot, \n",
    "                                    round_contributions, \n",
    "                                    current_round_max\n",
    "                                )\n",
    "                                \n",
    "                                if simple_action is not None:\n",
    "                                    # Store the action with context\n",
    "                                    batch_data['actions'].append({\n",
    "                                        'game_id': game_id,\n",
    "                                        'player_name': player_name,\n",
    "                                        'action_round': round_no,\n",
    "                                        'action_type': action_type,\n",
    "                                        'simple_action_type': simple_action.get(\"simple_action_type\", simple_action_type),\n",
    "                                        'action_sum': action_sum,\n",
    "                                        'action_order': action_order,\n",
    "                                        'pot_before_action': current_pot,\n",
    "                                        'players_remaining': players_remaining\n",
    "                                    })\n",
    "                                \n",
    "                                # Update round-level contributions for this action\n",
    "                                round_contributions[player_name] = round_contributions.get(player_name, 0) + action_sum\n",
    "                                current_round_max = max(current_round_max, round_contributions[player_name])\n",
    "                            else:\n",
    "                                # For round 0 (blinds/antes), just record the action\n",
    "                                batch_data['actions'].append({\n",
    "                                    'game_id': game_id,\n",
    "                                    'player_name': player_name,\n",
    "                                    'action_round': round_no,\n",
    "                                    'action_type': action_type,\n",
    "                                    'simple_action_type': simple_action_type,\n",
    "                                    'action_sum': action_sum,\n",
    "                                    'action_order': action_order,\n",
    "                                    'pot_before_action': pot_size,\n",
    "                                    'players_remaining': player_count\n",
    "                                })\n",
    "                            \n",
    "                            # Update cumulative contributions and pot\n",
    "                            player_contributions[player_name] = player_contributions.get(player_name, 0) + action_sum\n",
    "                            pot_size += action_sum\n",
    "                            \n",
    "                            # Mark a player as inactive if they folded\n",
    "                            if action_type == 0:  # fold\n",
    "                                active_players[player_name] = False\n",
    "                \n",
    "                files_processed += 1\n",
    "            except Exception as e:\n",
    "                print(f\"Error processing file {xml_file_path}: {str(e)}\")\n",
    "                continue\n",
    "                \n",
    "    except Exception as e:\n",
    "        print(f\"Batch {batch_id} encountered an error: {str(e)}\")\n",
    "    finally:\n",
    "        # Convert set to list for serialization\n",
    "        batch_data['players'] = list(batch_data['players'])\n",
    "        # Send results back to main process\n",
    "        result_queue.put((batch_id, batch_data, files_processed))"
   ]
  },
  {
   "cell_type": "markdown",
   "metadata": {},
   "source": [
    "## Parallel Processing Implementation"
   ]
  },
  {
   "cell_type": "code",
   "execution_count": 8,
   "metadata": {},
   "outputs": [],
   "source": [
    "def process_files_parallel(xml_files, db_path, max_workers=None):\n",
    "    \"\"\"Process XML files in parallel using multiple processes\"\"\"\n",
    "    if max_workers is None:\n",
    "        # Use cpu_count - 1 to leave one core free for system processes\n",
    "        max_workers = max(1, multiprocessing.cpu_count() - 1)\n",
    "    \n",
    "    # Create connection for main thread\n",
    "    main_conn = sqlite3.connect(db_path)\n",
    "    optimize_sqlite_connection(main_conn)\n",
    "    \n",
    "    # Create database schema without indexes for faster insertion\n",
    "    create_database_schema(db_path, with_indexes=False)\n",
    "    \n",
    "    # Create a multiprocessing queue for results\n",
    "    manager = multiprocessing.Manager()\n",
    "    result_queue = manager.Queue()\n",
    "    \n",
    "    # Split files into batches for workers\n",
    "    file_count = len(xml_files)\n",
    "    batch_size = max(1, file_count // (max_workers * 2))  # Ensure at least 2 batches per worker\n",
    "    batches = []\n",
    "    \n",
    "    for i in range(0, file_count, batch_size):\n",
    "        batches.append(xml_files[i:i+batch_size])\n",
    "    \n",
    "    print(f\"Processing {file_count} files in {len(batches)} batches with {max_workers} workers\")\n",
    "    \n",
    "    # Create and start worker processes\n",
    "    processes = []\n",
    "    for i, batch in enumerate(batches):\n",
    "        p = multiprocessing.Process(\n",
    "            target=parse_xml_batch,\n",
    "            args=(batch, i, result_queue)\n",
    "        )\n",
    "        processes.append(p)\n",
    "        p.start()\n",
    "    \n",
    "    # Monitor progress and collect results\n",
    "    total_processed = 0\n",
    "    batch_results = []\n",
    "    pbar = tqdm(total=file_count, desc=\"Processing XML files\")\n",
    "    \n",
    "    # Wait for all batches to complete\n",
    "    completed_batches = 0\n",
    "    while completed_batches < len(batches):\n",
    "        if not result_queue.empty():\n",
    "            batch_id, batch_data, files_processed = result_queue.get()\n",
    "            batch_results.append((batch_id, batch_data))\n",
    "            total_processed += files_processed\n",
    "            pbar.update(files_processed)\n",
    "            completed_batches += 1\n",
    "        else:\n",
    "            time.sleep(0.1)  # Prevent busy waiting\n",
    "    \n",
    "    # Join all processes\n",
    "    for p in processes:\n",
    "        p.join()\n",
    "    \n",
    "    pbar.close()\n",
    "    print(f\"All batches completed. Processed {total_processed} files.\")\n",
    "    \n",
    "    # Sort batch results by batch_id to ensure deterministic processing\n",
    "    batch_results.sort(key=lambda x: x[0])\n",
    "    \n",
    "    # Now we need to insert all the data into the database\n",
    "    print(\"Inserting data into database...\")\n",
    "    \n",
    "    # First, collect all unique player names across all batches\n",
    "    all_players = set()\n",
    "    for _, batch_data in batch_results:\n",
    "        all_players.update(batch_data['players'])\n",
    "    \n",
    "    # Pre-cache all player IDs\n",
    "    player_id_cache = get_player_id_cache(main_conn, all_players)\n",
    "    \n",
    "    # Now insert all data in batches\n",
    "    cursor = main_conn.cursor()\n",
    "    \n",
    "    # Check for existing games first (to avoid duplicates)\n",
    "    cursor.execute(\"SELECT game_id FROM games\")\n",
    "    existing_games = {row[0] for row in cursor.fetchall()}\n",
    "    \n",
    "    # Insert games\n",
    "    games_data = []\n",
    "    for _, batch_data in batch_results:\n",
    "        for game in batch_data['games']:\n",
    "            if game['game_id'] not in existing_games:\n",
    "                games_data.append((\n",
    "                    game['game_id'], game['session_id'], game['start_date'],\n",
    "                    game['small_blind'], game['big_blind'], game['ante'],\n",
    "                    game['table_name'], game['player_count'], game['is_tournament']\n",
    "                ))\n",
    "    \n",
    "    if games_data:\n",
    "        print(f\"Inserting {len(games_data)} games...\")\n",
    "        cursor.executemany('''\n",
    "            INSERT OR IGNORE INTO games \n",
    "            (game_id, session_id, start_date, small_blind, big_blind, ante, table_name, player_count, is_tournament)\n",
    "            VALUES (?, ?, ?, ?, ?, ?, ?, ?, ?)\n",
    "        ''', games_data)\n",
    "        main_conn.commit()\n",
    "    \n",
    "    # Insert game_players\n",
    "    game_players_data = []\n",
    "    for _, batch_data in batch_results:\n",
    "        for gp in batch_data['game_players']:\n",
    "            player_id = player_id_cache.get(gp['player_name'])\n",
    "            if player_id:\n",
    "                game_players_data.append((\n",
    "                    gp['game_id'], player_id, gp['position'], gp['position_numeric'],\n",
    "                    gp['initial_stack'], gp['is_hero'], gp['is_dealer'],\n",
    "                    gp['final_stack'], gp['total_won'], gp['total_bet']\n",
    "                ))\n",
    "    \n",
    "    if game_players_data:\n",
    "        print(f\"Inserting {len(game_players_data)} game players...\")\n",
    "        cursor.executemany('''\n",
    "            INSERT OR IGNORE INTO game_players\n",
    "            (game_id, player_id, position, position_numeric, initial_stack, \n",
    "             is_hero, is_dealer, final_stack, total_won, total_bet)\n",
    "            VALUES (?, ?, ?, ?, ?, ?, ?, ?, ?, ?)\n",
    "        ''', game_players_data)\n",
    "        main_conn.commit()\n",
    "    \n",
    "    # Insert cards\n",
    "    cards_data = []\n",
    "    for _, batch_data in batch_results:\n",
    "        for card in batch_data['cards']:\n",
    "            player_id = player_id_cache.get(card['player_name']) if card['player_name'] else None\n",
    "            cards_data.append((\n",
    "                card['game_id'], card['card_type'], player_id, card['card_values']\n",
    "            ))\n",
    "    \n",
    "    if cards_data:\n",
    "        print(f\"Inserting {len(cards_data)} cards...\")\n",
    "        cursor.executemany('''\n",
    "            INSERT INTO cards\n",
    "            (game_id, card_type, player_id, card_values)\n",
    "            VALUES (?, ?, ?, ?)\n",
    "        ''', cards_data)\n",
    "        main_conn.commit()\n",
    "    \n",
    "    # Insert actions in batches (to avoid excessive memory usage)\n",
    "    actions_batch_size = 50000\n",
    "    total_actions = sum(len(batch_data['actions']) for _, batch_data in batch_results)\n",
    "    actions_inserted = 0\n",
    "    \n",
    "    print(f\"Inserting {total_actions} actions in batches...\")\n",
    "    pbar = tqdm(total=total_actions, desc=\"Inserting actions\")\n",
    "    \n",
    "    for _, batch_data in batch_results:\n",
    "        actions_data = []\n",
    "        for action in batch_data['actions']:\n",
    "            player_id = player_id_cache.get(action['player_name'])\n",
    "            if player_id:\n",
    "                actions_data.append((\n",
    "                    action['game_id'], player_id, action['action_round'], action['action_type'],\n",
    "                    action['simple_action_type'], action['action_sum'], action['action_order'],\n",
    "                    action['pot_before_action'], action['players_remaining']\n",
    "                ))\n",
    "            \n",
    "            # Insert in sub-batches to manage memory\n",
    "            if len(actions_data) >= actions_batch_size:\n",
    "                cursor.executemany('''\n",
    "                    INSERT INTO actions\n",
    "                    (game_id, player_id, action_round, action_type, simple_action_type, \n",
    "                     action_sum, action_order, pot_before_action, players_remaining)\n",
    "                    VALUES (?, ?, ?, ?, ?, ?, ?, ?, ?)\n",
    "                ''', actions_data)\n",
    "                main_conn.commit()\n",
    "                actions_inserted += len(actions_data)\n",
    "                pbar.update(len(actions_data))\n",
    "                actions_data = []\n",
    "        \n",
    "        # Insert any remaining actions\n",
    "        if actions_data:\n",
    "            cursor.executemany('''\n",
    "                INSERT INTO actions\n",
    "                (game_id, player_id, action_round, action_type, simple_action_type, \n",
    "                 action_sum, action_order, pot_before_action, players_remaining)\n",
    "                VALUES (?, ?, ?, ?, ?, ?, ?, ?, ?)\n",
    "            ''', actions_data)\n",
    "            main_conn.commit()\n",
    "            actions_inserted += len(actions_data)\n",
    "            pbar.update(len(actions_data))\n",
    "    \n",
    "    pbar.close()\n",
    "    \n",
    "    # Now add indexes after all data is inserted\n",
    "    print(\"Adding indexes...\")\n",
    "    cursor.execute('CREATE INDEX IF NOT EXISTS idx_game_id ON actions(game_id)')\n",
    "    cursor.execute('CREATE INDEX IF NOT EXISTS idx_player_id ON actions(player_id)')\n",
    "    cursor.execute('CREATE INDEX IF NOT EXISTS idx_action_type ON actions(simple_action_type)')\n",
    "    cursor.execute('CREATE INDEX IF NOT EXISTS idx_game_players ON game_players(game_id, player_id)')\n",
    "    main_conn.commit()\n",
    "    \n",
    "    # Optimize database\n",
    "    print(\"Optimizing database...\")\n",
    "    cursor.execute('PRAGMA optimize')\n",
    "    main_conn.commit()\n",
    "    \n",
    "    main_conn.close()\n",
    "    print(f\"Processing complete. Inserted data for {total_processed} files.\")"
   ]
  },
  {
   "cell_type": "markdown",
   "metadata": {},
   "source": [
    "## Main Processing Function"
   ]
  },
  {
   "cell_type": "code",
   "execution_count": 9,
   "metadata": {},
   "outputs": [
    {
     "name": "stdout",
     "output_type": "stream",
     "text": [
      "Found 10056 XML files to process\n",
      "Database schema created at poker_analysis_optimized.db\n",
      "Processing 10056 files in 31 batches with 15 workers\n"
     ]
    },
    {
     "ename": "BrokenPipeError",
     "evalue": "[Errno 32] Broken pipe",
     "output_type": "error",
     "traceback": [
      "\u001b[1;31m---------------------------------------------------------------------------\u001b[0m",
      "\u001b[1;31mBrokenPipeError\u001b[0m                           Traceback (most recent call last)",
      "\u001b[1;32m~\\AppData\\Local\\Temp\\ipykernel_23276\\1625406207.py\u001b[0m in \u001b[0;36m<module>\u001b[1;34m\u001b[0m\n\u001b[0;32m     40\u001b[0m \u001b[1;33m\u001b[0m\u001b[0m\n\u001b[0;32m     41\u001b[0m \u001b[1;32mif\u001b[0m \u001b[0m__name__\u001b[0m \u001b[1;33m==\u001b[0m \u001b[1;34m\"__main__\"\u001b[0m\u001b[1;33m:\u001b[0m\u001b[1;33m\u001b[0m\u001b[1;33m\u001b[0m\u001b[0m\n\u001b[1;32m---> 42\u001b[1;33m     \u001b[0mmain\u001b[0m\u001b[1;33m(\u001b[0m\u001b[1;33m)\u001b[0m\u001b[1;33m\u001b[0m\u001b[1;33m\u001b[0m\u001b[0m\n\u001b[0m",
      "\u001b[1;32m~\\AppData\\Local\\Temp\\ipykernel_23276\\1625406207.py\u001b[0m in \u001b[0;36mmain\u001b[1;34m()\u001b[0m\n\u001b[0;32m     31\u001b[0m \u001b[1;33m\u001b[0m\u001b[0m\n\u001b[0;32m     32\u001b[0m     \u001b[1;31m# Process files with optimized code\u001b[0m\u001b[1;33m\u001b[0m\u001b[1;33m\u001b[0m\u001b[1;33m\u001b[0m\u001b[0m\n\u001b[1;32m---> 33\u001b[1;33m     \u001b[0mprocess_directory\u001b[0m\u001b[1;33m(\u001b[0m\u001b[0mxml_folder\u001b[0m\u001b[1;33m,\u001b[0m \u001b[0mdb_path\u001b[0m\u001b[1;33m,\u001b[0m \u001b[0mlimit\u001b[0m\u001b[1;33m=\u001b[0m\u001b[1;32mNone\u001b[0m\u001b[1;33m)\u001b[0m  \u001b[1;31m# Set a limit or None for all files\u001b[0m\u001b[1;33m\u001b[0m\u001b[1;33m\u001b[0m\u001b[0m\n\u001b[0m\u001b[0;32m     34\u001b[0m \u001b[1;33m\u001b[0m\u001b[0m\n\u001b[0;32m     35\u001b[0m     \u001b[1;31m# Create frequency lookup table\u001b[0m\u001b[1;33m\u001b[0m\u001b[1;33m\u001b[0m\u001b[1;33m\u001b[0m\u001b[0m\n",
      "\u001b[1;32m~\\AppData\\Local\\Temp\\ipykernel_23276\\1625406207.py\u001b[0m in \u001b[0;36mprocess_directory\u001b[1;34m(directory_path, db_path, limit)\u001b[0m\n\u001b[0;32m     18\u001b[0m \u001b[1;33m\u001b[0m\u001b[0m\n\u001b[0;32m     19\u001b[0m     \u001b[1;31m# Process files in parallel\u001b[0m\u001b[1;33m\u001b[0m\u001b[1;33m\u001b[0m\u001b[1;33m\u001b[0m\u001b[0m\n\u001b[1;32m---> 20\u001b[1;33m     \u001b[0mprocess_files_parallel\u001b[0m\u001b[1;33m(\u001b[0m\u001b[0mxml_files\u001b[0m\u001b[1;33m,\u001b[0m \u001b[0mdb_path\u001b[0m\u001b[1;33m)\u001b[0m\u001b[1;33m\u001b[0m\u001b[1;33m\u001b[0m\u001b[0m\n\u001b[0m\u001b[0;32m     21\u001b[0m \u001b[1;33m\u001b[0m\u001b[0m\n\u001b[0;32m     22\u001b[0m     \u001b[0mend_time\u001b[0m \u001b[1;33m=\u001b[0m \u001b[0mtime\u001b[0m\u001b[1;33m.\u001b[0m\u001b[0mtime\u001b[0m\u001b[1;33m(\u001b[0m\u001b[1;33m)\u001b[0m\u001b[1;33m\u001b[0m\u001b[1;33m\u001b[0m\u001b[0m\n",
      "\u001b[1;32m~\\AppData\\Local\\Temp\\ipykernel_23276\\3865683284.py\u001b[0m in \u001b[0;36mprocess_files_parallel\u001b[1;34m(xml_files, db_path, max_workers)\u001b[0m\n\u001b[0;32m     34\u001b[0m         )\n\u001b[0;32m     35\u001b[0m         \u001b[0mprocesses\u001b[0m\u001b[1;33m.\u001b[0m\u001b[0mappend\u001b[0m\u001b[1;33m(\u001b[0m\u001b[0mp\u001b[0m\u001b[1;33m)\u001b[0m\u001b[1;33m\u001b[0m\u001b[1;33m\u001b[0m\u001b[0m\n\u001b[1;32m---> 36\u001b[1;33m         \u001b[0mp\u001b[0m\u001b[1;33m.\u001b[0m\u001b[0mstart\u001b[0m\u001b[1;33m(\u001b[0m\u001b[1;33m)\u001b[0m\u001b[1;33m\u001b[0m\u001b[1;33m\u001b[0m\u001b[0m\n\u001b[0m\u001b[0;32m     37\u001b[0m \u001b[1;33m\u001b[0m\u001b[0m\n\u001b[0;32m     38\u001b[0m     \u001b[1;31m# Monitor progress and collect results\u001b[0m\u001b[1;33m\u001b[0m\u001b[1;33m\u001b[0m\u001b[1;33m\u001b[0m\u001b[0m\n",
      "\u001b[1;32mc:\\Users\\j4829\\.conda\\envs\\tf\\lib\\multiprocessing\\process.py\u001b[0m in \u001b[0;36mstart\u001b[1;34m(self)\u001b[0m\n\u001b[0;32m    110\u001b[0m                \u001b[1;34m'daemonic processes are not allowed to have children'\u001b[0m\u001b[1;33m\u001b[0m\u001b[1;33m\u001b[0m\u001b[0m\n\u001b[0;32m    111\u001b[0m         \u001b[0m_cleanup\u001b[0m\u001b[1;33m(\u001b[0m\u001b[1;33m)\u001b[0m\u001b[1;33m\u001b[0m\u001b[1;33m\u001b[0m\u001b[0m\n\u001b[1;32m--> 112\u001b[1;33m         \u001b[0mself\u001b[0m\u001b[1;33m.\u001b[0m\u001b[0m_popen\u001b[0m \u001b[1;33m=\u001b[0m \u001b[0mself\u001b[0m\u001b[1;33m.\u001b[0m\u001b[0m_Popen\u001b[0m\u001b[1;33m(\u001b[0m\u001b[0mself\u001b[0m\u001b[1;33m)\u001b[0m\u001b[1;33m\u001b[0m\u001b[1;33m\u001b[0m\u001b[0m\n\u001b[0m\u001b[0;32m    113\u001b[0m         \u001b[0mself\u001b[0m\u001b[1;33m.\u001b[0m\u001b[0m_sentinel\u001b[0m \u001b[1;33m=\u001b[0m \u001b[0mself\u001b[0m\u001b[1;33m.\u001b[0m\u001b[0m_popen\u001b[0m\u001b[1;33m.\u001b[0m\u001b[0msentinel\u001b[0m\u001b[1;33m\u001b[0m\u001b[1;33m\u001b[0m\u001b[0m\n\u001b[0;32m    114\u001b[0m         \u001b[1;31m# Avoid a refcycle if the target function holds an indirect\u001b[0m\u001b[1;33m\u001b[0m\u001b[1;33m\u001b[0m\u001b[1;33m\u001b[0m\u001b[0m\n",
      "\u001b[1;32mc:\\Users\\j4829\\.conda\\envs\\tf\\lib\\multiprocessing\\context.py\u001b[0m in \u001b[0;36m_Popen\u001b[1;34m(process_obj)\u001b[0m\n\u001b[0;32m    221\u001b[0m     \u001b[1;33m@\u001b[0m\u001b[0mstaticmethod\u001b[0m\u001b[1;33m\u001b[0m\u001b[1;33m\u001b[0m\u001b[0m\n\u001b[0;32m    222\u001b[0m     \u001b[1;32mdef\u001b[0m \u001b[0m_Popen\u001b[0m\u001b[1;33m(\u001b[0m\u001b[0mprocess_obj\u001b[0m\u001b[1;33m)\u001b[0m\u001b[1;33m:\u001b[0m\u001b[1;33m\u001b[0m\u001b[1;33m\u001b[0m\u001b[0m\n\u001b[1;32m--> 223\u001b[1;33m         \u001b[1;32mreturn\u001b[0m \u001b[0m_default_context\u001b[0m\u001b[1;33m.\u001b[0m\u001b[0mget_context\u001b[0m\u001b[1;33m(\u001b[0m\u001b[1;33m)\u001b[0m\u001b[1;33m.\u001b[0m\u001b[0mProcess\u001b[0m\u001b[1;33m.\u001b[0m\u001b[0m_Popen\u001b[0m\u001b[1;33m(\u001b[0m\u001b[0mprocess_obj\u001b[0m\u001b[1;33m)\u001b[0m\u001b[1;33m\u001b[0m\u001b[1;33m\u001b[0m\u001b[0m\n\u001b[0m\u001b[0;32m    224\u001b[0m \u001b[1;33m\u001b[0m\u001b[0m\n\u001b[0;32m    225\u001b[0m \u001b[1;32mclass\u001b[0m \u001b[0mDefaultContext\u001b[0m\u001b[1;33m(\u001b[0m\u001b[0mBaseContext\u001b[0m\u001b[1;33m)\u001b[0m\u001b[1;33m:\u001b[0m\u001b[1;33m\u001b[0m\u001b[1;33m\u001b[0m\u001b[0m\n",
      "\u001b[1;32mc:\\Users\\j4829\\.conda\\envs\\tf\\lib\\multiprocessing\\context.py\u001b[0m in \u001b[0;36m_Popen\u001b[1;34m(process_obj)\u001b[0m\n\u001b[0;32m    320\u001b[0m         \u001b[1;32mdef\u001b[0m \u001b[0m_Popen\u001b[0m\u001b[1;33m(\u001b[0m\u001b[0mprocess_obj\u001b[0m\u001b[1;33m)\u001b[0m\u001b[1;33m:\u001b[0m\u001b[1;33m\u001b[0m\u001b[1;33m\u001b[0m\u001b[0m\n\u001b[0;32m    321\u001b[0m             \u001b[1;32mfrom\u001b[0m \u001b[1;33m.\u001b[0m\u001b[0mpopen_spawn_win32\u001b[0m \u001b[1;32mimport\u001b[0m \u001b[0mPopen\u001b[0m\u001b[1;33m\u001b[0m\u001b[1;33m\u001b[0m\u001b[0m\n\u001b[1;32m--> 322\u001b[1;33m             \u001b[1;32mreturn\u001b[0m \u001b[0mPopen\u001b[0m\u001b[1;33m(\u001b[0m\u001b[0mprocess_obj\u001b[0m\u001b[1;33m)\u001b[0m\u001b[1;33m\u001b[0m\u001b[1;33m\u001b[0m\u001b[0m\n\u001b[0m\u001b[0;32m    323\u001b[0m \u001b[1;33m\u001b[0m\u001b[0m\n\u001b[0;32m    324\u001b[0m     \u001b[1;32mclass\u001b[0m \u001b[0mSpawnContext\u001b[0m\u001b[1;33m(\u001b[0m\u001b[0mBaseContext\u001b[0m\u001b[1;33m)\u001b[0m\u001b[1;33m:\u001b[0m\u001b[1;33m\u001b[0m\u001b[1;33m\u001b[0m\u001b[0m\n",
      "\u001b[1;32mc:\\Users\\j4829\\.conda\\envs\\tf\\lib\\multiprocessing\\popen_spawn_win32.py\u001b[0m in \u001b[0;36m__init__\u001b[1;34m(self, process_obj)\u001b[0m\n\u001b[0;32m     87\u001b[0m             \u001b[1;32mtry\u001b[0m\u001b[1;33m:\u001b[0m\u001b[1;33m\u001b[0m\u001b[1;33m\u001b[0m\u001b[0m\n\u001b[0;32m     88\u001b[0m                 \u001b[0mreduction\u001b[0m\u001b[1;33m.\u001b[0m\u001b[0mdump\u001b[0m\u001b[1;33m(\u001b[0m\u001b[0mprep_data\u001b[0m\u001b[1;33m,\u001b[0m \u001b[0mto_child\u001b[0m\u001b[1;33m)\u001b[0m\u001b[1;33m\u001b[0m\u001b[1;33m\u001b[0m\u001b[0m\n\u001b[1;32m---> 89\u001b[1;33m                 \u001b[0mreduction\u001b[0m\u001b[1;33m.\u001b[0m\u001b[0mdump\u001b[0m\u001b[1;33m(\u001b[0m\u001b[0mprocess_obj\u001b[0m\u001b[1;33m,\u001b[0m \u001b[0mto_child\u001b[0m\u001b[1;33m)\u001b[0m\u001b[1;33m\u001b[0m\u001b[1;33m\u001b[0m\u001b[0m\n\u001b[0m\u001b[0;32m     90\u001b[0m             \u001b[1;32mfinally\u001b[0m\u001b[1;33m:\u001b[0m\u001b[1;33m\u001b[0m\u001b[1;33m\u001b[0m\u001b[0m\n\u001b[0;32m     91\u001b[0m                 \u001b[0mset_spawning_popen\u001b[0m\u001b[1;33m(\u001b[0m\u001b[1;32mNone\u001b[0m\u001b[1;33m)\u001b[0m\u001b[1;33m\u001b[0m\u001b[1;33m\u001b[0m\u001b[0m\n",
      "\u001b[1;32mc:\\Users\\j4829\\.conda\\envs\\tf\\lib\\multiprocessing\\reduction.py\u001b[0m in \u001b[0;36mdump\u001b[1;34m(obj, file, protocol)\u001b[0m\n\u001b[0;32m     58\u001b[0m \u001b[1;32mdef\u001b[0m \u001b[0mdump\u001b[0m\u001b[1;33m(\u001b[0m\u001b[0mobj\u001b[0m\u001b[1;33m,\u001b[0m \u001b[0mfile\u001b[0m\u001b[1;33m,\u001b[0m \u001b[0mprotocol\u001b[0m\u001b[1;33m=\u001b[0m\u001b[1;32mNone\u001b[0m\u001b[1;33m)\u001b[0m\u001b[1;33m:\u001b[0m\u001b[1;33m\u001b[0m\u001b[1;33m\u001b[0m\u001b[0m\n\u001b[0;32m     59\u001b[0m     \u001b[1;34m'''Replacement for pickle.dump() using ForkingPickler.'''\u001b[0m\u001b[1;33m\u001b[0m\u001b[1;33m\u001b[0m\u001b[0m\n\u001b[1;32m---> 60\u001b[1;33m     \u001b[0mForkingPickler\u001b[0m\u001b[1;33m(\u001b[0m\u001b[0mfile\u001b[0m\u001b[1;33m,\u001b[0m \u001b[0mprotocol\u001b[0m\u001b[1;33m)\u001b[0m\u001b[1;33m.\u001b[0m\u001b[0mdump\u001b[0m\u001b[1;33m(\u001b[0m\u001b[0mobj\u001b[0m\u001b[1;33m)\u001b[0m\u001b[1;33m\u001b[0m\u001b[1;33m\u001b[0m\u001b[0m\n\u001b[0m\u001b[0;32m     61\u001b[0m \u001b[1;33m\u001b[0m\u001b[0m\n\u001b[0;32m     62\u001b[0m \u001b[1;31m#\u001b[0m\u001b[1;33m\u001b[0m\u001b[1;33m\u001b[0m\u001b[1;33m\u001b[0m\u001b[0m\n",
      "\u001b[1;31mBrokenPipeError\u001b[0m: [Errno 32] Broken pipe"
     ]
    }
   ],
   "source": [
    "def process_directory(directory_path, db_path, limit=None):\n",
    "    \"\"\"Process all XML files in a directory and store them in the database\"\"\"\n",
    "    start_time = time.time()\n",
    "    \n",
    "    # Get all XML files\n",
    "    xml_files = []\n",
    "    for root, _, files in os.walk(directory_path):\n",
    "        for file in files:\n",
    "            if file.endswith(\".xml\"):\n",
    "                xml_files.append(os.path.join(root, file))\n",
    "    \n",
    "    # Limit files if requested\n",
    "    if limit and limit > 0:\n",
    "        if limit < len(xml_files):\n",
    "            xml_files = xml_files[:limit]\n",
    "    \n",
    "    print(f\"Found {len(xml_files)} XML files to process\")\n",
    "    \n",
    "    # Process files in parallel\n",
    "    process_files_parallel(xml_files, db_path)\n",
    "    \n",
    "    end_time = time.time()\n",
    "    print(f\"Total processing time: {end_time - start_time:.2f} seconds\")\n",
    "\n",
    "def main():\n",
    "    \"\"\"Main function to demonstrate the workflow\"\"\"\n",
    "    # Configuration\n",
    "    db_path = \"poker_analysis_optimized.db\"\n",
    "    xml_folder = \"ipoker_hh_test\"  # Folder containing XML files\n",
    "    frequency_table_path = \"frequency_lookup_table.json\"\n",
    "    \n",
    "    # Process files with optimized code\n",
    "    process_directory(xml_folder, db_path, limit=None)  # Set a limit or None for all files\n",
    "    \n",
    "    # Create frequency lookup table \n",
    "    # (This would need to be updated to use the optimized connection)\n",
    "    # create_frequency_lookup_table(db_path, frequency_table_path)\n",
    "    \n",
    "    print(\"Processing complete!\")\n",
    "\n",
    "if __name__ == \"__main__\":\n",
    "    main()"
   ]
  },
  {
   "cell_type": "code",
   "execution_count": 12,
   "metadata": {},
   "outputs": [
    {
     "name": "stdout",
     "output_type": "stream",
     "text": [
      "Found 10056 XML files to process\n",
      "Processing with 16 threads in 202 chunks\n",
      "Processing chunk 1/202 (50 files)\n"
     ]
    },
    {
     "name": "stderr",
     "output_type": "stream",
     "text": [
      "Processing XML files: 100%|██████████| 50/50 [00:00<00:00, 519.09it/s]\n"
     ]
    },
    {
     "name": "stdout",
     "output_type": "stream",
     "text": [
      "Inserting 1980 game players...\n",
      "Inserting 3080 cards...\n",
      "Inserting 6661 actions in smaller batches...\n"
     ]
    },
    {
     "name": "stderr",
     "output_type": "stream",
     "text": [
      "Inserting actions: 100%|██████████| 6661/6661 [00:00<00:00, 172389.22it/s]\n"
     ]
    },
    {
     "name": "stdout",
     "output_type": "stream",
     "text": [
      "Chunk complete in 0.23s. Progress: 50/10056 files, 50 successful, 0 games, 6661 actions\n",
      "Processing chunk 2/202 (50 files)\n"
     ]
    },
    {
     "name": "stderr",
     "output_type": "stream",
     "text": [
      "Processing XML files: 100%|██████████| 50/50 [00:00<00:00, 81506.10it/s]\n"
     ]
    },
    {
     "name": "stdout",
     "output_type": "stream",
     "text": [
      "Inserting 1739 game players...\n",
      "Inserting 2737 cards...\n",
      "Inserting 5840 actions in smaller batches...\n"
     ]
    },
    {
     "name": "stderr",
     "output_type": "stream",
     "text": [
      "Inserting actions: 100%|██████████| 5840/5840 [00:00<00:00, 198374.88it/s]\n"
     ]
    },
    {
     "name": "stdout",
     "output_type": "stream",
     "text": [
      "Chunk complete in 0.20s. Progress: 100/10056 files, 100 successful, 0 games, 12501 actions\n",
      "Processing chunk 3/202 (50 files)\n"
     ]
    },
    {
     "name": "stderr",
     "output_type": "stream",
     "text": [
      "Processing XML files: 100%|██████████| 50/50 [00:00<00:00, 16306.29it/s]\n"
     ]
    },
    {
     "name": "stdout",
     "output_type": "stream",
     "text": [
      "Inserting 1942 game players...\n",
      "Inserting 3014 cards...\n",
      "Inserting 6552 actions in smaller batches...\n"
     ]
    },
    {
     "name": "stderr",
     "output_type": "stream",
     "text": [
      "Inserting actions: 100%|██████████| 6552/6552 [00:00<00:00, 8839.27it/s]\n"
     ]
    },
    {
     "name": "stdout",
     "output_type": "stream",
     "text": [
      "Chunk complete in 0.93s. Progress: 150/10056 files, 150 successful, 0 games, 19053 actions\n",
      "Processing chunk 4/202 (50 files)\n"
     ]
    },
    {
     "name": "stderr",
     "output_type": "stream",
     "text": [
      "Processing XML files: 100%|██████████| 50/50 [00:00<00:00, 27182.79it/s]\n"
     ]
    },
    {
     "name": "stdout",
     "output_type": "stream",
     "text": [
      "Inserting 1910 game players...\n",
      "Inserting 2939 cards...\n",
      "Inserting 6356 actions in smaller batches...\n"
     ]
    },
    {
     "name": "stderr",
     "output_type": "stream",
     "text": [
      "Inserting actions: 100%|██████████| 6356/6356 [00:00<00:00, 199288.31it/s]\n"
     ]
    },
    {
     "name": "stdout",
     "output_type": "stream",
     "text": [
      "Chunk complete in 0.26s. Progress: 200/10056 files, 200 successful, 0 games, 25409 actions\n",
      "Processing chunk 5/202 (50 files)\n"
     ]
    },
    {
     "name": "stderr",
     "output_type": "stream",
     "text": [
      "Processing XML files: 100%|██████████| 50/50 [00:00<00:00, 4808.77it/s]\n"
     ]
    },
    {
     "name": "stdout",
     "output_type": "stream",
     "text": [
      "Inserting 2165 game players...\n",
      "Inserting 3356 cards...\n",
      "Inserting 7402 actions in smaller batches...\n"
     ]
    },
    {
     "name": "stderr",
     "output_type": "stream",
     "text": [
      "Inserting actions: 100%|██████████| 7402/7402 [00:00<00:00, 10957.18it/s]\n"
     ]
    },
    {
     "name": "stdout",
     "output_type": "stream",
     "text": [
      "Chunk complete in 0.90s. Progress: 250/10056 files, 250 successful, 0 games, 32811 actions\n",
      "Processing chunk 6/202 (50 files)\n"
     ]
    },
    {
     "name": "stderr",
     "output_type": "stream",
     "text": [
      "Processing XML files: 100%|██████████| 50/50 [00:00<00:00, 2811.04it/s]\n"
     ]
    },
    {
     "name": "stdout",
     "output_type": "stream",
     "text": [
      "Inserting 1770 game players...\n",
      "Inserting 2843 cards...\n",
      "Inserting 6215 actions in smaller batches...\n"
     ]
    },
    {
     "name": "stderr",
     "output_type": "stream",
     "text": [
      "Inserting actions: 100%|██████████| 6215/6215 [00:00<00:00, 187651.44it/s]\n"
     ]
    },
    {
     "name": "stdout",
     "output_type": "stream",
     "text": [
      "Chunk complete in 0.24s. Progress: 300/10056 files, 300 successful, 0 games, 39026 actions\n",
      "Processing chunk 7/202 (50 files)\n"
     ]
    },
    {
     "name": "stderr",
     "output_type": "stream",
     "text": [
      "Processing XML files: 100%|██████████| 50/50 [00:00<00:00, 1216.99it/s]"
     ]
    },
    {
     "name": "stdout",
     "output_type": "stream",
     "text": [
      "Inserting 2054 game players...\n"
     ]
    },
    {
     "name": "stderr",
     "output_type": "stream",
     "text": [
      "\n"
     ]
    },
    {
     "name": "stdout",
     "output_type": "stream",
     "text": [
      "Inserting 3196 cards...\n",
      "Inserting 6929 actions in smaller batches...\n"
     ]
    },
    {
     "name": "stderr",
     "output_type": "stream",
     "text": [
      "Inserting actions: 100%|██████████| 6929/6929 [00:00<00:00, 191480.48it/s]\n"
     ]
    },
    {
     "name": "stdout",
     "output_type": "stream",
     "text": [
      "Chunk complete in 0.23s. Progress: 350/10056 files, 350 successful, 0 games, 45955 actions\n",
      "Processing chunk 8/202 (50 files)\n"
     ]
    },
    {
     "name": "stderr",
     "output_type": "stream",
     "text": [
      "Processing XML files: 100%|██████████| 50/50 [00:00<00:00, 1429.19it/s]\n"
     ]
    },
    {
     "name": "stdout",
     "output_type": "stream",
     "text": [
      "Inserting 1748 game players...\n",
      "Inserting 2676 cards...\n",
      "Inserting 5822 actions in smaller batches...\n"
     ]
    },
    {
     "name": "stderr",
     "output_type": "stream",
     "text": [
      "Inserting actions: 100%|██████████| 5822/5822 [00:00<00:00, 8256.48it/s]\n"
     ]
    },
    {
     "name": "stdout",
     "output_type": "stream",
     "text": [
      "Chunk complete in 0.88s. Progress: 400/10056 files, 400 successful, 0 games, 51777 actions\n",
      "Processing chunk 9/202 (50 files)\n"
     ]
    },
    {
     "name": "stderr",
     "output_type": "stream",
     "text": [
      "Processing XML files: 100%|██████████| 50/50 [00:00<00:00, 1336.74it/s]\n"
     ]
    },
    {
     "name": "stdout",
     "output_type": "stream",
     "text": [
      "Inserting 1981 game players...\n",
      "Inserting 3014 cards...\n",
      "Inserting 6583 actions in smaller batches...\n"
     ]
    },
    {
     "name": "stderr",
     "output_type": "stream",
     "text": [
      "Inserting actions: 100%|██████████| 6583/6583 [00:00<00:00, 194984.03it/s]\n"
     ]
    },
    {
     "name": "stdout",
     "output_type": "stream",
     "text": [
      "Chunk complete in 0.23s. Progress: 450/10056 files, 450 successful, 0 games, 58360 actions\n",
      "Processing chunk 10/202 (50 files)\n"
     ]
    },
    {
     "name": "stderr",
     "output_type": "stream",
     "text": [
      "Processing XML files: 100%|██████████| 50/50 [00:00<00:00, 1116.37it/s]\n"
     ]
    },
    {
     "name": "stdout",
     "output_type": "stream",
     "text": [
      "Inserting 1903 game players...\n",
      "Inserting 2909 cards...\n",
      "Inserting 6283 actions in smaller batches...\n"
     ]
    },
    {
     "name": "stderr",
     "output_type": "stream",
     "text": [
      "Inserting actions: 100%|██████████| 6283/6283 [00:00<00:00, 8467.27it/s]\n"
     ]
    },
    {
     "name": "stdout",
     "output_type": "stream",
     "text": [
      "Chunk complete in 0.92s. Progress: 500/10056 files, 500 successful, 0 games, 64643 actions\n",
      "Processing chunk 11/202 (50 files)\n"
     ]
    },
    {
     "name": "stderr",
     "output_type": "stream",
     "text": [
      "Processing XML files: 100%|██████████| 50/50 [00:00<00:00, 2633.06it/s]\n"
     ]
    },
    {
     "name": "stdout",
     "output_type": "stream",
     "text": [
      "Inserting 1919 game players...\n",
      "Inserting 2983 cards...\n",
      "Inserting 6274 actions in smaller batches...\n"
     ]
    },
    {
     "name": "stderr",
     "output_type": "stream",
     "text": [
      "Inserting actions: 100%|██████████| 6274/6274 [00:00<00:00, 192840.86it/s]\n"
     ]
    },
    {
     "name": "stdout",
     "output_type": "stream",
     "text": [
      "Chunk complete in 0.25s. Progress: 550/10056 files, 550 successful, 0 games, 70917 actions\n",
      "Processing chunk 12/202 (50 files)\n"
     ]
    },
    {
     "name": "stderr",
     "output_type": "stream",
     "text": [
      "Processing XML files: 100%|██████████| 50/50 [00:00<00:00, 516.09it/s]\n"
     ]
    },
    {
     "name": "stdout",
     "output_type": "stream",
     "text": [
      "Inserting 2188 game players...\n",
      "Inserting 3373 cards...\n",
      "Inserting 7330 actions in smaller batches...\n"
     ]
    },
    {
     "name": "stderr",
     "output_type": "stream",
     "text": [
      "Inserting actions: 100%|██████████| 7330/7330 [00:00<00:00, 199165.93it/s]\n"
     ]
    },
    {
     "name": "stdout",
     "output_type": "stream",
     "text": [
      "Chunk complete in 0.25s. Progress: 600/10056 files, 600 successful, 0 games, 78247 actions\n",
      "Processing chunk 13/202 (50 files)\n"
     ]
    },
    {
     "name": "stderr",
     "output_type": "stream",
     "text": [
      "Processing XML files: 100%|██████████| 50/50 [00:00<00:00, 3014.93it/s]\n"
     ]
    },
    {
     "name": "stdout",
     "output_type": "stream",
     "text": [
      "Inserting 1992 game players...\n",
      "Inserting 3065 cards...\n",
      "Inserting 6670 actions in smaller batches...\n"
     ]
    },
    {
     "name": "stderr",
     "output_type": "stream",
     "text": [
      "Inserting actions: 100%|██████████| 6670/6670 [00:00<00:00, 8390.94it/s]\n"
     ]
    },
    {
     "name": "stdout",
     "output_type": "stream",
     "text": [
      "Chunk complete in 0.99s. Progress: 650/10056 files, 650 successful, 0 games, 84917 actions\n",
      "Processing chunk 14/202 (50 files)\n"
     ]
    },
    {
     "name": "stderr",
     "output_type": "stream",
     "text": [
      "Processing XML files: 100%|██████████| 50/50 [00:00<00:00, 1019.09it/s]\n"
     ]
    },
    {
     "name": "stdout",
     "output_type": "stream",
     "text": [
      "Inserting 1999 game players...\n",
      "Inserting 3090 cards...\n",
      "Inserting 6616 actions in smaller batches...\n"
     ]
    },
    {
     "name": "stderr",
     "output_type": "stream",
     "text": [
      "Inserting actions: 100%|██████████| 6616/6616 [00:00<00:00, 182826.01it/s]\n"
     ]
    },
    {
     "name": "stdout",
     "output_type": "stream",
     "text": [
      "Chunk complete in 0.23s. Progress: 700/10056 files, 700 successful, 0 games, 91533 actions\n",
      "Processing chunk 15/202 (50 files)\n"
     ]
    },
    {
     "name": "stderr",
     "output_type": "stream",
     "text": [
      "Processing XML files: 100%|██████████| 50/50 [00:00<00:00, 640.98it/s]\n"
     ]
    },
    {
     "name": "stdout",
     "output_type": "stream",
     "text": [
      "Inserting 1984 game players...\n",
      "Inserting 3002 cards...\n",
      "Inserting 6512 actions in smaller batches...\n"
     ]
    },
    {
     "name": "stderr",
     "output_type": "stream",
     "text": [
      "Inserting actions: 100%|██████████| 6512/6512 [00:00<00:00, 9569.96it/s]\n"
     ]
    },
    {
     "name": "stdout",
     "output_type": "stream",
     "text": [
      "Chunk complete in 0.87s. Progress: 750/10056 files, 750 successful, 0 games, 98045 actions\n",
      "Processing chunk 16/202 (50 files)\n"
     ]
    },
    {
     "name": "stderr",
     "output_type": "stream",
     "text": [
      "Processing XML files: 100%|██████████| 50/50 [00:00<00:00, 761.57it/s]\n"
     ]
    },
    {
     "name": "stdout",
     "output_type": "stream",
     "text": [
      "Inserting 1680 game players...\n",
      "Inserting 2666 cards...\n",
      "Inserting 5720 actions in smaller batches...\n"
     ]
    },
    {
     "name": "stderr",
     "output_type": "stream",
     "text": [
      "Inserting actions: 100%|██████████| 5720/5720 [00:00<00:00, 190332.56it/s]\n"
     ]
    },
    {
     "name": "stdout",
     "output_type": "stream",
     "text": [
      "Chunk complete in 0.21s. Progress: 800/10056 files, 800 successful, 0 games, 103765 actions\n",
      "Processing chunk 17/202 (50 files)\n"
     ]
    },
    {
     "name": "stderr",
     "output_type": "stream",
     "text": [
      "Processing XML files: 100%|██████████| 50/50 [00:00<00:00, 85319.45it/s]\n"
     ]
    },
    {
     "name": "stdout",
     "output_type": "stream",
     "text": [
      "Inserting 1886 game players...\n",
      "Inserting 2949 cards...\n",
      "Inserting 6459 actions in smaller batches...\n"
     ]
    },
    {
     "name": "stderr",
     "output_type": "stream",
     "text": [
      "Inserting actions: 100%|██████████| 6459/6459 [00:00<00:00, 198524.20it/s]\n"
     ]
    },
    {
     "name": "stdout",
     "output_type": "stream",
     "text": [
      "Chunk complete in 0.22s. Progress: 850/10056 files, 850 successful, 0 games, 110224 actions\n",
      "Processing chunk 18/202 (50 files)\n"
     ]
    },
    {
     "name": "stderr",
     "output_type": "stream",
     "text": [
      "Processing XML files: 100%|██████████| 50/50 [00:00<00:00, 550.83it/s]\n"
     ]
    },
    {
     "name": "stdout",
     "output_type": "stream",
     "text": [
      "Inserting 1675 game players...\n",
      "Inserting 2590 cards...\n",
      "Inserting 5497 actions in smaller batches...\n"
     ]
    },
    {
     "name": "stderr",
     "output_type": "stream",
     "text": [
      "Inserting actions: 100%|██████████| 5497/5497 [00:00<00:00, 6213.32it/s]\n"
     ]
    },
    {
     "name": "stdout",
     "output_type": "stream",
     "text": [
      "Chunk complete in 1.05s. Progress: 900/10056 files, 900 successful, 0 games, 115721 actions\n",
      "Processing chunk 19/202 (50 files)\n"
     ]
    },
    {
     "name": "stderr",
     "output_type": "stream",
     "text": [
      "Processing XML files: 100%|██████████| 50/50 [00:00<00:00, 11646.96it/s]\n"
     ]
    },
    {
     "name": "stdout",
     "output_type": "stream",
     "text": [
      "Inserting 1671 game players...\n",
      "Inserting 2600 cards...\n",
      "Inserting 5576 actions in smaller batches...\n"
     ]
    },
    {
     "name": "stderr",
     "output_type": "stream",
     "text": [
      "Inserting actions: 100%|██████████| 5576/5576 [00:00<00:00, 146633.39it/s]\n"
     ]
    },
    {
     "name": "stdout",
     "output_type": "stream",
     "text": [
      "Chunk complete in 0.21s. Progress: 950/10056 files, 950 successful, 0 games, 121297 actions\n",
      "Processing chunk 20/202 (50 files)\n"
     ]
    },
    {
     "name": "stderr",
     "output_type": "stream",
     "text": [
      "Processing XML files: 100%|██████████| 50/50 [00:00<00:00, 603.66it/s]\n"
     ]
    },
    {
     "name": "stdout",
     "output_type": "stream",
     "text": [
      "Inserting 1978 game players...\n",
      "Inserting 2978 cards...\n",
      "Inserting 6465 actions in smaller batches...\n"
     ]
    },
    {
     "name": "stderr",
     "output_type": "stream",
     "text": [
      "Inserting actions: 100%|██████████| 6465/6465 [00:00<00:00, 191617.50it/s]\n"
     ]
    },
    {
     "name": "stdout",
     "output_type": "stream",
     "text": [
      "Chunk complete in 0.22s. Progress: 1000/10056 files, 1000 successful, 0 games, 127762 actions\n",
      "Processing chunk 21/202 (50 files)\n"
     ]
    },
    {
     "name": "stderr",
     "output_type": "stream",
     "text": [
      "Processing XML files: 100%|██████████| 50/50 [00:00<00:00, 4291.55it/s]\n"
     ]
    },
    {
     "name": "stdout",
     "output_type": "stream",
     "text": [
      "Inserting 1973 game players...\n",
      "Inserting 3012 cards...\n",
      "Inserting 6494 actions in smaller batches...\n"
     ]
    },
    {
     "name": "stderr",
     "output_type": "stream",
     "text": [
      "Inserting actions: 100%|██████████| 6494/6494 [00:00<00:00, 102105.67it/s]\n"
     ]
    },
    {
     "name": "stdout",
     "output_type": "stream",
     "text": [
      "Chunk complete in 0.96s. Progress: 1050/10056 files, 1050 successful, 0 games, 134256 actions\n",
      "Processing chunk 22/202 (50 files)\n"
     ]
    },
    {
     "name": "stderr",
     "output_type": "stream",
     "text": [
      "Processing XML files: 100%|██████████| 50/50 [00:00<00:00, 85808.18it/s]\n"
     ]
    },
    {
     "name": "stdout",
     "output_type": "stream",
     "text": [
      "Inserting 1839 game players...\n",
      "Inserting 2807 cards...\n",
      "Inserting 6098 actions in smaller batches...\n"
     ]
    },
    {
     "name": "stderr",
     "output_type": "stream",
     "text": [
      "Inserting actions: 100%|██████████| 6098/6098 [00:00<00:00, 177417.53it/s]\n"
     ]
    },
    {
     "name": "stdout",
     "output_type": "stream",
     "text": [
      "Chunk complete in 0.21s. Progress: 1100/10056 files, 1100 successful, 0 games, 140354 actions\n",
      "Processing chunk 23/202 (50 files)\n"
     ]
    },
    {
     "name": "stderr",
     "output_type": "stream",
     "text": [
      "Processing XML files: 100%|██████████| 50/50 [00:00<00:00, 2394.61it/s]\n"
     ]
    },
    {
     "name": "stdout",
     "output_type": "stream",
     "text": [
      "Inserting 1745 game players...\n",
      "Inserting 2776 cards...\n",
      "Inserting 6030 actions in smaller batches...\n"
     ]
    },
    {
     "name": "stderr",
     "output_type": "stream",
     "text": [
      "Inserting actions: 100%|██████████| 6030/6030 [00:00<00:00, 7441.31it/s]\n"
     ]
    },
    {
     "name": "stdout",
     "output_type": "stream",
     "text": [
      "Chunk complete in 0.99s. Progress: 1150/10056 files, 1150 successful, 0 games, 146384 actions\n",
      "Processing chunk 24/202 (50 files)\n"
     ]
    },
    {
     "name": "stderr",
     "output_type": "stream",
     "text": [
      "Processing XML files: 100%|██████████| 50/50 [00:00<00:00, 727.57it/s]\n"
     ]
    },
    {
     "name": "stdout",
     "output_type": "stream",
     "text": [
      "Inserting 1816 game players...\n",
      "Inserting 2774 cards...\n",
      "Inserting 5978 actions in smaller batches...\n"
     ]
    },
    {
     "name": "stderr",
     "output_type": "stream",
     "text": [
      "Inserting actions: 100%|██████████| 5978/5978 [00:00<00:00, 191118.11it/s]\n"
     ]
    },
    {
     "name": "stdout",
     "output_type": "stream",
     "text": [
      "Chunk complete in 0.21s. Progress: 1200/10056 files, 1200 successful, 0 games, 152362 actions\n",
      "Processing chunk 25/202 (50 files)\n"
     ]
    },
    {
     "name": "stderr",
     "output_type": "stream",
     "text": [
      "Processing XML files: 100%|██████████| 50/50 [00:00<00:00, 791.53it/s]\n"
     ]
    },
    {
     "name": "stdout",
     "output_type": "stream",
     "text": [
      "Inserting 2058 game players...\n",
      "Inserting 3141 cards...\n",
      "Inserting 6711 actions in smaller batches...\n"
     ]
    },
    {
     "name": "stderr",
     "output_type": "stream",
     "text": [
      "Inserting actions: 100%|██████████| 6711/6711 [00:00<00:00, 191962.07it/s]\n"
     ]
    },
    {
     "name": "stdout",
     "output_type": "stream",
     "text": [
      "Chunk complete in 0.23s. Progress: 1250/10056 files, 1250 successful, 0 games, 159073 actions\n",
      "Processing chunk 26/202 (50 files)\n"
     ]
    },
    {
     "name": "stderr",
     "output_type": "stream",
     "text": [
      "Processing XML files: 100%|██████████| 50/50 [00:00<00:00, 2090.23it/s]\n"
     ]
    },
    {
     "name": "stdout",
     "output_type": "stream",
     "text": [
      "Inserting 1768 game players...\n",
      "Inserting 2773 cards...\n",
      "Inserting 5977 actions in smaller batches...\n"
     ]
    },
    {
     "name": "stderr",
     "output_type": "stream",
     "text": [
      "Inserting actions: 100%|██████████| 5977/5977 [00:00<00:00, 128223.47it/s]\n"
     ]
    },
    {
     "name": "stdout",
     "output_type": "stream",
     "text": [
      "Chunk complete in 0.86s. Progress: 1300/10056 files, 1300 successful, 0 games, 165050 actions\n",
      "Processing chunk 27/202 (50 files)\n"
     ]
    },
    {
     "name": "stderr",
     "output_type": "stream",
     "text": [
      "Processing XML files: 100%|██████████| 50/50 [00:00<00:00, 915.56it/s]\n"
     ]
    },
    {
     "name": "stdout",
     "output_type": "stream",
     "text": [
      "Inserting 1951 game players...\n",
      "Inserting 3000 cards...\n",
      "Inserting 6655 actions in smaller batches...\n"
     ]
    },
    {
     "name": "stderr",
     "output_type": "stream",
     "text": [
      "Inserting actions: 100%|██████████| 6655/6655 [00:00<00:00, 190351.15it/s]\n"
     ]
    },
    {
     "name": "stdout",
     "output_type": "stream",
     "text": [
      "Chunk complete in 0.22s. Progress: 1350/10056 files, 1350 successful, 0 games, 171705 actions\n",
      "Processing chunk 28/202 (50 files)\n"
     ]
    },
    {
     "name": "stderr",
     "output_type": "stream",
     "text": [
      "Processing XML files: 100%|██████████| 50/50 [00:00<00:00, 2090.42it/s]\n"
     ]
    },
    {
     "name": "stdout",
     "output_type": "stream",
     "text": [
      "Inserting 2045 game players...\n",
      "Inserting 3134 cards...\n",
      "Inserting 6752 actions in smaller batches...\n"
     ]
    },
    {
     "name": "stderr",
     "output_type": "stream",
     "text": [
      "Inserting actions: 100%|██████████| 6752/6752 [00:00<00:00, 8550.18it/s]\n"
     ]
    },
    {
     "name": "stdout",
     "output_type": "stream",
     "text": [
      "Chunk complete in 0.99s. Progress: 1400/10056 files, 1400 successful, 0 games, 178457 actions\n",
      "Processing chunk 29/202 (50 files)\n"
     ]
    },
    {
     "name": "stderr",
     "output_type": "stream",
     "text": [
      "Processing XML files: 100%|██████████| 50/50 [00:00<00:00, 20229.11it/s]\n"
     ]
    },
    {
     "name": "stdout",
     "output_type": "stream",
     "text": [
      "Inserting 1970 game players...\n",
      "Inserting 3030 cards...\n",
      "Inserting 6518 actions in smaller batches...\n"
     ]
    },
    {
     "name": "stderr",
     "output_type": "stream",
     "text": [
      "Inserting actions: 100%|██████████| 6518/6518 [00:00<00:00, 147595.23it/s]\n"
     ]
    },
    {
     "name": "stdout",
     "output_type": "stream",
     "text": [
      "Chunk complete in 0.24s. Progress: 1450/10056 files, 1450 successful, 0 games, 184975 actions\n",
      "Processing chunk 30/202 (50 files)\n"
     ]
    },
    {
     "name": "stderr",
     "output_type": "stream",
     "text": [
      "Processing XML files: 100%|██████████| 50/50 [00:00<00:00, 673.01it/s]\n"
     ]
    },
    {
     "name": "stdout",
     "output_type": "stream",
     "text": [
      "Inserting 2056 game players...\n",
      "Inserting 3164 cards...\n",
      "Inserting 6973 actions in smaller batches...\n"
     ]
    },
    {
     "name": "stderr",
     "output_type": "stream",
     "text": [
      "Inserting actions: 100%|██████████| 6973/6973 [00:00<00:00, 9062.68it/s]\n"
     ]
    },
    {
     "name": "stdout",
     "output_type": "stream",
     "text": [
      "Chunk complete in 0.97s. Progress: 1500/10056 files, 1500 successful, 0 games, 191948 actions\n",
      "Processing chunk 31/202 (50 files)\n"
     ]
    },
    {
     "name": "stderr",
     "output_type": "stream",
     "text": [
      "Processing XML files: 100%|██████████| 50/50 [00:00<00:00, 424.05it/s]\n"
     ]
    },
    {
     "name": "stdout",
     "output_type": "stream",
     "text": [
      "Inserting 1868 game players...\n",
      "Inserting 2968 cards...\n",
      "Inserting 6351 actions in smaller batches...\n"
     ]
    },
    {
     "name": "stderr",
     "output_type": "stream",
     "text": [
      "Inserting actions: 100%|██████████| 6351/6351 [00:00<00:00, 188116.33it/s]\n"
     ]
    },
    {
     "name": "stdout",
     "output_type": "stream",
     "text": [
      "Chunk complete in 0.28s. Progress: 1550/10056 files, 1550 successful, 0 games, 198299 actions\n",
      "Processing chunk 32/202 (50 files)\n"
     ]
    },
    {
     "name": "stderr",
     "output_type": "stream",
     "text": [
      "Processing XML files: 100%|██████████| 50/50 [00:00<00:00, 590.82it/s]\n"
     ]
    },
    {
     "name": "stdout",
     "output_type": "stream",
     "text": [
      "Inserting 1994 game players...\n",
      "Inserting 3061 cards...\n",
      "Inserting 6776 actions in smaller batches...\n"
     ]
    },
    {
     "name": "stderr",
     "output_type": "stream",
     "text": [
      "Inserting actions: 100%|██████████| 6776/6776 [00:00<00:00, 190481.51it/s]\n"
     ]
    },
    {
     "name": "stdout",
     "output_type": "stream",
     "text": [
      "Chunk complete in 0.23s. Progress: 1600/10056 files, 1600 successful, 0 games, 205075 actions\n",
      "Processing chunk 33/202 (50 files)\n"
     ]
    },
    {
     "name": "stderr",
     "output_type": "stream",
     "text": [
      "Processing XML files: 100%|██████████| 50/50 [00:00<00:00, 937.03it/s]\n"
     ]
    },
    {
     "name": "stdout",
     "output_type": "stream",
     "text": [
      "Inserting 1701 game players...\n",
      "Inserting 2627 cards...\n",
      "Inserting 5644 actions in smaller batches...\n"
     ]
    },
    {
     "name": "stderr",
     "output_type": "stream",
     "text": [
      "Inserting actions: 100%|██████████| 5644/5644 [00:00<00:00, 6907.65it/s]\n"
     ]
    },
    {
     "name": "stdout",
     "output_type": "stream",
     "text": [
      "Chunk complete in 1.00s. Progress: 1650/10056 files, 1650 successful, 0 games, 210719 actions\n",
      "Processing chunk 34/202 (50 files)\n"
     ]
    },
    {
     "name": "stderr",
     "output_type": "stream",
     "text": [
      "Processing XML files: 100%|██████████| 50/50 [00:00<00:00, 5081.17it/s]\n"
     ]
    },
    {
     "name": "stdout",
     "output_type": "stream",
     "text": [
      "Inserting 1860 game players...\n",
      "Inserting 2985 cards...\n",
      "Inserting 6291 actions in smaller batches...\n"
     ]
    },
    {
     "name": "stderr",
     "output_type": "stream",
     "text": [
      "Inserting actions: 100%|██████████| 6291/6291 [00:00<00:00, 180073.61it/s]\n"
     ]
    },
    {
     "name": "stdout",
     "output_type": "stream",
     "text": [
      "Chunk complete in 0.21s. Progress: 1700/10056 files, 1700 successful, 0 games, 217010 actions\n",
      "Processing chunk 35/202 (50 files)\n"
     ]
    },
    {
     "name": "stderr",
     "output_type": "stream",
     "text": [
      "Processing XML files: 100%|██████████| 50/50 [00:00<00:00, 10134.60it/s]\n"
     ]
    },
    {
     "name": "stdout",
     "output_type": "stream",
     "text": [
      "Inserting 2055 game players...\n",
      "Inserting 3179 cards...\n",
      "Inserting 6863 actions in smaller batches...\n"
     ]
    },
    {
     "name": "stderr",
     "output_type": "stream",
     "text": [
      "Inserting actions: 100%|██████████| 6863/6863 [00:00<00:00, 8208.56it/s]\n"
     ]
    },
    {
     "name": "stdout",
     "output_type": "stream",
     "text": [
      "Chunk complete in 1.03s. Progress: 1750/10056 files, 1750 successful, 0 games, 223873 actions\n",
      "Processing chunk 36/202 (50 files)\n"
     ]
    },
    {
     "name": "stderr",
     "output_type": "stream",
     "text": [
      "Processing XML files: 100%|██████████| 50/50 [00:00<00:00, 971.04it/s]\n"
     ]
    },
    {
     "name": "stdout",
     "output_type": "stream",
     "text": [
      "Inserting 1937 game players...\n",
      "Inserting 2928 cards...\n",
      "Inserting 6235 actions in smaller batches...\n"
     ]
    },
    {
     "name": "stderr",
     "output_type": "stream",
     "text": [
      "Inserting actions: 100%|██████████| 6235/6235 [00:00<00:00, 133754.19it/s]\n"
     ]
    },
    {
     "name": "stdout",
     "output_type": "stream",
     "text": [
      "Chunk complete in 0.26s. Progress: 1800/10056 files, 1800 successful, 0 games, 230108 actions\n",
      "Processing chunk 37/202 (50 files)\n"
     ]
    },
    {
     "name": "stderr",
     "output_type": "stream",
     "text": [
      "Processing XML files: 100%|██████████| 50/50 [00:00<00:00, 522.58it/s]\n"
     ]
    },
    {
     "name": "stdout",
     "output_type": "stream",
     "text": [
      "Inserting 1753 game players...\n",
      "Inserting 2666 cards...\n",
      "Inserting 5832 actions in smaller batches...\n"
     ]
    },
    {
     "name": "stderr",
     "output_type": "stream",
     "text": [
      "Inserting actions: 100%|██████████| 5832/5832 [00:00<00:00, 182814.89it/s]\n"
     ]
    },
    {
     "name": "stdout",
     "output_type": "stream",
     "text": [
      "Chunk complete in 0.20s. Progress: 1850/10056 files, 1850 successful, 0 games, 235940 actions\n",
      "Processing chunk 38/202 (50 files)\n"
     ]
    },
    {
     "name": "stderr",
     "output_type": "stream",
     "text": [
      "Processing XML files: 100%|██████████| 50/50 [00:00<00:00, 791.50it/s]\n"
     ]
    },
    {
     "name": "stdout",
     "output_type": "stream",
     "text": [
      "Inserting 2298 game players...\n",
      "Inserting 3431 cards...\n",
      "Inserting 7357 actions in smaller batches...\n"
     ]
    },
    {
     "name": "stderr",
     "output_type": "stream",
     "text": [
      "Inserting actions: 100%|██████████| 7357/7357 [00:00<00:00, 8308.26it/s]\n"
     ]
    },
    {
     "name": "stdout",
     "output_type": "stream",
     "text": [
      "Chunk complete in 1.10s. Progress: 1900/10056 files, 1900 successful, 0 games, 243297 actions\n",
      "Processing chunk 39/202 (50 files)\n"
     ]
    },
    {
     "name": "stderr",
     "output_type": "stream",
     "text": [
      "Processing XML files: 100%|██████████| 50/50 [00:00<00:00, 8115.29it/s]\n"
     ]
    },
    {
     "name": "stdout",
     "output_type": "stream",
     "text": [
      "Inserting 1801 game players...\n",
      "Inserting 2809 cards...\n",
      "Inserting 6087 actions in smaller batches...\n"
     ]
    },
    {
     "name": "stderr",
     "output_type": "stream",
     "text": [
      "Inserting actions: 100%|██████████| 6087/6087 [00:00<00:00, 183786.69it/s]\n"
     ]
    },
    {
     "name": "stdout",
     "output_type": "stream",
     "text": [
      "Chunk complete in 0.21s. Progress: 1950/10056 files, 1950 successful, 0 games, 249384 actions\n",
      "Processing chunk 40/202 (50 files)\n"
     ]
    },
    {
     "name": "stderr",
     "output_type": "stream",
     "text": [
      "Processing XML files: 100%|██████████| 50/50 [00:00<00:00, 81760.31it/s]\n"
     ]
    },
    {
     "name": "stdout",
     "output_type": "stream",
     "text": [
      "Inserting 1998 game players...\n",
      "Inserting 3036 cards...\n",
      "Inserting 6600 actions in smaller batches...\n"
     ]
    },
    {
     "name": "stderr",
     "output_type": "stream",
     "text": [
      "Inserting actions: 100%|██████████| 6600/6600 [00:00<00:00, 8122.08it/s]\n"
     ]
    },
    {
     "name": "stdout",
     "output_type": "stream",
     "text": [
      "Chunk complete in 1.00s. Progress: 2000/10056 files, 2000 successful, 0 games, 255984 actions\n",
      "Processing chunk 41/202 (50 files)\n"
     ]
    },
    {
     "name": "stderr",
     "output_type": "stream",
     "text": [
      "Processing XML files: 100%|██████████| 50/50 [00:00<00:00, 81696.61it/s]\n"
     ]
    },
    {
     "name": "stdout",
     "output_type": "stream",
     "text": [
      "Inserting 1912 game players...\n",
      "Inserting 2983 cards...\n",
      "Inserting 6489 actions in smaller batches...\n"
     ]
    },
    {
     "name": "stderr",
     "output_type": "stream",
     "text": [
      "Inserting actions: 100%|██████████| 6489/6489 [00:00<00:00, 185609.43it/s]\n"
     ]
    },
    {
     "name": "stdout",
     "output_type": "stream",
     "text": [
      "Chunk complete in 0.24s. Progress: 2050/10056 files, 2050 successful, 0 games, 262473 actions\n",
      "Processing chunk 42/202 (50 files)\n"
     ]
    },
    {
     "name": "stderr",
     "output_type": "stream",
     "text": [
      "Processing XML files: 100%|██████████| 50/50 [00:00<00:00, 4301.94it/s]\n"
     ]
    },
    {
     "name": "stdout",
     "output_type": "stream",
     "text": [
      "Inserting 1915 game players...\n",
      "Inserting 3011 cards...\n",
      "Inserting 6547 actions in smaller batches...\n"
     ]
    },
    {
     "name": "stderr",
     "output_type": "stream",
     "text": [
      "Inserting actions: 100%|██████████| 6547/6547 [00:00<00:00, 193906.78it/s]\n"
     ]
    },
    {
     "name": "stdout",
     "output_type": "stream",
     "text": [
      "Chunk complete in 0.22s. Progress: 2100/10056 files, 2100 successful, 0 games, 269020 actions\n",
      "Processing chunk 43/202 (50 files)\n"
     ]
    },
    {
     "name": "stderr",
     "output_type": "stream",
     "text": [
      "Processing XML files: 100%|██████████| 50/50 [00:00<00:00, 577.98it/s]\n"
     ]
    },
    {
     "name": "stdout",
     "output_type": "stream",
     "text": [
      "Inserting 1791 game players...\n",
      "Inserting 2803 cards...\n",
      "Inserting 5993 actions in smaller batches...\n"
     ]
    },
    {
     "name": "stderr",
     "output_type": "stream",
     "text": [
      "Inserting actions: 100%|██████████| 5993/5993 [00:00<00:00, 7517.92it/s]\n"
     ]
    },
    {
     "name": "stdout",
     "output_type": "stream",
     "text": [
      "Chunk complete in 0.97s. Progress: 2150/10056 files, 2150 successful, 0 games, 275013 actions\n",
      "Processing chunk 44/202 (50 files)\n"
     ]
    },
    {
     "name": "stderr",
     "output_type": "stream",
     "text": [
      "Processing XML files: 100%|██████████| 50/50 [00:00<00:00, 2147.95it/s]\n"
     ]
    },
    {
     "name": "stdout",
     "output_type": "stream",
     "text": [
      "Inserting 1747 game players...\n",
      "Inserting 2773 cards...\n",
      "Inserting 5999 actions in smaller batches...\n"
     ]
    },
    {
     "name": "stderr",
     "output_type": "stream",
     "text": [
      "Inserting actions: 100%|██████████| 5999/5999 [00:00<00:00, 184549.25it/s]\n"
     ]
    },
    {
     "name": "stdout",
     "output_type": "stream",
     "text": [
      "Chunk complete in 0.22s. Progress: 2200/10056 files, 2200 successful, 0 games, 281012 actions\n",
      "Processing chunk 45/202 (50 files)\n"
     ]
    },
    {
     "name": "stderr",
     "output_type": "stream",
     "text": [
      "Processing XML files: 100%|██████████| 50/50 [00:00<00:00, 7438.29it/s]\n"
     ]
    },
    {
     "name": "stdout",
     "output_type": "stream",
     "text": [
      "Inserting 1931 game players...\n",
      "Inserting 3077 cards...\n",
      "Inserting 6589 actions in smaller batches...\n"
     ]
    },
    {
     "name": "stderr",
     "output_type": "stream",
     "text": [
      "Inserting actions: 100%|██████████| 6589/6589 [00:00<00:00, 7242.98it/s]\n"
     ]
    },
    {
     "name": "stdout",
     "output_type": "stream",
     "text": [
      "Chunk complete in 1.10s. Progress: 2250/10056 files, 2250 successful, 0 games, 287601 actions\n",
      "Processing chunk 46/202 (50 files)\n"
     ]
    },
    {
     "name": "stderr",
     "output_type": "stream",
     "text": [
      "Processing XML files: 100%|██████████| 50/50 [00:00<00:00, 7442.52it/s]\n"
     ]
    },
    {
     "name": "stdout",
     "output_type": "stream",
     "text": [
      "Inserting 2157 game players...\n",
      "Inserting 3361 cards...\n",
      "Inserting 7293 actions in smaller batches...\n"
     ]
    },
    {
     "name": "stderr",
     "output_type": "stream",
     "text": [
      "Inserting actions: 100%|██████████| 7293/7293 [00:00<00:00, 188940.31it/s]\n"
     ]
    },
    {
     "name": "stdout",
     "output_type": "stream",
     "text": [
      "Chunk complete in 0.27s. Progress: 2300/10056 files, 2300 successful, 0 games, 294894 actions\n",
      "Processing chunk 47/202 (50 files)\n"
     ]
    },
    {
     "name": "stderr",
     "output_type": "stream",
     "text": [
      "Processing XML files: 100%|██████████| 50/50 [00:00<00:00, 4347.33it/s]\n"
     ]
    },
    {
     "name": "stdout",
     "output_type": "stream",
     "text": [
      "Inserting 2022 game players...\n",
      "Inserting 3114 cards...\n",
      "Inserting 6781 actions in smaller batches...\n"
     ]
    },
    {
     "name": "stderr",
     "output_type": "stream",
     "text": [
      "Inserting actions: 100%|██████████| 6781/6781 [00:00<00:00, 7996.29it/s]\n"
     ]
    },
    {
     "name": "stdout",
     "output_type": "stream",
     "text": [
      "Chunk complete in 1.05s. Progress: 2350/10056 files, 2350 successful, 0 games, 301675 actions\n",
      "Processing chunk 48/202 (50 files)\n"
     ]
    },
    {
     "name": "stderr",
     "output_type": "stream",
     "text": [
      "Processing XML files: 100%|██████████| 50/50 [00:00<00:00, 617.71it/s]\n"
     ]
    },
    {
     "name": "stdout",
     "output_type": "stream",
     "text": [
      "Inserting 1918 game players...\n",
      "Inserting 2923 cards...\n",
      "Inserting 6195 actions in smaller batches...\n"
     ]
    },
    {
     "name": "stderr",
     "output_type": "stream",
     "text": [
      "Inserting actions: 100%|██████████| 6195/6195 [00:00<00:00, 186911.67it/s]\n"
     ]
    },
    {
     "name": "stdout",
     "output_type": "stream",
     "text": [
      "Chunk complete in 0.22s. Progress: 2400/10056 files, 2400 successful, 0 games, 307870 actions\n",
      "Processing chunk 49/202 (50 files)\n"
     ]
    },
    {
     "name": "stderr",
     "output_type": "stream",
     "text": [
      "Processing XML files: 100%|██████████| 50/50 [00:00<00:00, 9013.03it/s]\n"
     ]
    },
    {
     "name": "stdout",
     "output_type": "stream",
     "text": [
      "Inserting 1968 game players...\n",
      "Inserting 3044 cards...\n",
      "Inserting 6725 actions in smaller batches...\n"
     ]
    },
    {
     "name": "stderr",
     "output_type": "stream",
     "text": [
      "Inserting actions: 100%|██████████| 6725/6725 [00:00<00:00, 192239.29it/s]\n"
     ]
    },
    {
     "name": "stdout",
     "output_type": "stream",
     "text": [
      "Chunk complete in 0.23s. Progress: 2450/10056 files, 2450 successful, 0 games, 314595 actions\n",
      "Processing chunk 50/202 (50 files)\n"
     ]
    },
    {
     "name": "stderr",
     "output_type": "stream",
     "text": [
      "Processing XML files: 100%|██████████| 50/50 [00:00<00:00, 1404.60it/s]\n"
     ]
    },
    {
     "name": "stdout",
     "output_type": "stream",
     "text": [
      "Inserting 1980 game players...\n",
      "Inserting 3088 cards...\n",
      "Inserting 6727 actions in smaller batches...\n"
     ]
    },
    {
     "name": "stderr",
     "output_type": "stream",
     "text": [
      "Inserting actions: 100%|██████████| 6727/6727 [00:00<00:00, 7282.95it/s]\n"
     ]
    },
    {
     "name": "stdout",
     "output_type": "stream",
     "text": [
      "Chunk complete in 1.11s. Progress: 2500/10056 files, 2500 successful, 0 games, 321322 actions\n",
      "Processing chunk 51/202 (50 files)\n"
     ]
    },
    {
     "name": "stderr",
     "output_type": "stream",
     "text": [
      "Processing XML files: 100%|██████████| 50/50 [00:00<00:00, 3705.48it/s]\n"
     ]
    },
    {
     "name": "stdout",
     "output_type": "stream",
     "text": [
      "Inserting 2155 game players...\n",
      "Inserting 3421 cards...\n",
      "Inserting 7532 actions in smaller batches...\n"
     ]
    },
    {
     "name": "stderr",
     "output_type": "stream",
     "text": [
      "Inserting actions: 100%|██████████| 7532/7532 [00:00<00:00, 197950.40it/s]\n"
     ]
    },
    {
     "name": "stdout",
     "output_type": "stream",
     "text": [
      "Chunk complete in 0.25s. Progress: 2550/10056 files, 2550 successful, 0 games, 328854 actions\n",
      "Processing chunk 52/202 (50 files)\n"
     ]
    },
    {
     "name": "stderr",
     "output_type": "stream",
     "text": [
      "Processing XML files: 100%|██████████| 50/50 [00:00<00:00, 886.11it/s]\n"
     ]
    },
    {
     "name": "stdout",
     "output_type": "stream",
     "text": [
      "Inserting 2162 game players...\n",
      "Inserting 3214 cards...\n",
      "Inserting 7034 actions in smaller batches...\n"
     ]
    },
    {
     "name": "stderr",
     "output_type": "stream",
     "text": [
      "Inserting actions: 100%|██████████| 7034/7034 [00:00<00:00, 8754.73it/s]\n"
     ]
    },
    {
     "name": "stdout",
     "output_type": "stream",
     "text": [
      "Chunk complete in 1.01s. Progress: 2600/10056 files, 2600 successful, 0 games, 335888 actions\n",
      "Processing chunk 53/202 (50 files)\n"
     ]
    },
    {
     "name": "stderr",
     "output_type": "stream",
     "text": [
      "Processing XML files: 100%|██████████| 50/50 [00:00<00:00, 958.04it/s]\n"
     ]
    },
    {
     "name": "stdout",
     "output_type": "stream",
     "text": [
      "Inserting 1849 game players...\n",
      "Inserting 2878 cards...\n",
      "Inserting 6296 actions in smaller batches...\n"
     ]
    },
    {
     "name": "stderr",
     "output_type": "stream",
     "text": [
      "Inserting actions: 100%|██████████| 6296/6296 [00:00<00:00, 186641.44it/s]\n"
     ]
    },
    {
     "name": "stdout",
     "output_type": "stream",
     "text": [
      "Chunk complete in 0.25s. Progress: 2650/10056 files, 2650 successful, 0 games, 342184 actions\n",
      "Processing chunk 54/202 (50 files)\n"
     ]
    },
    {
     "name": "stderr",
     "output_type": "stream",
     "text": [
      "Processing XML files: 100%|██████████| 50/50 [00:00<00:00, 1596.93it/s]\n"
     ]
    },
    {
     "name": "stdout",
     "output_type": "stream",
     "text": [
      "Inserting 1907 game players...\n",
      "Inserting 2987 cards...\n",
      "Inserting 6503 actions in smaller batches...\n"
     ]
    },
    {
     "name": "stderr",
     "output_type": "stream",
     "text": [
      "Inserting actions: 100%|██████████| 6503/6503 [00:00<00:00, 189333.40it/s]\n"
     ]
    },
    {
     "name": "stdout",
     "output_type": "stream",
     "text": [
      "Chunk complete in 0.24s. Progress: 2700/10056 files, 2700 successful, 0 games, 348687 actions\n",
      "Processing chunk 55/202 (50 files)\n"
     ]
    },
    {
     "name": "stderr",
     "output_type": "stream",
     "text": [
      "Processing XML files: 100%|██████████| 50/50 [00:00<00:00, 3428.85it/s]\n"
     ]
    },
    {
     "name": "stdout",
     "output_type": "stream",
     "text": [
      "Inserting 1824 game players...\n",
      "Inserting 2839 cards...\n",
      "Inserting 5997 actions in smaller batches...\n"
     ]
    },
    {
     "name": "stderr",
     "output_type": "stream",
     "text": [
      "Inserting actions: 100%|██████████| 5997/5997 [00:00<00:00, 6431.29it/s]\n"
     ]
    },
    {
     "name": "stdout",
     "output_type": "stream",
     "text": [
      "Chunk complete in 1.11s. Progress: 2750/10056 files, 2750 successful, 0 games, 354684 actions\n",
      "Processing chunk 56/202 (50 files)\n"
     ]
    },
    {
     "name": "stderr",
     "output_type": "stream",
     "text": [
      "Processing XML files: 100%|██████████| 50/50 [00:00<00:00, 1314.60it/s]\n"
     ]
    },
    {
     "name": "stdout",
     "output_type": "stream",
     "text": [
      "Inserting 1984 game players...\n",
      "Inserting 3054 cards...\n",
      "Inserting 6599 actions in smaller batches...\n"
     ]
    },
    {
     "name": "stderr",
     "output_type": "stream",
     "text": [
      "Inserting actions: 100%|██████████| 6599/6599 [00:00<00:00, 170902.74it/s]\n"
     ]
    },
    {
     "name": "stdout",
     "output_type": "stream",
     "text": [
      "Chunk complete in 0.23s. Progress: 2800/10056 files, 2800 successful, 0 games, 361283 actions\n",
      "Processing chunk 57/202 (50 files)\n"
     ]
    },
    {
     "name": "stderr",
     "output_type": "stream",
     "text": [
      "Processing XML files: 100%|██████████| 50/50 [00:00<00:00, 727.46it/s]\n"
     ]
    },
    {
     "name": "stdout",
     "output_type": "stream",
     "text": [
      "Inserting 2095 game players...\n",
      "Inserting 3155 cards...\n",
      "Inserting 6984 actions in smaller batches...\n"
     ]
    },
    {
     "name": "stderr",
     "output_type": "stream",
     "text": [
      "Inserting actions: 100%|██████████| 6984/6984 [00:00<00:00, 8076.05it/s]\n"
     ]
    },
    {
     "name": "stdout",
     "output_type": "stream",
     "text": [
      "Chunk complete in 1.08s. Progress: 2850/10056 files, 2850 successful, 0 games, 368267 actions\n",
      "Processing chunk 58/202 (50 files)\n"
     ]
    },
    {
     "name": "stderr",
     "output_type": "stream",
     "text": [
      "Processing XML files: 100%|██████████| 50/50 [00:00<00:00, 4288.22it/s]\n"
     ]
    },
    {
     "name": "stdout",
     "output_type": "stream",
     "text": [
      "Inserting 1821 game players...\n",
      "Inserting 2871 cards...\n",
      "Inserting 6164 actions in smaller batches...\n"
     ]
    },
    {
     "name": "stderr",
     "output_type": "stream",
     "text": [
      "Inserting actions: 100%|██████████| 6164/6164 [00:00<00:00, 185956.30it/s]\n"
     ]
    },
    {
     "name": "stdout",
     "output_type": "stream",
     "text": [
      "Chunk complete in 0.29s. Progress: 2900/10056 files, 2900 successful, 0 games, 374431 actions\n",
      "Processing chunk 59/202 (50 files)\n"
     ]
    },
    {
     "name": "stderr",
     "output_type": "stream",
     "text": [
      "Processing XML files: 100%|██████████| 50/50 [00:00<00:00, 1358.75it/s]\n"
     ]
    },
    {
     "name": "stdout",
     "output_type": "stream",
     "text": [
      "Inserting 1888 game players...\n",
      "Inserting 2918 cards...\n",
      "Inserting 6360 actions in smaller batches...\n"
     ]
    },
    {
     "name": "stderr",
     "output_type": "stream",
     "text": [
      "Inserting actions: 100%|██████████| 6360/6360 [00:00<00:00, 188694.73it/s]\n"
     ]
    },
    {
     "name": "stdout",
     "output_type": "stream",
     "text": [
      "Chunk complete in 0.22s. Progress: 2950/10056 files, 2950 successful, 0 games, 380791 actions\n",
      "Processing chunk 60/202 (50 files)\n"
     ]
    },
    {
     "name": "stderr",
     "output_type": "stream",
     "text": [
      "Processing XML files: 100%|██████████| 50/50 [00:00<00:00, 10189.75it/s]\n"
     ]
    },
    {
     "name": "stdout",
     "output_type": "stream",
     "text": [
      "Inserting 2089 game players...\n",
      "Inserting 3247 cards...\n",
      "Inserting 6914 actions in smaller batches...\n"
     ]
    },
    {
     "name": "stderr",
     "output_type": "stream",
     "text": [
      "Inserting actions: 100%|██████████| 6914/6914 [00:01<00:00, 6764.63it/s]\n"
     ]
    },
    {
     "name": "stdout",
     "output_type": "stream",
     "text": [
      "Chunk complete in 1.24s. Progress: 3000/10056 files, 3000 successful, 0 games, 387705 actions\n",
      "Processing chunk 61/202 (50 files)\n"
     ]
    },
    {
     "name": "stderr",
     "output_type": "stream",
     "text": [
      "Processing XML files: 100%|██████████| 50/50 [00:00<00:00, 1181.45it/s]\n"
     ]
    },
    {
     "name": "stdout",
     "output_type": "stream",
     "text": [
      "Inserting 1932 game players...\n",
      "Inserting 3031 cards...\n",
      "Inserting 6634 actions in smaller batches...\n"
     ]
    },
    {
     "name": "stderr",
     "output_type": "stream",
     "text": [
      "Inserting actions: 100%|██████████| 6634/6634 [00:00<00:00, 183324.63it/s]\n"
     ]
    },
    {
     "name": "stdout",
     "output_type": "stream",
     "text": [
      "Chunk complete in 0.23s. Progress: 3050/10056 files, 3050 successful, 0 games, 394339 actions\n",
      "Processing chunk 62/202 (50 files)\n"
     ]
    },
    {
     "name": "stderr",
     "output_type": "stream",
     "text": [
      "Processing XML files: 100%|██████████| 50/50 [00:00<00:00, 588.45it/s]\n"
     ]
    },
    {
     "name": "stdout",
     "output_type": "stream",
     "text": [
      "Inserting 1926 game players...\n",
      "Inserting 3032 cards...\n",
      "Inserting 6587 actions in smaller batches...\n"
     ]
    },
    {
     "name": "stderr",
     "output_type": "stream",
     "text": [
      "Inserting actions: 100%|██████████| 6587/6587 [00:00<00:00, 7201.49it/s]\n"
     ]
    },
    {
     "name": "stdout",
     "output_type": "stream",
     "text": [
      "Chunk complete in 1.11s. Progress: 3100/10056 files, 3100 successful, 0 games, 400926 actions\n",
      "Processing chunk 63/202 (50 files)\n"
     ]
    },
    {
     "name": "stderr",
     "output_type": "stream",
     "text": [
      "Processing XML files: 100%|██████████| 50/50 [00:00<00:00, 450.53it/s]\n"
     ]
    },
    {
     "name": "stdout",
     "output_type": "stream",
     "text": [
      "Inserting 1986 game players...\n",
      "Inserting 3104 cards...\n",
      "Inserting 6786 actions in smaller batches...\n"
     ]
    },
    {
     "name": "stderr",
     "output_type": "stream",
     "text": [
      "Inserting actions: 100%|██████████| 6786/6786 [00:00<00:00, 130162.10it/s]\n"
     ]
    },
    {
     "name": "stdout",
     "output_type": "stream",
     "text": [
      "Chunk complete in 0.25s. Progress: 3150/10056 files, 3150 successful, 0 games, 407712 actions\n",
      "Processing chunk 64/202 (50 files)\n"
     ]
    },
    {
     "name": "stderr",
     "output_type": "stream",
     "text": [
      "Processing XML files: 100%|██████████| 50/50 [00:00<00:00, 543.48it/s]\n"
     ]
    },
    {
     "name": "stdout",
     "output_type": "stream",
     "text": [
      "Inserting 1786 game players...\n",
      "Inserting 2846 cards...\n",
      "Inserting 6009 actions in smaller batches...\n"
     ]
    },
    {
     "name": "stderr",
     "output_type": "stream",
     "text": [
      "Inserting actions: 100%|██████████| 6009/6009 [00:00<00:00, 6163.41it/s]\n"
     ]
    },
    {
     "name": "stdout",
     "output_type": "stream",
     "text": [
      "Chunk complete in 1.15s. Progress: 3200/10056 files, 3200 successful, 0 games, 413721 actions\n",
      "Processing chunk 65/202 (50 files)\n"
     ]
    },
    {
     "name": "stderr",
     "output_type": "stream",
     "text": [
      "Processing XML files: 100%|██████████| 50/50 [00:00<00:00, 2329.57it/s]\n"
     ]
    },
    {
     "name": "stdout",
     "output_type": "stream",
     "text": [
      "Inserting 1948 game players...\n",
      "Inserting 3163 cards...\n",
      "Inserting 6756 actions in smaller batches...\n"
     ]
    },
    {
     "name": "stderr",
     "output_type": "stream",
     "text": [
      "Inserting actions: 100%|██████████| 6756/6756 [00:00<00:00, 189916.74it/s]\n"
     ]
    },
    {
     "name": "stdout",
     "output_type": "stream",
     "text": [
      "Chunk complete in 0.23s. Progress: 3250/10056 files, 3250 successful, 0 games, 420477 actions\n",
      "Processing chunk 66/202 (50 files)\n"
     ]
    },
    {
     "name": "stderr",
     "output_type": "stream",
     "text": [
      "Processing XML files: 100%|██████████| 50/50 [00:00<00:00, 886.11it/s]\n"
     ]
    },
    {
     "name": "stdout",
     "output_type": "stream",
     "text": [
      "Inserting 1923 game players...\n",
      "Inserting 2999 cards...\n",
      "Inserting 6483 actions in smaller batches...\n"
     ]
    },
    {
     "name": "stderr",
     "output_type": "stream",
     "text": [
      "Inserting actions: 100%|██████████| 6483/6483 [00:00<00:00, 6628.02it/s]\n"
     ]
    },
    {
     "name": "stdout",
     "output_type": "stream",
     "text": [
      "Chunk complete in 1.17s. Progress: 3300/10056 files, 3300 successful, 0 games, 426960 actions\n",
      "Processing chunk 67/202 (50 files)\n"
     ]
    },
    {
     "name": "stderr",
     "output_type": "stream",
     "text": [
      "Processing XML files: 100%|██████████| 50/50 [00:00<00:00, 519.39it/s]\n"
     ]
    },
    {
     "name": "stdout",
     "output_type": "stream",
     "text": [
      "Inserting 1935 game players...\n",
      "Inserting 2955 cards...\n",
      "Inserting 6578 actions in smaller batches...\n"
     ]
    },
    {
     "name": "stderr",
     "output_type": "stream",
     "text": [
      "Inserting actions: 100%|██████████| 6578/6578 [00:00<00:00, 185039.51it/s]\n"
     ]
    },
    {
     "name": "stdout",
     "output_type": "stream",
     "text": [
      "Chunk complete in 0.24s. Progress: 3350/10056 files, 3350 successful, 0 games, 433538 actions\n",
      "Processing chunk 68/202 (50 files)\n"
     ]
    },
    {
     "name": "stderr",
     "output_type": "stream",
     "text": [
      "Processing XML files: 100%|██████████| 50/50 [00:00<00:00, 612.75it/s]\n"
     ]
    },
    {
     "name": "stdout",
     "output_type": "stream",
     "text": [
      "Inserting 2121 game players...\n",
      "Inserting 3304 cards...\n",
      "Inserting 7345 actions in smaller batches...\n"
     ]
    },
    {
     "name": "stderr",
     "output_type": "stream",
     "text": [
      "Inserting actions: 100%|██████████| 7345/7345 [00:00<00:00, 188425.32it/s]\n"
     ]
    },
    {
     "name": "stdout",
     "output_type": "stream",
     "text": [
      "Chunk complete in 0.25s. Progress: 3400/10056 files, 3400 successful, 0 games, 440883 actions\n",
      "Processing chunk 69/202 (50 files)\n"
     ]
    },
    {
     "name": "stderr",
     "output_type": "stream",
     "text": [
      "Processing XML files: 100%|██████████| 50/50 [00:00<00:00, 747.90it/s]"
     ]
    },
    {
     "name": "stdout",
     "output_type": "stream",
     "text": [
      "Inserting 2041 game players...\n"
     ]
    },
    {
     "name": "stderr",
     "output_type": "stream",
     "text": [
      "\n"
     ]
    },
    {
     "name": "stdout",
     "output_type": "stream",
     "text": [
      "Inserting 3134 cards...\n",
      "Inserting 6743 actions in smaller batches...\n"
     ]
    },
    {
     "name": "stderr",
     "output_type": "stream",
     "text": [
      "Inserting actions: 100%|██████████| 6743/6743 [00:00<00:00, 103901.48it/s]\n"
     ]
    },
    {
     "name": "stdout",
     "output_type": "stream",
     "text": [
      "Chunk complete in 1.16s. Progress: 3450/10056 files, 3450 successful, 0 games, 447626 actions\n",
      "Processing chunk 70/202 (50 files)\n"
     ]
    },
    {
     "name": "stderr",
     "output_type": "stream",
     "text": [
      "Processing XML files: 100%|██████████| 50/50 [00:00<00:00, 1031.75it/s]\n"
     ]
    },
    {
     "name": "stdout",
     "output_type": "stream",
     "text": [
      "Inserting 1702 game players...\n",
      "Inserting 2570 cards...\n",
      "Inserting 5628 actions in smaller batches...\n"
     ]
    },
    {
     "name": "stderr",
     "output_type": "stream",
     "text": [
      "Inserting actions: 100%|██████████| 5628/5628 [00:00<00:00, 183519.35it/s]\n"
     ]
    },
    {
     "name": "stdout",
     "output_type": "stream",
     "text": [
      "Chunk complete in 0.20s. Progress: 3500/10056 files, 3500 successful, 0 games, 453254 actions\n",
      "Processing chunk 71/202 (50 files)\n"
     ]
    },
    {
     "name": "stderr",
     "output_type": "stream",
     "text": [
      "Processing XML files: 100%|██████████| 50/50 [00:00<00:00, 465.72it/s]\n"
     ]
    },
    {
     "name": "stdout",
     "output_type": "stream",
     "text": [
      "Inserting 1897 game players...\n",
      "Inserting 3048 cards...\n",
      "Inserting 6589 actions in smaller batches...\n"
     ]
    },
    {
     "name": "stderr",
     "output_type": "stream",
     "text": [
      "Inserting actions: 100%|██████████| 6589/6589 [00:01<00:00, 6171.52it/s]\n"
     ]
    },
    {
     "name": "stdout",
     "output_type": "stream",
     "text": [
      "Chunk complete in 1.26s. Progress: 3550/10056 files, 3550 successful, 0 games, 459843 actions\n",
      "Processing chunk 72/202 (50 files)\n"
     ]
    },
    {
     "name": "stderr",
     "output_type": "stream",
     "text": [
      "Processing XML files: 100%|██████████| 50/50 [00:00<00:00, 783.53it/s]\n"
     ]
    },
    {
     "name": "stdout",
     "output_type": "stream",
     "text": [
      "Inserting 1917 game players...\n",
      "Inserting 3016 cards...\n",
      "Inserting 6616 actions in smaller batches...\n"
     ]
    },
    {
     "name": "stderr",
     "output_type": "stream",
     "text": [
      "Inserting actions: 100%|██████████| 6616/6616 [00:00<00:00, 192467.06it/s]\n"
     ]
    },
    {
     "name": "stdout",
     "output_type": "stream",
     "text": [
      "Chunk complete in 0.24s. Progress: 3600/10056 files, 3600 successful, 0 games, 466459 actions\n",
      "Processing chunk 73/202 (50 files)\n"
     ]
    },
    {
     "name": "stderr",
     "output_type": "stream",
     "text": [
      "Processing XML files: 100%|██████████| 50/50 [00:00<00:00, 20170.74it/s]"
     ]
    },
    {
     "name": "stdout",
     "output_type": "stream",
     "text": [
      "Inserting 1926 game players...\n"
     ]
    },
    {
     "name": "stderr",
     "output_type": "stream",
     "text": [
      "\n"
     ]
    },
    {
     "name": "stdout",
     "output_type": "stream",
     "text": [
      "Inserting 3032 cards...\n",
      "Inserting 6608 actions in smaller batches...\n"
     ]
    },
    {
     "name": "stderr",
     "output_type": "stream",
     "text": [
      "Inserting actions: 100%|██████████| 6608/6608 [00:00<00:00, 7378.68it/s]\n"
     ]
    },
    {
     "name": "stdout",
     "output_type": "stream",
     "text": [
      "Chunk complete in 1.09s. Progress: 3650/10056 files, 3650 successful, 0 games, 473067 actions\n",
      "Processing chunk 74/202 (50 files)\n"
     ]
    },
    {
     "name": "stderr",
     "output_type": "stream",
     "text": [
      "Processing XML files: 100%|██████████| 50/50 [00:00<00:00, 1811.89it/s]\n"
     ]
    },
    {
     "name": "stdout",
     "output_type": "stream",
     "text": [
      "Inserting 2022 game players...\n",
      "Inserting 3075 cards...\n",
      "Inserting 6579 actions in smaller batches...\n"
     ]
    },
    {
     "name": "stderr",
     "output_type": "stream",
     "text": [
      "Inserting actions: 100%|██████████| 6579/6579 [00:00<00:00, 153237.96it/s]\n"
     ]
    },
    {
     "name": "stdout",
     "output_type": "stream",
     "text": [
      "Chunk complete in 0.27s. Progress: 3700/10056 files, 3700 successful, 0 games, 479646 actions\n",
      "Processing chunk 75/202 (50 files)\n"
     ]
    },
    {
     "name": "stderr",
     "output_type": "stream",
     "text": [
      "Processing XML files: 100%|██████████| 50/50 [00:00<00:00, 577.14it/s]\n"
     ]
    },
    {
     "name": "stdout",
     "output_type": "stream",
     "text": [
      "Inserting 2159 game players...\n",
      "Inserting 3322 cards...\n",
      "Inserting 7064 actions in smaller batches...\n"
     ]
    },
    {
     "name": "stderr",
     "output_type": "stream",
     "text": [
      "Inserting actions: 100%|██████████| 7064/7064 [00:00<00:00, 188696.53it/s]\n"
     ]
    },
    {
     "name": "stdout",
     "output_type": "stream",
     "text": [
      "Chunk complete in 0.26s. Progress: 3750/10056 files, 3750 successful, 0 games, 486710 actions\n",
      "Processing chunk 76/202 (50 files)\n"
     ]
    },
    {
     "name": "stderr",
     "output_type": "stream",
     "text": [
      "Processing XML files: 100%|██████████| 50/50 [00:00<00:00, 562.23it/s]\n"
     ]
    },
    {
     "name": "stdout",
     "output_type": "stream",
     "text": [
      "Inserting 1761 game players...\n",
      "Inserting 2779 cards...\n",
      "Inserting 5894 actions in smaller batches...\n"
     ]
    },
    {
     "name": "stderr",
     "output_type": "stream",
     "text": [
      "Inserting actions: 100%|██████████| 5894/5894 [00:00<00:00, 98216.65it/s]\n"
     ]
    },
    {
     "name": "stdout",
     "output_type": "stream",
     "text": [
      "Chunk complete in 1.16s. Progress: 3800/10056 files, 3800 successful, 0 games, 492604 actions\n",
      "Processing chunk 77/202 (50 files)\n"
     ]
    },
    {
     "name": "stderr",
     "output_type": "stream",
     "text": [
      "Processing XML files: 100%|██████████| 50/50 [00:00<00:00, 1536.95it/s]\n"
     ]
    },
    {
     "name": "stdout",
     "output_type": "stream",
     "text": [
      "Inserting 2150 game players...\n",
      "Inserting 3391 cards...\n",
      "Inserting 7303 actions in smaller batches...\n"
     ]
    },
    {
     "name": "stderr",
     "output_type": "stream",
     "text": [
      "Inserting actions: 100%|██████████| 7303/7303 [00:00<00:00, 163110.46it/s]\n"
     ]
    },
    {
     "name": "stdout",
     "output_type": "stream",
     "text": [
      "Chunk complete in 0.26s. Progress: 3850/10056 files, 3850 successful, 0 games, 499907 actions\n",
      "Processing chunk 78/202 (50 files)\n"
     ]
    },
    {
     "name": "stderr",
     "output_type": "stream",
     "text": [
      "Processing XML files: 100%|██████████| 50/50 [00:00<00:00, 1009.62it/s]\n"
     ]
    },
    {
     "name": "stdout",
     "output_type": "stream",
     "text": [
      "Inserting 2175 game players...\n",
      "Inserting 3446 cards...\n",
      "Inserting 7485 actions in smaller batches...\n"
     ]
    },
    {
     "name": "stderr",
     "output_type": "stream",
     "text": [
      "Inserting actions: 100%|██████████| 7485/7485 [00:01<00:00, 7337.09it/s]\n"
     ]
    },
    {
     "name": "stdout",
     "output_type": "stream",
     "text": [
      "Chunk complete in 1.24s. Progress: 3900/10056 files, 3900 successful, 0 games, 507392 actions\n",
      "Processing chunk 79/202 (50 files)\n"
     ]
    },
    {
     "name": "stderr",
     "output_type": "stream",
     "text": [
      "Processing XML files: 100%|██████████| 50/50 [00:00<00:00, 546.96it/s]\n"
     ]
    },
    {
     "name": "stdout",
     "output_type": "stream",
     "text": [
      "Inserting 1922 game players...\n",
      "Inserting 3000 cards...\n",
      "Inserting 6616 actions in smaller batches...\n"
     ]
    },
    {
     "name": "stderr",
     "output_type": "stream",
     "text": [
      "Inserting actions: 100%|██████████| 6616/6616 [00:00<00:00, 189100.24it/s]\n"
     ]
    },
    {
     "name": "stdout",
     "output_type": "stream",
     "text": [
      "Chunk complete in 0.22s. Progress: 3950/10056 files, 3950 successful, 0 games, 514008 actions\n",
      "Processing chunk 80/202 (50 files)\n"
     ]
    },
    {
     "name": "stderr",
     "output_type": "stream",
     "text": [
      "Processing XML files: 100%|██████████| 50/50 [00:00<00:00, 715.39it/s]\n"
     ]
    },
    {
     "name": "stdout",
     "output_type": "stream",
     "text": [
      "Inserting 1872 game players...\n",
      "Inserting 2905 cards...\n",
      "Inserting 6311 actions in smaller batches...\n"
     ]
    },
    {
     "name": "stderr",
     "output_type": "stream",
     "text": [
      "Inserting actions: 100%|██████████| 6311/6311 [00:00<00:00, 6807.83it/s]\n"
     ]
    },
    {
     "name": "stdout",
     "output_type": "stream",
     "text": [
      "Chunk complete in 1.11s. Progress: 4000/10056 files, 4000 successful, 0 games, 520319 actions\n",
      "Processing chunk 81/202 (50 files)\n"
     ]
    },
    {
     "name": "stderr",
     "output_type": "stream",
     "text": [
      "Processing XML files: 100%|██████████| 50/50 [00:00<?, ?it/s]\n"
     ]
    },
    {
     "name": "stdout",
     "output_type": "stream",
     "text": [
      "Inserting 1920 game players...\n",
      "Inserting 2997 cards...\n",
      "Inserting 6575 actions in smaller batches...\n"
     ]
    },
    {
     "name": "stderr",
     "output_type": "stream",
     "text": [
      "Inserting actions: 100%|██████████| 6575/6575 [00:00<00:00, 129966.91it/s]\n"
     ]
    },
    {
     "name": "stdout",
     "output_type": "stream",
     "text": [
      "Chunk complete in 0.24s. Progress: 4050/10056 files, 4050 successful, 0 games, 526894 actions\n",
      "Processing chunk 82/202 (50 files)\n"
     ]
    },
    {
     "name": "stderr",
     "output_type": "stream",
     "text": [
      "Processing XML files: 100%|██████████| 50/50 [00:00<00:00, 570.08it/s]\n"
     ]
    },
    {
     "name": "stdout",
     "output_type": "stream",
     "text": [
      "Inserting 1745 game players...\n",
      "Inserting 2719 cards...\n",
      "Inserting 5832 actions in smaller batches...\n"
     ]
    },
    {
     "name": "stderr",
     "output_type": "stream",
     "text": [
      "Inserting actions: 100%|██████████| 5832/5832 [00:00<00:00, 7272.61it/s]\n"
     ]
    },
    {
     "name": "stdout",
     "output_type": "stream",
     "text": [
      "Chunk complete in 0.97s. Progress: 4100/10056 files, 4100 successful, 0 games, 532726 actions\n",
      "Processing chunk 83/202 (50 files)\n"
     ]
    },
    {
     "name": "stderr",
     "output_type": "stream",
     "text": [
      "Processing XML files: 100%|██████████| 50/50 [00:00<00:00, 1852.79it/s]\n"
     ]
    },
    {
     "name": "stdout",
     "output_type": "stream",
     "text": [
      "Inserting 1831 game players...\n",
      "Inserting 2864 cards...\n",
      "Inserting 6297 actions in smaller batches...\n"
     ]
    },
    {
     "name": "stderr",
     "output_type": "stream",
     "text": [
      "Inserting actions: 100%|██████████| 6297/6297 [00:00<00:00, 193527.94it/s]\n"
     ]
    },
    {
     "name": "stdout",
     "output_type": "stream",
     "text": [
      "Chunk complete in 0.23s. Progress: 4150/10056 files, 4150 successful, 0 games, 539023 actions\n",
      "Processing chunk 84/202 (50 files)\n"
     ]
    },
    {
     "name": "stderr",
     "output_type": "stream",
     "text": [
      "Processing XML files: 100%|██████████| 50/50 [00:00<00:00, 471.22it/s]\n"
     ]
    },
    {
     "name": "stdout",
     "output_type": "stream",
     "text": [
      "Inserting 2180 game players...\n",
      "Inserting 3324 cards...\n",
      "Inserting 7308 actions in smaller batches...\n"
     ]
    },
    {
     "name": "stderr",
     "output_type": "stream",
     "text": [
      "Inserting actions: 100%|██████████| 7308/7308 [00:00<00:00, 170214.98it/s]\n"
     ]
    },
    {
     "name": "stdout",
     "output_type": "stream",
     "text": [
      "Chunk complete in 0.26s. Progress: 4200/10056 files, 4200 successful, 0 games, 546331 actions\n",
      "Processing chunk 85/202 (50 files)\n"
     ]
    },
    {
     "name": "stderr",
     "output_type": "stream",
     "text": [
      "Processing XML files: 100%|██████████| 50/50 [00:00<00:00, 2394.88it/s]\n"
     ]
    },
    {
     "name": "stdout",
     "output_type": "stream",
     "text": [
      "Inserting 1833 game players...\n",
      "Inserting 2869 cards...\n",
      "Inserting 6099 actions in smaller batches...\n"
     ]
    },
    {
     "name": "stderr",
     "output_type": "stream",
     "text": [
      "Inserting actions: 100%|██████████| 6099/6099 [00:00<00:00, 99794.65it/s]\n"
     ]
    },
    {
     "name": "stdout",
     "output_type": "stream",
     "text": [
      "Chunk complete in 1.10s. Progress: 4250/10056 files, 4250 successful, 0 games, 552430 actions\n",
      "Processing chunk 86/202 (50 files)\n"
     ]
    },
    {
     "name": "stderr",
     "output_type": "stream",
     "text": [
      "Processing XML files: 100%|██████████| 50/50 [00:00<00:00, 761.89it/s]\n"
     ]
    },
    {
     "name": "stdout",
     "output_type": "stream",
     "text": [
      "Inserting 2012 game players...\n",
      "Inserting 3160 cards...\n",
      "Inserting 6937 actions in smaller batches...\n"
     ]
    },
    {
     "name": "stderr",
     "output_type": "stream",
     "text": [
      "Inserting actions: 100%|██████████| 6937/6937 [00:00<00:00, 185411.51it/s]\n"
     ]
    },
    {
     "name": "stdout",
     "output_type": "stream",
     "text": [
      "Chunk complete in 0.24s. Progress: 4300/10056 files, 4300 successful, 0 games, 559367 actions\n",
      "Processing chunk 87/202 (50 files)\n"
     ]
    },
    {
     "name": "stderr",
     "output_type": "stream",
     "text": [
      "Processing XML files: 100%|██████████| 50/50 [00:00<00:00, 81792.20it/s]"
     ]
    },
    {
     "name": "stdout",
     "output_type": "stream",
     "text": [
      "Inserting 1878 game players...\n"
     ]
    },
    {
     "name": "stderr",
     "output_type": "stream",
     "text": [
      "\n"
     ]
    },
    {
     "name": "stdout",
     "output_type": "stream",
     "text": [
      "Inserting 2934 cards...\n",
      "Inserting 6324 actions in smaller batches...\n"
     ]
    },
    {
     "name": "stderr",
     "output_type": "stream",
     "text": [
      "Inserting actions: 100%|██████████| 6324/6324 [00:01<00:00, 6114.58it/s]\n"
     ]
    },
    {
     "name": "stdout",
     "output_type": "stream",
     "text": [
      "Chunk complete in 1.23s. Progress: 4350/10056 files, 4350 successful, 0 games, 565691 actions\n",
      "Processing chunk 88/202 (50 files)\n"
     ]
    },
    {
     "name": "stderr",
     "output_type": "stream",
     "text": [
      "Processing XML files: 100%|██████████| 50/50 [00:00<00:00, 959.56it/s]\n"
     ]
    },
    {
     "name": "stdout",
     "output_type": "stream",
     "text": [
      "Inserting 1871 game players...\n",
      "Inserting 2953 cards...\n",
      "Inserting 6274 actions in smaller batches...\n"
     ]
    },
    {
     "name": "stderr",
     "output_type": "stream",
     "text": [
      "Inserting actions: 100%|██████████| 6274/6274 [00:00<00:00, 182664.85it/s]\n"
     ]
    },
    {
     "name": "stdout",
     "output_type": "stream",
     "text": [
      "Chunk complete in 0.22s. Progress: 4400/10056 files, 4400 successful, 0 games, 571965 actions\n",
      "Processing chunk 89/202 (50 files)\n"
     ]
    },
    {
     "name": "stderr",
     "output_type": "stream",
     "text": [
      "Processing XML files: 100%|██████████| 50/50 [00:00<00:00, 81474.44it/s]\n"
     ]
    },
    {
     "name": "stdout",
     "output_type": "stream",
     "text": [
      "Inserting 2063 game players...\n",
      "Inserting 3136 cards...\n",
      "Inserting 6902 actions in smaller batches...\n"
     ]
    },
    {
     "name": "stderr",
     "output_type": "stream",
     "text": [
      "Inserting actions: 100%|██████████| 6902/6902 [00:00<00:00, 7376.45it/s]\n"
     ]
    },
    {
     "name": "stdout",
     "output_type": "stream",
     "text": [
      "Chunk complete in 1.14s. Progress: 4450/10056 files, 4450 successful, 0 games, 578867 actions\n",
      "Processing chunk 90/202 (50 files)\n"
     ]
    },
    {
     "name": "stderr",
     "output_type": "stream",
     "text": [
      "Processing XML files: 100%|██████████| 50/50 [00:00<00:00, 5108.90it/s]\n"
     ]
    },
    {
     "name": "stdout",
     "output_type": "stream",
     "text": [
      "Inserting 1950 game players...\n",
      "Inserting 3022 cards...\n",
      "Inserting 6538 actions in smaller batches...\n"
     ]
    },
    {
     "name": "stderr",
     "output_type": "stream",
     "text": [
      "Inserting actions: 100%|██████████| 6538/6538 [00:00<00:00, 187156.51it/s]\n"
     ]
    },
    {
     "name": "stdout",
     "output_type": "stream",
     "text": [
      "Chunk complete in 0.30s. Progress: 4500/10056 files, 4500 successful, 0 games, 585405 actions\n",
      "Processing chunk 91/202 (50 files)\n"
     ]
    },
    {
     "name": "stderr",
     "output_type": "stream",
     "text": [
      "Processing XML files: 100%|██████████| 50/50 [00:00<00:00, 1294.00it/s]\n"
     ]
    },
    {
     "name": "stdout",
     "output_type": "stream",
     "text": [
      "Inserting 1971 game players...\n",
      "Inserting 3037 cards...\n",
      "Inserting 6649 actions in smaller batches...\n"
     ]
    },
    {
     "name": "stderr",
     "output_type": "stream",
     "text": [
      "Inserting actions: 100%|██████████| 6649/6649 [00:00<00:00, 180682.14it/s]\n"
     ]
    },
    {
     "name": "stdout",
     "output_type": "stream",
     "text": [
      "Chunk complete in 0.25s. Progress: 4550/10056 files, 4550 successful, 0 games, 592054 actions\n",
      "Processing chunk 92/202 (50 files)\n"
     ]
    },
    {
     "name": "stderr",
     "output_type": "stream",
     "text": [
      "Processing XML files: 100%|██████████| 50/50 [00:00<00:00, 603.66it/s]\n"
     ]
    },
    {
     "name": "stdout",
     "output_type": "stream",
     "text": [
      "Inserting 1919 game players...\n",
      "Inserting 3071 cards...\n",
      "Inserting 6647 actions in smaller batches...\n"
     ]
    },
    {
     "name": "stderr",
     "output_type": "stream",
     "text": [
      "Inserting actions: 100%|██████████| 6647/6647 [00:01<00:00, 5961.91it/s]\n"
     ]
    },
    {
     "name": "stdout",
     "output_type": "stream",
     "text": [
      "Chunk complete in 1.31s. Progress: 4600/10056 files, 4600 successful, 0 games, 598701 actions\n",
      "Processing chunk 93/202 (50 files)\n"
     ]
    },
    {
     "name": "stderr",
     "output_type": "stream",
     "text": [
      "Processing XML files: 100%|██████████| 50/50 [00:00<00:00, 491.11it/s]\n"
     ]
    },
    {
     "name": "stdout",
     "output_type": "stream",
     "text": [
      "Inserting 1906 game players...\n",
      "Inserting 2997 cards...\n",
      "Inserting 6370 actions in smaller batches...\n"
     ]
    },
    {
     "name": "stderr",
     "output_type": "stream",
     "text": [
      "Inserting actions: 100%|██████████| 6370/6370 [00:00<00:00, 188832.46it/s]\n"
     ]
    },
    {
     "name": "stdout",
     "output_type": "stream",
     "text": [
      "Chunk complete in 0.23s. Progress: 4650/10056 files, 4650 successful, 0 games, 605071 actions\n",
      "Processing chunk 94/202 (50 files)\n"
     ]
    },
    {
     "name": "stderr",
     "output_type": "stream",
     "text": [
      "Processing XML files: 100%|██████████| 50/50 [00:00<00:00, 1457.37it/s]"
     ]
    },
    {
     "name": "stdout",
     "output_type": "stream",
     "text": [
      "Inserting 1943 game players...\n"
     ]
    },
    {
     "name": "stderr",
     "output_type": "stream",
     "text": [
      "\n"
     ]
    },
    {
     "name": "stdout",
     "output_type": "stream",
     "text": [
      "Inserting 3068 cards...\n",
      "Inserting 6696 actions in smaller batches...\n"
     ]
    },
    {
     "name": "stderr",
     "output_type": "stream",
     "text": [
      "Inserting actions: 100%|██████████| 6696/6696 [00:01<00:00, 6657.57it/s]\n"
     ]
    },
    {
     "name": "stdout",
     "output_type": "stream",
     "text": [
      "Chunk complete in 1.20s. Progress: 4700/10056 files, 4700 successful, 0 games, 611767 actions\n",
      "Processing chunk 95/202 (50 files)\n"
     ]
    },
    {
     "name": "stderr",
     "output_type": "stream",
     "text": [
      "Processing XML files: 100%|██████████| 50/50 [00:00<00:00, 4529.09it/s]\n"
     ]
    },
    {
     "name": "stdout",
     "output_type": "stream",
     "text": [
      "Inserting 1856 game players...\n",
      "Inserting 2888 cards...\n",
      "Inserting 6108 actions in smaller batches...\n"
     ]
    },
    {
     "name": "stderr",
     "output_type": "stream",
     "text": [
      "Inserting actions: 100%|██████████| 6108/6108 [00:00<00:00, 171925.62it/s]\n"
     ]
    },
    {
     "name": "stdout",
     "output_type": "stream",
     "text": [
      "Chunk complete in 0.23s. Progress: 4750/10056 files, 4750 successful, 0 games, 617875 actions\n",
      "Processing chunk 96/202 (50 files)\n"
     ]
    },
    {
     "name": "stderr",
     "output_type": "stream",
     "text": [
      "Processing XML files: 100%|██████████| 50/50 [00:00<00:00, 590.74it/s]\n"
     ]
    },
    {
     "name": "stdout",
     "output_type": "stream",
     "text": [
      "Inserting 1688 game players...\n",
      "Inserting 2572 cards...\n",
      "Inserting 5435 actions in smaller batches...\n"
     ]
    },
    {
     "name": "stderr",
     "output_type": "stream",
     "text": [
      "Inserting actions: 100%|██████████| 5435/5435 [00:00<00:00, 184460.86it/s]\n"
     ]
    },
    {
     "name": "stdout",
     "output_type": "stream",
     "text": [
      "Chunk complete in 0.21s. Progress: 4800/10056 files, 4800 successful, 0 games, 623310 actions\n",
      "Processing chunk 97/202 (50 files)\n"
     ]
    },
    {
     "name": "stderr",
     "output_type": "stream",
     "text": [
      "Processing XML files: 100%|██████████| 50/50 [00:00<00:00, 714.58it/s]\n"
     ]
    },
    {
     "name": "stdout",
     "output_type": "stream",
     "text": [
      "Inserting 2003 game players...\n",
      "Inserting 3122 cards...\n",
      "Inserting 6860 actions in smaller batches...\n"
     ]
    },
    {
     "name": "stderr",
     "output_type": "stream",
     "text": [
      "Inserting actions: 100%|██████████| 6860/6860 [00:01<00:00, 6084.48it/s]\n"
     ]
    },
    {
     "name": "stdout",
     "output_type": "stream",
     "text": [
      "Chunk complete in 1.33s. Progress: 4850/10056 files, 4850 successful, 0 games, 630170 actions\n",
      "Processing chunk 98/202 (50 files)\n"
     ]
    },
    {
     "name": "stderr",
     "output_type": "stream",
     "text": [
      "Processing XML files: 100%|██████████| 50/50 [00:00<00:00, 754.83it/s]\n"
     ]
    },
    {
     "name": "stdout",
     "output_type": "stream",
     "text": [
      "Inserting 1980 game players...\n",
      "Inserting 3043 cards...\n",
      "Inserting 6651 actions in smaller batches...\n"
     ]
    },
    {
     "name": "stderr",
     "output_type": "stream",
     "text": [
      "Inserting actions: 100%|██████████| 6651/6651 [00:00<00:00, 187011.48it/s]\n"
     ]
    },
    {
     "name": "stdout",
     "output_type": "stream",
     "text": [
      "Chunk complete in 0.23s. Progress: 4900/10056 files, 4900 successful, 0 games, 636821 actions\n",
      "Processing chunk 99/202 (50 files)\n"
     ]
    },
    {
     "name": "stderr",
     "output_type": "stream",
     "text": [
      "Processing XML files: 100%|██████████| 50/50 [00:00<00:00, 484.73it/s]\n"
     ]
    },
    {
     "name": "stdout",
     "output_type": "stream",
     "text": [
      "Inserting 1881 game players...\n",
      "Inserting 2950 cards...\n",
      "Inserting 6249 actions in smaller batches...\n"
     ]
    },
    {
     "name": "stderr",
     "output_type": "stream",
     "text": [
      "Inserting actions: 100%|██████████| 6249/6249 [00:00<00:00, 6346.43it/s]\n"
     ]
    },
    {
     "name": "stdout",
     "output_type": "stream",
     "text": [
      "Chunk complete in 1.18s. Progress: 4950/10056 files, 4950 successful, 0 games, 643070 actions\n",
      "Processing chunk 100/202 (50 files)\n"
     ]
    },
    {
     "name": "stderr",
     "output_type": "stream",
     "text": [
      "Processing XML files: 100%|██████████| 50/50 [00:00<00:00, 539.88it/s]\n"
     ]
    },
    {
     "name": "stdout",
     "output_type": "stream",
     "text": [
      "Inserting 2032 game players...\n",
      "Inserting 3171 cards...\n",
      "Inserting 6849 actions in smaller batches...\n"
     ]
    },
    {
     "name": "stderr",
     "output_type": "stream",
     "text": [
      "Inserting actions: 100%|██████████| 6849/6849 [00:00<00:00, 180177.55it/s]\n"
     ]
    },
    {
     "name": "stdout",
     "output_type": "stream",
     "text": [
      "Chunk complete in 0.25s. Progress: 5000/10056 files, 5000 successful, 0 games, 649919 actions\n",
      "Processing chunk 101/202 (50 files)\n"
     ]
    },
    {
     "name": "stderr",
     "output_type": "stream",
     "text": [
      "Processing XML files: 100%|██████████| 50/50 [00:00<00:00, 734.43it/s]\n"
     ]
    },
    {
     "name": "stdout",
     "output_type": "stream",
     "text": [
      "Inserting 1990 game players...\n",
      "Inserting 3067 cards...\n",
      "Inserting 6618 actions in smaller batches...\n"
     ]
    },
    {
     "name": "stderr",
     "output_type": "stream",
     "text": [
      "Inserting actions: 100%|██████████| 6618/6618 [00:00<00:00, 7054.49it/s]\n"
     ]
    },
    {
     "name": "stdout",
     "output_type": "stream",
     "text": [
      "Chunk complete in 1.13s. Progress: 5050/10056 files, 5050 successful, 0 games, 656537 actions\n",
      "Processing chunk 102/202 (50 files)\n"
     ]
    },
    {
     "name": "stderr",
     "output_type": "stream",
     "text": [
      "Processing XML files: 100%|██████████| 50/50 [00:00<00:00, 886.45it/s]\n"
     ]
    },
    {
     "name": "stdout",
     "output_type": "stream",
     "text": [
      "Inserting 1890 game players...\n",
      "Inserting 2983 cards...\n",
      "Inserting 6495 actions in smaller batches...\n"
     ]
    },
    {
     "name": "stderr",
     "output_type": "stream",
     "text": [
      "Inserting actions: 100%|██████████| 6495/6495 [00:00<00:00, 170800.55it/s]\n"
     ]
    },
    {
     "name": "stdout",
     "output_type": "stream",
     "text": [
      "Chunk complete in 0.25s. Progress: 5100/10056 files, 5100 successful, 0 games, 663032 actions\n",
      "Processing chunk 103/202 (50 files)\n"
     ]
    },
    {
     "name": "stderr",
     "output_type": "stream",
     "text": [
      "Processing XML files: 100%|██████████| 50/50 [00:00<00:00, 2329.19it/s]\n"
     ]
    },
    {
     "name": "stdout",
     "output_type": "stream",
     "text": [
      "Inserting 1969 game players...\n",
      "Inserting 3064 cards...\n",
      "Inserting 6499 actions in smaller batches...\n"
     ]
    },
    {
     "name": "stderr",
     "output_type": "stream",
     "text": [
      "Inserting actions: 100%|██████████| 6499/6499 [00:00<00:00, 182695.94it/s]\n"
     ]
    },
    {
     "name": "stdout",
     "output_type": "stream",
     "text": [
      "Chunk complete in 0.23s. Progress: 5150/10056 files, 5150 successful, 0 games, 669531 actions\n",
      "Processing chunk 104/202 (50 files)\n"
     ]
    },
    {
     "name": "stderr",
     "output_type": "stream",
     "text": [
      "Processing XML files: 100%|██████████| 50/50 [00:00<00:00, 715.46it/s]\n"
     ]
    },
    {
     "name": "stdout",
     "output_type": "stream",
     "text": [
      "Inserting 2033 game players...\n",
      "Inserting 3091 cards...\n",
      "Inserting 6797 actions in smaller batches...\n"
     ]
    },
    {
     "name": "stderr",
     "output_type": "stream",
     "text": [
      "Inserting actions: 100%|██████████| 6797/6797 [00:00<00:00, 133597.72it/s]\n"
     ]
    },
    {
     "name": "stdout",
     "output_type": "stream",
     "text": [
      "Chunk complete in 1.07s. Progress: 5200/10056 files, 5200 successful, 0 games, 676328 actions\n",
      "Processing chunk 105/202 (50 files)\n"
     ]
    },
    {
     "name": "stderr",
     "output_type": "stream",
     "text": [
      "Processing XML files: 100%|██████████| 50/50 [00:00<00:00, 4519.33it/s]\n"
     ]
    },
    {
     "name": "stdout",
     "output_type": "stream",
     "text": [
      "Inserting 1867 game players...\n",
      "Inserting 2779 cards...\n",
      "Inserting 6103 actions in smaller batches...\n"
     ]
    },
    {
     "name": "stderr",
     "output_type": "stream",
     "text": [
      "Inserting actions: 100%|██████████| 6103/6103 [00:00<00:00, 140148.47it/s]\n"
     ]
    },
    {
     "name": "stdout",
     "output_type": "stream",
     "text": [
      "Chunk complete in 0.23s. Progress: 5250/10056 files, 5250 successful, 0 games, 682431 actions\n",
      "Processing chunk 106/202 (50 files)\n"
     ]
    },
    {
     "name": "stderr",
     "output_type": "stream",
     "text": [
      "Processing XML files: 100%|██████████| 50/50 [00:00<00:00, 773.97it/s]\n"
     ]
    },
    {
     "name": "stdout",
     "output_type": "stream",
     "text": [
      "Inserting 2033 game players...\n",
      "Inserting 3181 cards...\n",
      "Inserting 6653 actions in smaller batches...\n"
     ]
    },
    {
     "name": "stderr",
     "output_type": "stream",
     "text": [
      "Inserting actions: 100%|██████████| 6653/6653 [00:00<00:00, 8362.61it/s]\n"
     ]
    },
    {
     "name": "stdout",
     "output_type": "stream",
     "text": [
      "Chunk complete in 0.99s. Progress: 5300/10056 files, 5300 successful, 0 games, 689084 actions\n",
      "Processing chunk 107/202 (50 files)\n"
     ]
    },
    {
     "name": "stderr",
     "output_type": "stream",
     "text": [
      "Processing XML files: 100%|██████████| 50/50 [00:00<00:00, 840.84it/s]\n"
     ]
    },
    {
     "name": "stdout",
     "output_type": "stream",
     "text": [
      "Inserting 1805 game players...\n",
      "Inserting 2766 cards...\n",
      "Inserting 6021 actions in smaller batches...\n"
     ]
    },
    {
     "name": "stderr",
     "output_type": "stream",
     "text": [
      "Inserting actions: 100%|██████████| 6021/6021 [00:00<00:00, 181644.87it/s]\n"
     ]
    },
    {
     "name": "stdout",
     "output_type": "stream",
     "text": [
      "Chunk complete in 0.22s. Progress: 5350/10056 files, 5350 successful, 0 games, 695105 actions\n",
      "Processing chunk 108/202 (50 files)\n"
     ]
    },
    {
     "name": "stderr",
     "output_type": "stream",
     "text": [
      "Processing XML files: 100%|██████████| 50/50 [00:00<00:00, 4783.00it/s]\n"
     ]
    },
    {
     "name": "stdout",
     "output_type": "stream",
     "text": [
      "Inserting 1739 game players...\n",
      "Inserting 2789 cards...\n",
      "Inserting 6057 actions in smaller batches...\n"
     ]
    },
    {
     "name": "stderr",
     "output_type": "stream",
     "text": [
      "Inserting actions: 100%|██████████| 6057/6057 [00:00<00:00, 7152.71it/s]\n"
     ]
    },
    {
     "name": "stdout",
     "output_type": "stream",
     "text": [
      "Chunk complete in 1.02s. Progress: 5400/10056 files, 5400 successful, 0 games, 701162 actions\n",
      "Processing chunk 109/202 (50 files)\n"
     ]
    },
    {
     "name": "stderr",
     "output_type": "stream",
     "text": [
      "Processing XML files: 100%|██████████| 50/50 [00:00<00:00, 726.54it/s]\n"
     ]
    },
    {
     "name": "stdout",
     "output_type": "stream",
     "text": [
      "Inserting 1845 game players...\n",
      "Inserting 2841 cards...\n",
      "Inserting 6157 actions in smaller batches...\n"
     ]
    },
    {
     "name": "stderr",
     "output_type": "stream",
     "text": [
      "Inserting actions: 100%|██████████| 6157/6157 [00:00<00:00, 189414.03it/s]\n"
     ]
    },
    {
     "name": "stdout",
     "output_type": "stream",
     "text": [
      "Chunk complete in 0.23s. Progress: 5450/10056 files, 5450 successful, 0 games, 707319 actions\n",
      "Processing chunk 110/202 (50 files)\n"
     ]
    },
    {
     "name": "stderr",
     "output_type": "stream",
     "text": [
      "Processing XML files: 100%|██████████| 50/50 [00:00<00:00, 440.66it/s]\n"
     ]
    },
    {
     "name": "stdout",
     "output_type": "stream",
     "text": [
      "Inserting 2089 game players...\n",
      "Inserting 3219 cards...\n",
      "Inserting 7184 actions in smaller batches...\n"
     ]
    },
    {
     "name": "stderr",
     "output_type": "stream",
     "text": [
      "Inserting actions: 100%|██████████| 7184/7184 [00:00<00:00, 182884.58it/s]\n"
     ]
    },
    {
     "name": "stdout",
     "output_type": "stream",
     "text": [
      "Chunk complete in 0.25s. Progress: 5500/10056 files, 5500 successful, 0 games, 714503 actions\n",
      "Processing chunk 111/202 (50 files)\n"
     ]
    },
    {
     "name": "stderr",
     "output_type": "stream",
     "text": [
      "Processing XML files: 100%|██████████| 50/50 [00:00<00:00, 754.33it/s]\n"
     ]
    },
    {
     "name": "stdout",
     "output_type": "stream",
     "text": [
      "Inserting 2055 game players...\n",
      "Inserting 3174 cards...\n",
      "Inserting 6791 actions in smaller batches...\n"
     ]
    },
    {
     "name": "stderr",
     "output_type": "stream",
     "text": [
      "Inserting actions: 100%|██████████| 6791/6791 [00:00<00:00, 7738.32it/s]\n"
     ]
    },
    {
     "name": "stdout",
     "output_type": "stream",
     "text": [
      "Chunk complete in 1.09s. Progress: 5550/10056 files, 5550 successful, 0 games, 721294 actions\n",
      "Processing chunk 112/202 (50 files)\n"
     ]
    },
    {
     "name": "stderr",
     "output_type": "stream",
     "text": [
      "Processing XML files: 100%|██████████| 50/50 [00:00<00:00, 20382.47it/s]\n"
     ]
    },
    {
     "name": "stdout",
     "output_type": "stream",
     "text": [
      "Inserting 1983 game players...\n",
      "Inserting 3042 cards...\n",
      "Inserting 6544 actions in smaller batches...\n"
     ]
    },
    {
     "name": "stderr",
     "output_type": "stream",
     "text": [
      "Inserting actions: 100%|██████████| 6544/6544 [00:00<00:00, 166711.36it/s]\n"
     ]
    },
    {
     "name": "stdout",
     "output_type": "stream",
     "text": [
      "Chunk complete in 0.30s. Progress: 5600/10056 files, 5600 successful, 0 games, 727838 actions\n",
      "Processing chunk 113/202 (50 files)\n"
     ]
    },
    {
     "name": "stderr",
     "output_type": "stream",
     "text": [
      "Processing XML files: 100%|██████████| 50/50 [00:00<00:00, 506.21it/s]\n"
     ]
    },
    {
     "name": "stdout",
     "output_type": "stream",
     "text": [
      "Inserting 2192 game players...\n",
      "Inserting 3369 cards...\n",
      "Inserting 7340 actions in smaller batches...\n"
     ]
    },
    {
     "name": "stderr",
     "output_type": "stream",
     "text": [
      "Inserting actions: 100%|██████████| 7340/7340 [00:00<00:00, 8202.01it/s]\n"
     ]
    },
    {
     "name": "stdout",
     "output_type": "stream",
     "text": [
      "Chunk complete in 1.11s. Progress: 5650/10056 files, 5650 successful, 0 games, 735178 actions\n",
      "Processing chunk 114/202 (50 files)\n"
     ]
    },
    {
     "name": "stderr",
     "output_type": "stream",
     "text": [
      "Processing XML files: 100%|██████████| 50/50 [00:00<00:00, 876.59it/s]\n"
     ]
    },
    {
     "name": "stdout",
     "output_type": "stream",
     "text": [
      "Inserting 2235 game players...\n",
      "Inserting 3114 cards...\n",
      "Inserting 6705 actions in smaller batches...\n"
     ]
    },
    {
     "name": "stderr",
     "output_type": "stream",
     "text": [
      "Inserting actions: 100%|██████████| 6705/6705 [00:00<00:00, 182039.97it/s]\n"
     ]
    },
    {
     "name": "stdout",
     "output_type": "stream",
     "text": [
      "Chunk complete in 0.25s. Progress: 5700/10056 files, 5700 successful, 0 games, 741883 actions\n",
      "Processing chunk 115/202 (50 files)\n"
     ]
    },
    {
     "name": "stderr",
     "output_type": "stream",
     "text": [
      "Processing XML files: 100%|██████████| 50/50 [00:00<?, ?it/s]\n"
     ]
    },
    {
     "name": "stdout",
     "output_type": "stream",
     "text": [
      "Inserting 2676 game players...\n",
      "Inserting 3705 cards...\n",
      "Inserting 7813 actions in smaller batches...\n"
     ]
    },
    {
     "name": "stderr",
     "output_type": "stream",
     "text": [
      "Inserting actions: 100%|██████████| 7813/7813 [00:00<00:00, 8550.52it/s]\n"
     ]
    },
    {
     "name": "stdout",
     "output_type": "stream",
     "text": [
      "Chunk complete in 1.15s. Progress: 5750/10056 files, 5750 successful, 0 games, 749696 actions\n",
      "Processing chunk 116/202 (50 files)\n"
     ]
    },
    {
     "name": "stderr",
     "output_type": "stream",
     "text": [
      "Processing XML files: 100%|██████████| 50/50 [00:00<00:00, 2328.88it/s]\n"
     ]
    },
    {
     "name": "stdout",
     "output_type": "stream",
     "text": [
      "Inserting 2808 game players...\n",
      "Inserting 3902 cards...\n",
      "Inserting 8096 actions in smaller batches...\n"
     ]
    },
    {
     "name": "stderr",
     "output_type": "stream",
     "text": [
      "Inserting actions: 100%|██████████| 8096/8096 [00:00<00:00, 188602.27it/s]\n"
     ]
    },
    {
     "name": "stdout",
     "output_type": "stream",
     "text": [
      "Chunk complete in 0.30s. Progress: 5800/10056 files, 5800 successful, 0 games, 757792 actions\n",
      "Processing chunk 117/202 (50 files)\n"
     ]
    },
    {
     "name": "stderr",
     "output_type": "stream",
     "text": [
      "Processing XML files: 100%|██████████| 50/50 [00:00<00:00, 721.68it/s]\n"
     ]
    },
    {
     "name": "stdout",
     "output_type": "stream",
     "text": [
      "Inserting 1980 game players...\n",
      "Inserting 2885 cards...\n",
      "Inserting 6059 actions in smaller batches...\n"
     ]
    },
    {
     "name": "stderr",
     "output_type": "stream",
     "text": [
      "Inserting actions: 100%|██████████| 6059/6059 [00:00<00:00, 6948.66it/s]\n"
     ]
    },
    {
     "name": "stdout",
     "output_type": "stream",
     "text": [
      "Chunk complete in 1.06s. Progress: 5850/10056 files, 5850 successful, 0 games, 763851 actions\n",
      "Processing chunk 118/202 (50 files)\n"
     ]
    },
    {
     "name": "stderr",
     "output_type": "stream",
     "text": [
      "Processing XML files: 100%|██████████| 50/50 [00:00<00:00, 1711.07it/s]\n"
     ]
    },
    {
     "name": "stdout",
     "output_type": "stream",
     "text": [
      "Inserting 1905 game players...\n",
      "Inserting 2938 cards...\n",
      "Inserting 6270 actions in smaller batches...\n"
     ]
    },
    {
     "name": "stderr",
     "output_type": "stream",
     "text": [
      "Inserting actions: 100%|██████████| 6270/6270 [00:00<00:00, 139951.50it/s]\n"
     ]
    },
    {
     "name": "stdout",
     "output_type": "stream",
     "text": [
      "Chunk complete in 0.25s. Progress: 5900/10056 files, 5900 successful, 0 games, 770121 actions\n",
      "Processing chunk 119/202 (50 files)\n"
     ]
    },
    {
     "name": "stderr",
     "output_type": "stream",
     "text": [
      "Processing XML files: 100%|██████████| 50/50 [00:00<00:00, 3881.96it/s]\n"
     ]
    },
    {
     "name": "stdout",
     "output_type": "stream",
     "text": [
      "Inserting 1831 game players...\n",
      "Inserting 2838 cards...\n",
      "Inserting 6074 actions in smaller batches...\n"
     ]
    },
    {
     "name": "stderr",
     "output_type": "stream",
     "text": [
      "Inserting actions: 100%|██████████| 6074/6074 [00:00<00:00, 186714.08it/s]\n"
     ]
    },
    {
     "name": "stdout",
     "output_type": "stream",
     "text": [
      "Chunk complete in 0.21s. Progress: 5950/10056 files, 5950 successful, 0 games, 776195 actions\n",
      "Processing chunk 120/202 (50 files)\n"
     ]
    },
    {
     "name": "stderr",
     "output_type": "stream",
     "text": [
      "Processing XML files: 100%|██████████| 50/50 [00:00<00:00, 85388.93it/s]\n"
     ]
    },
    {
     "name": "stdout",
     "output_type": "stream",
     "text": [
      "Inserting 1956 game players...\n",
      "Inserting 3078 cards...\n",
      "Inserting 6719 actions in smaller batches...\n"
     ]
    },
    {
     "name": "stderr",
     "output_type": "stream",
     "text": [
      "Inserting actions: 100%|██████████| 6719/6719 [00:00<00:00, 6994.14it/s]\n"
     ]
    },
    {
     "name": "stdout",
     "output_type": "stream",
     "text": [
      "Chunk complete in 1.16s. Progress: 6000/10056 files, 6000 successful, 0 games, 782914 actions\n",
      "Processing chunk 121/202 (50 files)\n"
     ]
    },
    {
     "name": "stderr",
     "output_type": "stream",
     "text": [
      "Processing XML files: 100%|██████████| 50/50 [00:00<00:00, 9057.80it/s]\n"
     ]
    },
    {
     "name": "stdout",
     "output_type": "stream",
     "text": [
      "Inserting 2015 game players...\n",
      "Inserting 3148 cards...\n",
      "Inserting 7026 actions in smaller batches...\n"
     ]
    },
    {
     "name": "stderr",
     "output_type": "stream",
     "text": [
      "Inserting actions: 100%|██████████| 7026/7026 [00:00<00:00, 190914.50it/s]\n"
     ]
    },
    {
     "name": "stdout",
     "output_type": "stream",
     "text": [
      "Chunk complete in 0.24s. Progress: 6050/10056 files, 6050 successful, 0 games, 789940 actions\n",
      "Processing chunk 122/202 (50 files)\n"
     ]
    },
    {
     "name": "stderr",
     "output_type": "stream",
     "text": [
      "Processing XML files: 100%|██████████| 50/50 [00:00<00:00, 3705.67it/s]"
     ]
    },
    {
     "name": "stdout",
     "output_type": "stream",
     "text": [
      "Inserting 1746 game players...\n"
     ]
    },
    {
     "name": "stderr",
     "output_type": "stream",
     "text": [
      "\n"
     ]
    },
    {
     "name": "stdout",
     "output_type": "stream",
     "text": [
      "Inserting 2663 cards...\n",
      "Inserting 5770 actions in smaller batches...\n"
     ]
    },
    {
     "name": "stderr",
     "output_type": "stream",
     "text": [
      "Inserting actions: 100%|██████████| 5770/5770 [00:00<00:00, 6243.23it/s]\n"
     ]
    },
    {
     "name": "stdout",
     "output_type": "stream",
     "text": [
      "Chunk complete in 1.11s. Progress: 6100/10056 files, 6100 successful, 0 games, 795710 actions\n",
      "Processing chunk 123/202 (50 files)\n"
     ]
    },
    {
     "name": "stderr",
     "output_type": "stream",
     "text": [
      "Processing XML files: 100%|██████████| 50/50 [00:00<00:00, 2916.19it/s]\n"
     ]
    },
    {
     "name": "stdout",
     "output_type": "stream",
     "text": [
      "Inserting 1892 game players...\n",
      "Inserting 2872 cards...\n",
      "Inserting 6291 actions in smaller batches...\n"
     ]
    },
    {
     "name": "stderr",
     "output_type": "stream",
     "text": [
      "Inserting actions: 100%|██████████| 6291/6291 [00:00<00:00, 189959.80it/s]\n"
     ]
    },
    {
     "name": "stdout",
     "output_type": "stream",
     "text": [
      "Chunk complete in 0.25s. Progress: 6150/10056 files, 6150 successful, 0 games, 802001 actions\n",
      "Processing chunk 124/202 (50 files)\n"
     ]
    },
    {
     "name": "stderr",
     "output_type": "stream",
     "text": [
      "Processing XML files: 100%|██████████| 50/50 [00:00<00:00, 2629.79it/s]\n"
     ]
    },
    {
     "name": "stdout",
     "output_type": "stream",
     "text": [
      "Inserting 1739 game players...\n",
      "Inserting 2693 cards...\n",
      "Inserting 5822 actions in smaller batches...\n"
     ]
    },
    {
     "name": "stderr",
     "output_type": "stream",
     "text": [
      "Inserting actions: 100%|██████████| 5822/5822 [00:00<00:00, 189672.82it/s]\n"
     ]
    },
    {
     "name": "stdout",
     "output_type": "stream",
     "text": [
      "Chunk complete in 0.20s. Progress: 6200/10056 files, 6200 successful, 0 games, 807823 actions\n",
      "Processing chunk 125/202 (50 files)\n"
     ]
    },
    {
     "name": "stderr",
     "output_type": "stream",
     "text": [
      "Processing XML files: 100%|██████████| 50/50 [00:00<00:00, 40753.05it/s]\n"
     ]
    },
    {
     "name": "stdout",
     "output_type": "stream",
     "text": [
      "Inserting 1971 game players...\n",
      "Inserting 3098 cards...\n",
      "Inserting 6568 actions in smaller batches...\n"
     ]
    },
    {
     "name": "stderr",
     "output_type": "stream",
     "text": [
      "Inserting actions: 100%|██████████| 6568/6568 [00:01<00:00, 6064.54it/s]\n"
     ]
    },
    {
     "name": "stdout",
     "output_type": "stream",
     "text": [
      "Chunk complete in 1.29s. Progress: 6250/10056 files, 6250 successful, 0 games, 814391 actions\n",
      "Processing chunk 126/202 (50 files)\n"
     ]
    },
    {
     "name": "stderr",
     "output_type": "stream",
     "text": [
      "Processing XML files: 100%|██████████| 50/50 [00:00<?, ?it/s]\n"
     ]
    },
    {
     "name": "stdout",
     "output_type": "stream",
     "text": [
      "Inserting 1901 game players...\n",
      "Inserting 2961 cards...\n",
      "Inserting 6268 actions in smaller batches...\n"
     ]
    },
    {
     "name": "stderr",
     "output_type": "stream",
     "text": [
      "Inserting actions: 100%|██████████| 6268/6268 [00:00<00:00, 182367.37it/s]\n"
     ]
    },
    {
     "name": "stdout",
     "output_type": "stream",
     "text": [
      "Chunk complete in 0.21s. Progress: 6300/10056 files, 6300 successful, 0 games, 820659 actions\n",
      "Processing chunk 127/202 (50 files)\n"
     ]
    },
    {
     "name": "stderr",
     "output_type": "stream",
     "text": [
      "Processing XML files: 100%|██████████| 50/50 [00:00<00:00, 849.18it/s]\n"
     ]
    },
    {
     "name": "stdout",
     "output_type": "stream",
     "text": [
      "Inserting 1837 game players...\n",
      "Inserting 2791 cards...\n",
      "Inserting 6097 actions in smaller batches...\n"
     ]
    },
    {
     "name": "stderr",
     "output_type": "stream",
     "text": [
      "Inserting actions: 100%|██████████| 6097/6097 [00:00<00:00, 6441.03it/s]\n"
     ]
    },
    {
     "name": "stdout",
     "output_type": "stream",
     "text": [
      "Chunk complete in 1.13s. Progress: 6350/10056 files, 6350 successful, 0 games, 826756 actions\n",
      "Processing chunk 128/202 (50 files)\n"
     ]
    },
    {
     "name": "stderr",
     "output_type": "stream",
     "text": [
      "Processing XML files: 100%|██████████| 50/50 [00:00<00:00, 82273.52it/s]\n"
     ]
    },
    {
     "name": "stdout",
     "output_type": "stream",
     "text": [
      "Inserting 1752 game players...\n",
      "Inserting 2696 cards...\n",
      "Inserting 5901 actions in smaller batches...\n"
     ]
    },
    {
     "name": "stderr",
     "output_type": "stream",
     "text": [
      "Inserting actions: 100%|██████████| 5901/5901 [00:00<00:00, 160348.47it/s]\n"
     ]
    },
    {
     "name": "stdout",
     "output_type": "stream",
     "text": [
      "Chunk complete in 0.26s. Progress: 6400/10056 files, 6400 successful, 0 games, 832657 actions\n",
      "Processing chunk 129/202 (50 files)\n"
     ]
    },
    {
     "name": "stderr",
     "output_type": "stream",
     "text": [
      "Processing XML files: 100%|██████████| 50/50 [00:00<00:00, 1943.01it/s]\n"
     ]
    },
    {
     "name": "stdout",
     "output_type": "stream",
     "text": [
      "Inserting 2021 game players...\n",
      "Inserting 3155 cards...\n",
      "Inserting 6731 actions in smaller batches...\n"
     ]
    },
    {
     "name": "stderr",
     "output_type": "stream",
     "text": [
      "Inserting actions: 100%|██████████| 6731/6731 [00:00<00:00, 186171.96it/s]\n"
     ]
    },
    {
     "name": "stdout",
     "output_type": "stream",
     "text": [
      "Chunk complete in 0.24s. Progress: 6450/10056 files, 6450 successful, 0 games, 839388 actions\n",
      "Processing chunk 130/202 (50 files)\n"
     ]
    },
    {
     "name": "stderr",
     "output_type": "stream",
     "text": [
      "Processing XML files: 100%|██████████| 50/50 [00:00<00:00, 631.96it/s]\n"
     ]
    },
    {
     "name": "stdout",
     "output_type": "stream",
     "text": [
      "Inserting 2070 game players...\n",
      "Inserting 3226 cards...\n",
      "Inserting 7057 actions in smaller batches...\n"
     ]
    },
    {
     "name": "stderr",
     "output_type": "stream",
     "text": [
      "Inserting actions: 100%|██████████| 7057/7057 [00:01<00:00, 6324.67it/s]\n"
     ]
    },
    {
     "name": "stdout",
     "output_type": "stream",
     "text": [
      "Chunk complete in 1.33s. Progress: 6500/10056 files, 6500 successful, 0 games, 846445 actions\n",
      "Processing chunk 131/202 (50 files)\n"
     ]
    },
    {
     "name": "stderr",
     "output_type": "stream",
     "text": [
      "Processing XML files: 100%|██████████| 50/50 [00:00<00:00, 1990.65it/s]\n"
     ]
    },
    {
     "name": "stdout",
     "output_type": "stream",
     "text": [
      "Inserting 1942 game players...\n",
      "Inserting 3051 cards...\n",
      "Inserting 6602 actions in smaller batches...\n"
     ]
    },
    {
     "name": "stderr",
     "output_type": "stream",
     "text": [
      "Inserting actions: 100%|██████████| 6602/6602 [00:00<00:00, 176467.78it/s]\n"
     ]
    },
    {
     "name": "stdout",
     "output_type": "stream",
     "text": [
      "Chunk complete in 0.23s. Progress: 6550/10056 files, 6550 successful, 0 games, 853047 actions\n",
      "Processing chunk 132/202 (50 files)\n"
     ]
    },
    {
     "name": "stderr",
     "output_type": "stream",
     "text": [
      "Processing XML files: 100%|██████████| 50/50 [00:00<00:00, 959.04it/s]\n"
     ]
    },
    {
     "name": "stdout",
     "output_type": "stream",
     "text": [
      "Inserting 2114 game players...\n",
      "Inserting 3298 cards...\n",
      "Inserting 7113 actions in smaller batches...\n"
     ]
    },
    {
     "name": "stderr",
     "output_type": "stream",
     "text": [
      "Inserting actions: 100%|██████████| 7113/7113 [00:01<00:00, 6911.20it/s]\n"
     ]
    },
    {
     "name": "stdout",
     "output_type": "stream",
     "text": [
      "Chunk complete in 1.26s. Progress: 6600/10056 files, 6600 successful, 0 games, 860160 actions\n",
      "Processing chunk 133/202 (50 files)\n"
     ]
    },
    {
     "name": "stderr",
     "output_type": "stream",
     "text": [
      "Processing XML files: 100%|██████████| 50/50 [00:00<00:00, 1258.18it/s]\n"
     ]
    },
    {
     "name": "stdout",
     "output_type": "stream",
     "text": [
      "Inserting 2308 game players...\n",
      "Inserting 3549 cards...\n",
      "Inserting 7595 actions in smaller batches...\n"
     ]
    },
    {
     "name": "stderr",
     "output_type": "stream",
     "text": [
      "Inserting actions: 100%|██████████| 7595/7595 [00:00<00:00, 182268.18it/s]\n"
     ]
    },
    {
     "name": "stdout",
     "output_type": "stream",
     "text": [
      "Chunk complete in 0.26s. Progress: 6650/10056 files, 6650 successful, 0 games, 867755 actions\n",
      "Processing chunk 134/202 (50 files)\n"
     ]
    },
    {
     "name": "stderr",
     "output_type": "stream",
     "text": [
      "Processing XML files: 100%|██████████| 50/50 [00:00<00:00, 1335.36it/s]\n"
     ]
    },
    {
     "name": "stdout",
     "output_type": "stream",
     "text": [
      "Inserting 1928 game players...\n",
      "Inserting 3039 cards...\n",
      "Inserting 6569 actions in smaller batches...\n"
     ]
    },
    {
     "name": "stderr",
     "output_type": "stream",
     "text": [
      "Inserting actions: 100%|██████████| 6569/6569 [00:01<00:00, 6499.78it/s]\n"
     ]
    },
    {
     "name": "stdout",
     "output_type": "stream",
     "text": [
      "Chunk complete in 1.23s. Progress: 6700/10056 files, 6700 successful, 0 games, 874324 actions\n",
      "Processing chunk 135/202 (50 files)\n"
     ]
    },
    {
     "name": "stderr",
     "output_type": "stream",
     "text": [
      "Processing XML files: 100%|██████████| 50/50 [00:00<00:00, 81728.45it/s]\n"
     ]
    },
    {
     "name": "stdout",
     "output_type": "stream",
     "text": [
      "Inserting 1776 game players...\n",
      "Inserting 2776 cards...\n",
      "Inserting 6066 actions in smaller batches...\n"
     ]
    },
    {
     "name": "stderr",
     "output_type": "stream",
     "text": [
      "Inserting actions: 100%|██████████| 6066/6066 [00:00<00:00, 183153.95it/s]\n"
     ]
    },
    {
     "name": "stdout",
     "output_type": "stream",
     "text": [
      "Chunk complete in 0.21s. Progress: 6750/10056 files, 6750 successful, 0 games, 880390 actions\n",
      "Processing chunk 136/202 (50 files)\n"
     ]
    },
    {
     "name": "stderr",
     "output_type": "stream",
     "text": [
      "Processing XML files: 100%|██████████| 50/50 [00:00<00:00, 9103.80it/s]\n"
     ]
    },
    {
     "name": "stdout",
     "output_type": "stream",
     "text": [
      "Inserting 1825 game players...\n",
      "Inserting 2876 cards...\n",
      "Inserting 6319 actions in smaller batches...\n"
     ]
    },
    {
     "name": "stderr",
     "output_type": "stream",
     "text": [
      "Inserting actions: 100%|██████████| 6319/6319 [00:01<00:00, 5854.36it/s]\n"
     ]
    },
    {
     "name": "stdout",
     "output_type": "stream",
     "text": [
      "Chunk complete in 1.26s. Progress: 6800/10056 files, 6800 successful, 0 games, 886709 actions\n",
      "Processing chunk 137/202 (50 files)\n"
     ]
    },
    {
     "name": "stderr",
     "output_type": "stream",
     "text": [
      "Processing XML files: 100%|██████████| 50/50 [00:00<00:00, 970.49it/s]\n"
     ]
    },
    {
     "name": "stdout",
     "output_type": "stream",
     "text": [
      "Inserting 1825 game players...\n",
      "Inserting 2824 cards...\n",
      "Inserting 6078 actions in smaller batches...\n"
     ]
    },
    {
     "name": "stderr",
     "output_type": "stream",
     "text": [
      "Inserting actions: 100%|██████████| 6078/6078 [00:00<00:00, 176959.62it/s]\n"
     ]
    },
    {
     "name": "stdout",
     "output_type": "stream",
     "text": [
      "Chunk complete in 0.24s. Progress: 6850/10056 files, 6850 successful, 0 games, 892787 actions\n",
      "Processing chunk 138/202 (50 files)\n"
     ]
    },
    {
     "name": "stderr",
     "output_type": "stream",
     "text": [
      "Processing XML files: 100%|██████████| 50/50 [00:00<00:00, 1148.20it/s]\n"
     ]
    },
    {
     "name": "stdout",
     "output_type": "stream",
     "text": [
      "Inserting 2031 game players...\n",
      "Inserting 3164 cards...\n",
      "Inserting 7048 actions in smaller batches...\n"
     ]
    },
    {
     "name": "stderr",
     "output_type": "stream",
     "text": [
      "Inserting actions: 100%|██████████| 7048/7048 [00:00<00:00, 188380.71it/s]\n"
     ]
    },
    {
     "name": "stdout",
     "output_type": "stream",
     "text": [
      "Chunk complete in 0.24s. Progress: 6900/10056 files, 6900 successful, 0 games, 899835 actions\n",
      "Processing chunk 139/202 (50 files)\n"
     ]
    },
    {
     "name": "stderr",
     "output_type": "stream",
     "text": [
      "Processing XML files: 100%|██████████| 50/50 [00:00<00:00, 1005.88it/s]\n"
     ]
    },
    {
     "name": "stdout",
     "output_type": "stream",
     "text": [
      "Inserting 1965 game players...\n",
      "Inserting 3075 cards...\n",
      "Inserting 6609 actions in smaller batches...\n"
     ]
    },
    {
     "name": "stderr",
     "output_type": "stream",
     "text": [
      "Inserting actions: 100%|██████████| 6609/6609 [00:00<00:00, 117932.51it/s]\n"
     ]
    },
    {
     "name": "stdout",
     "output_type": "stream",
     "text": [
      "Chunk complete in 1.18s. Progress: 6950/10056 files, 6950 successful, 0 games, 906444 actions\n",
      "Processing chunk 140/202 (50 files)\n"
     ]
    },
    {
     "name": "stderr",
     "output_type": "stream",
     "text": [
      "Processing XML files: 100%|██████████| 50/50 [00:00<?, ?it/s]\n"
     ]
    },
    {
     "name": "stdout",
     "output_type": "stream",
     "text": [
      "Inserting 1965 game players...\n",
      "Inserting 3029 cards...\n",
      "Inserting 6644 actions in smaller batches...\n"
     ]
    },
    {
     "name": "stderr",
     "output_type": "stream",
     "text": [
      "Inserting actions: 100%|██████████| 6644/6644 [00:00<00:00, 183598.55it/s]\n"
     ]
    },
    {
     "name": "stdout",
     "output_type": "stream",
     "text": [
      "Chunk complete in 0.23s. Progress: 7000/10056 files, 7000 successful, 0 games, 913088 actions\n",
      "Processing chunk 141/202 (50 files)\n"
     ]
    },
    {
     "name": "stderr",
     "output_type": "stream",
     "text": [
      "Processing XML files: 100%|██████████| 50/50 [00:00<00:00, 1696.78it/s]\n"
     ]
    },
    {
     "name": "stdout",
     "output_type": "stream",
     "text": [
      "Inserting 1830 game players...\n",
      "Inserting 2901 cards...\n",
      "Inserting 6235 actions in smaller batches...\n"
     ]
    },
    {
     "name": "stderr",
     "output_type": "stream",
     "text": [
      "Inserting actions: 100%|██████████| 6235/6235 [00:01<00:00, 5210.60it/s]\n"
     ]
    },
    {
     "name": "stdout",
     "output_type": "stream",
     "text": [
      "Chunk complete in 1.39s. Progress: 7050/10056 files, 7050 successful, 0 games, 919323 actions\n",
      "Processing chunk 142/202 (50 files)\n"
     ]
    },
    {
     "name": "stderr",
     "output_type": "stream",
     "text": [
      "Processing XML files: 100%|██████████| 50/50 [00:00<?, ?it/s]\n"
     ]
    },
    {
     "name": "stdout",
     "output_type": "stream",
     "text": [
      "Inserting 1969 game players...\n",
      "Inserting 3036 cards...\n",
      "Inserting 6586 actions in smaller batches...\n"
     ]
    },
    {
     "name": "stderr",
     "output_type": "stream",
     "text": [
      "Inserting actions: 100%|██████████| 6586/6586 [00:00<00:00, 188390.41it/s]\n"
     ]
    },
    {
     "name": "stdout",
     "output_type": "stream",
     "text": [
      "Chunk complete in 0.22s. Progress: 7100/10056 files, 7100 successful, 0 games, 925909 actions\n",
      "Processing chunk 143/202 (50 files)\n"
     ]
    },
    {
     "name": "stderr",
     "output_type": "stream",
     "text": [
      "Processing XML files: 100%|██████████| 50/50 [00:00<00:00, 81537.79it/s]\n"
     ]
    },
    {
     "name": "stdout",
     "output_type": "stream",
     "text": [
      "Inserting 1824 game players...\n",
      "Inserting 2847 cards...\n",
      "Inserting 6016 actions in smaller batches...\n"
     ]
    },
    {
     "name": "stderr",
     "output_type": "stream",
     "text": [
      "Inserting actions: 100%|██████████| 6016/6016 [00:01<00:00, 5685.64it/s]\n"
     ]
    },
    {
     "name": "stdout",
     "output_type": "stream",
     "text": [
      "Chunk complete in 1.24s. Progress: 7150/10056 files, 7150 successful, 0 games, 931925 actions\n",
      "Processing chunk 144/202 (50 files)\n"
     ]
    },
    {
     "name": "stderr",
     "output_type": "stream",
     "text": [
      "Processing XML files: 100%|██████████| 50/50 [00:00<00:00, 1006.62it/s]\n"
     ]
    },
    {
     "name": "stdout",
     "output_type": "stream",
     "text": [
      "Inserting 1811 game players...\n",
      "Inserting 2794 cards...\n",
      "Inserting 6124 actions in smaller batches...\n"
     ]
    },
    {
     "name": "stderr",
     "output_type": "stream",
     "text": [
      "Inserting actions: 100%|██████████| 6124/6124 [00:00<00:00, 181386.20it/s]\n"
     ]
    },
    {
     "name": "stdout",
     "output_type": "stream",
     "text": [
      "Chunk complete in 0.24s. Progress: 7200/10056 files, 7200 successful, 0 games, 938049 actions\n",
      "Processing chunk 145/202 (50 files)\n"
     ]
    },
    {
     "name": "stderr",
     "output_type": "stream",
     "text": [
      "Processing XML files: 100%|██████████| 50/50 [00:00<00:00, 696.77it/s]\n"
     ]
    },
    {
     "name": "stdout",
     "output_type": "stream",
     "text": [
      "Inserting 1858 game players...\n",
      "Inserting 2899 cards...\n",
      "Inserting 6339 actions in smaller batches...\n"
     ]
    },
    {
     "name": "stderr",
     "output_type": "stream",
     "text": [
      "Inserting actions: 100%|██████████| 6339/6339 [00:00<00:00, 187782.11it/s]\n"
     ]
    },
    {
     "name": "stdout",
     "output_type": "stream",
     "text": [
      "Chunk complete in 0.21s. Progress: 7250/10056 files, 7250 successful, 0 games, 944388 actions\n",
      "Processing chunk 146/202 (50 files)\n"
     ]
    },
    {
     "name": "stderr",
     "output_type": "stream",
     "text": [
      "Processing XML files: 100%|██████████| 50/50 [00:00<00:00, 491.09it/s]\n"
     ]
    },
    {
     "name": "stdout",
     "output_type": "stream",
     "text": [
      "Inserting 1871 game players...\n",
      "Inserting 2972 cards...\n",
      "Inserting 6583 actions in smaller batches...\n"
     ]
    },
    {
     "name": "stderr",
     "output_type": "stream",
     "text": [
      "Inserting actions: 100%|██████████| 6583/6583 [00:00<00:00, 129146.96it/s]\n"
     ]
    },
    {
     "name": "stdout",
     "output_type": "stream",
     "text": [
      "Chunk complete in 1.22s. Progress: 7300/10056 files, 7300 successful, 0 games, 950971 actions\n",
      "Processing chunk 147/202 (50 files)\n"
     ]
    },
    {
     "name": "stderr",
     "output_type": "stream",
     "text": [
      "Processing XML files: 100%|██████████| 50/50 [00:00<00:00, 582.26it/s]\n"
     ]
    },
    {
     "name": "stdout",
     "output_type": "stream",
     "text": [
      "Inserting 1915 game players...\n",
      "Inserting 3008 cards...\n",
      "Inserting 6490 actions in smaller batches...\n"
     ]
    },
    {
     "name": "stderr",
     "output_type": "stream",
     "text": [
      "Inserting actions: 100%|██████████| 6490/6490 [00:00<00:00, 142994.65it/s]\n"
     ]
    },
    {
     "name": "stdout",
     "output_type": "stream",
     "text": [
      "Chunk complete in 0.23s. Progress: 7350/10056 files, 7350 successful, 0 games, 957461 actions\n",
      "Processing chunk 148/202 (50 files)\n"
     ]
    },
    {
     "name": "stderr",
     "output_type": "stream",
     "text": [
      "Processing XML files: 100%|██████████| 50/50 [00:00<00:00, 594.35it/s]\n"
     ]
    },
    {
     "name": "stdout",
     "output_type": "stream",
     "text": [
      "Inserting 1891 game players...\n",
      "Inserting 2927 cards...\n",
      "Inserting 6477 actions in smaller batches...\n"
     ]
    },
    {
     "name": "stderr",
     "output_type": "stream",
     "text": [
      "Inserting actions: 100%|██████████| 6477/6477 [00:01<00:00, 5397.15it/s]\n"
     ]
    },
    {
     "name": "stdout",
     "output_type": "stream",
     "text": [
      "Chunk complete in 1.39s. Progress: 7400/10056 files, 7400 successful, 0 games, 963938 actions\n",
      "Processing chunk 149/202 (50 files)\n"
     ]
    },
    {
     "name": "stderr",
     "output_type": "stream",
     "text": [
      "Processing XML files: 100%|██████████| 50/50 [00:00<?, ?it/s]\n"
     ]
    },
    {
     "name": "stdout",
     "output_type": "stream",
     "text": [
      "Inserting 1952 game players...\n",
      "Inserting 3100 cards...\n",
      "Inserting 6622 actions in smaller batches...\n"
     ]
    },
    {
     "name": "stderr",
     "output_type": "stream",
     "text": [
      "Inserting actions: 100%|██████████| 6622/6622 [00:00<00:00, 183124.53it/s]\n"
     ]
    },
    {
     "name": "stdout",
     "output_type": "stream",
     "text": [
      "Chunk complete in 0.23s. Progress: 7450/10056 files, 7450 successful, 0 games, 970560 actions\n",
      "Processing chunk 150/202 (50 files)\n"
     ]
    },
    {
     "name": "stderr",
     "output_type": "stream",
     "text": [
      "Processing XML files: 100%|██████████| 50/50 [00:00<00:00, 807.20it/s]\n"
     ]
    },
    {
     "name": "stdout",
     "output_type": "stream",
     "text": [
      "Inserting 1870 game players...\n",
      "Inserting 2882 cards...\n",
      "Inserting 6328 actions in smaller batches...\n"
     ]
    },
    {
     "name": "stderr",
     "output_type": "stream",
     "text": [
      "Inserting actions: 100%|██████████| 6328/6328 [00:01<00:00, 5484.09it/s]\n"
     ]
    },
    {
     "name": "stdout",
     "output_type": "stream",
     "text": [
      "Chunk complete in 1.34s. Progress: 7500/10056 files, 7500 successful, 0 games, 976888 actions\n",
      "Processing chunk 151/202 (50 files)\n"
     ]
    },
    {
     "name": "stderr",
     "output_type": "stream",
     "text": [
      "Processing XML files: 100%|██████████| 50/50 [00:00<00:00, 1180.72it/s]\n"
     ]
    },
    {
     "name": "stdout",
     "output_type": "stream",
     "text": [
      "Inserting 1907 game players...\n",
      "Inserting 3053 cards...\n",
      "Inserting 6727 actions in smaller batches...\n"
     ]
    },
    {
     "name": "stderr",
     "output_type": "stream",
     "text": [
      "Inserting actions: 100%|██████████| 6727/6727 [00:00<00:00, 185917.88it/s]\n"
     ]
    },
    {
     "name": "stdout",
     "output_type": "stream",
     "text": [
      "Chunk complete in 0.25s. Progress: 7550/10056 files, 7550 successful, 0 games, 983615 actions\n",
      "Processing chunk 152/202 (50 files)\n"
     ]
    },
    {
     "name": "stderr",
     "output_type": "stream",
     "text": [
      "Processing XML files: 100%|██████████| 50/50 [00:00<00:00, 468.51it/s]"
     ]
    },
    {
     "name": "stdout",
     "output_type": "stream",
     "text": [
      "Inserting 2130 game players...\n"
     ]
    },
    {
     "name": "stderr",
     "output_type": "stream",
     "text": [
      "\n"
     ]
    },
    {
     "name": "stdout",
     "output_type": "stream",
     "text": [
      "Inserting 3332 cards...\n",
      "Inserting 7297 actions in smaller batches...\n"
     ]
    },
    {
     "name": "stderr",
     "output_type": "stream",
     "text": [
      "Inserting actions: 100%|██████████| 7297/7297 [00:01<00:00, 6559.34it/s]\n"
     ]
    },
    {
     "name": "stdout",
     "output_type": "stream",
     "text": [
      "Chunk complete in 1.32s. Progress: 7600/10056 files, 7600 successful, 0 games, 990912 actions\n",
      "Processing chunk 153/202 (50 files)\n"
     ]
    },
    {
     "name": "stderr",
     "output_type": "stream",
     "text": [
      "Processing XML files: 100%|██████████| 50/50 [00:00<00:00, 636.84it/s]\n"
     ]
    },
    {
     "name": "stdout",
     "output_type": "stream",
     "text": [
      "Inserting 2097 game players...\n",
      "Inserting 3349 cards...\n",
      "Inserting 7299 actions in smaller batches...\n"
     ]
    },
    {
     "name": "stderr",
     "output_type": "stream",
     "text": [
      "Inserting actions: 100%|██████████| 7299/7299 [00:00<00:00, 183069.87it/s]\n"
     ]
    },
    {
     "name": "stdout",
     "output_type": "stream",
     "text": [
      "Chunk complete in 0.27s. Progress: 7650/10056 files, 7650 successful, 0 games, 998211 actions\n",
      "Processing chunk 154/202 (50 files)\n"
     ]
    },
    {
     "name": "stderr",
     "output_type": "stream",
     "text": [
      "Processing XML files: 100%|██████████| 50/50 [00:00<00:00, 5077.85it/s]\n"
     ]
    },
    {
     "name": "stdout",
     "output_type": "stream",
     "text": [
      "Inserting 1838 game players...\n",
      "Inserting 2834 cards...\n",
      "Inserting 6024 actions in smaller batches...\n"
     ]
    },
    {
     "name": "stderr",
     "output_type": "stream",
     "text": [
      "Inserting actions: 100%|██████████| 6024/6024 [00:00<00:00, 185319.70it/s]\n"
     ]
    },
    {
     "name": "stdout",
     "output_type": "stream",
     "text": [
      "Chunk complete in 0.21s. Progress: 7700/10056 files, 7700 successful, 0 games, 1004235 actions\n",
      "Processing chunk 155/202 (50 files)\n"
     ]
    },
    {
     "name": "stderr",
     "output_type": "stream",
     "text": [
      "Processing XML files: 100%|██████████| 50/50 [00:00<00:00, 16305.02it/s]\n"
     ]
    },
    {
     "name": "stdout",
     "output_type": "stream",
     "text": [
      "Inserting 1992 game players...\n",
      "Inserting 3186 cards...\n",
      "Inserting 6803 actions in smaller batches...\n"
     ]
    },
    {
     "name": "stderr",
     "output_type": "stream",
     "text": [
      "Inserting actions: 100%|██████████| 6803/6803 [00:00<00:00, 128974.13it/s]\n"
     ]
    },
    {
     "name": "stdout",
     "output_type": "stream",
     "text": [
      "Chunk complete in 1.20s. Progress: 7750/10056 files, 7750 successful, 0 games, 1011038 actions\n",
      "Processing chunk 156/202 (50 files)\n"
     ]
    },
    {
     "name": "stderr",
     "output_type": "stream",
     "text": [
      "Processing XML files: 100%|██████████| 50/50 [00:00<00:00, 685.10it/s]\n"
     ]
    },
    {
     "name": "stdout",
     "output_type": "stream",
     "text": [
      "Inserting 1765 game players...\n",
      "Inserting 2726 cards...\n",
      "Inserting 5966 actions in smaller batches...\n"
     ]
    },
    {
     "name": "stderr",
     "output_type": "stream",
     "text": [
      "Inserting actions: 100%|██████████| 5966/5966 [00:00<00:00, 159600.08it/s]\n"
     ]
    },
    {
     "name": "stdout",
     "output_type": "stream",
     "text": [
      "Chunk complete in 0.21s. Progress: 7800/10056 files, 7800 successful, 0 games, 1017004 actions\n",
      "Processing chunk 157/202 (50 files)\n"
     ]
    },
    {
     "name": "stderr",
     "output_type": "stream",
     "text": [
      "Processing XML files: 100%|██████████| 50/50 [00:00<00:00, 81537.79it/s]\n"
     ]
    },
    {
     "name": "stdout",
     "output_type": "stream",
     "text": [
      "Inserting 1904 game players...\n",
      "Inserting 2980 cards...\n",
      "Inserting 6551 actions in smaller batches...\n"
     ]
    },
    {
     "name": "stderr",
     "output_type": "stream",
     "text": [
      "Inserting actions: 100%|██████████| 6551/6551 [00:01<00:00, 5384.97it/s]\n"
     ]
    },
    {
     "name": "stdout",
     "output_type": "stream",
     "text": [
      "Chunk complete in 1.41s. Progress: 7850/10056 files, 7850 successful, 0 games, 1023555 actions\n",
      "Processing chunk 158/202 (50 files)\n"
     ]
    },
    {
     "name": "stderr",
     "output_type": "stream",
     "text": [
      "Processing XML files: 100%|██████████| 50/50 [00:00<00:00, 532.79it/s]\n"
     ]
    },
    {
     "name": "stdout",
     "output_type": "stream",
     "text": [
      "Inserting 1852 game players...\n",
      "Inserting 2881 cards...\n",
      "Inserting 6186 actions in smaller batches...\n"
     ]
    },
    {
     "name": "stderr",
     "output_type": "stream",
     "text": [
      "Inserting actions: 100%|██████████| 6186/6186 [00:00<00:00, 160084.19it/s]\n"
     ]
    },
    {
     "name": "stdout",
     "output_type": "stream",
     "text": [
      "Chunk complete in 0.22s. Progress: 7900/10056 files, 7900 successful, 0 games, 1029741 actions\n",
      "Processing chunk 159/202 (50 files)\n"
     ]
    },
    {
     "name": "stderr",
     "output_type": "stream",
     "text": [
      "Processing XML files: 100%|██████████| 50/50 [00:00<00:00, 651.72it/s]\n"
     ]
    },
    {
     "name": "stdout",
     "output_type": "stream",
     "text": [
      "Inserting 1948 game players...\n",
      "Inserting 3077 cards...\n",
      "Inserting 6609 actions in smaller batches...\n"
     ]
    },
    {
     "name": "stderr",
     "output_type": "stream",
     "text": [
      "Inserting actions: 100%|██████████| 6609/6609 [00:01<00:00, 5996.47it/s]\n"
     ]
    },
    {
     "name": "stdout",
     "output_type": "stream",
     "text": [
      "Chunk complete in 1.29s. Progress: 7950/10056 files, 7950 successful, 0 games, 1036350 actions\n",
      "Processing chunk 160/202 (50 files)\n"
     ]
    },
    {
     "name": "stderr",
     "output_type": "stream",
     "text": [
      "Processing XML files: 100%|██████████| 50/50 [00:00<00:00, 82793.21it/s]\n"
     ]
    },
    {
     "name": "stdout",
     "output_type": "stream",
     "text": [
      "Inserting 2044 game players...\n",
      "Inserting 3186 cards...\n",
      "Inserting 6950 actions in smaller batches...\n"
     ]
    },
    {
     "name": "stderr",
     "output_type": "stream",
     "text": [
      "Inserting actions: 100%|██████████| 6950/6950 [00:00<00:00, 185621.76it/s]\n"
     ]
    },
    {
     "name": "stdout",
     "output_type": "stream",
     "text": [
      "Chunk complete in 0.29s. Progress: 8000/10056 files, 8000 successful, 0 games, 1043300 actions\n",
      "Processing chunk 161/202 (50 files)\n"
     ]
    },
    {
     "name": "stderr",
     "output_type": "stream",
     "text": [
      "Processing XML files: 100%|██████████| 50/50 [00:00<00:00, 1100.98it/s]\n"
     ]
    },
    {
     "name": "stdout",
     "output_type": "stream",
     "text": [
      "Inserting 1915 game players...\n",
      "Inserting 2899 cards...\n",
      "Inserting 6396 actions in smaller batches...\n"
     ]
    },
    {
     "name": "stderr",
     "output_type": "stream",
     "text": [
      "Inserting actions: 100%|██████████| 6396/6396 [00:00<00:00, 182953.03it/s]\n"
     ]
    },
    {
     "name": "stdout",
     "output_type": "stream",
     "text": [
      "Chunk complete in 0.22s. Progress: 8050/10056 files, 8050 successful, 0 games, 1049696 actions\n",
      "Processing chunk 162/202 (50 files)\n"
     ]
    },
    {
     "name": "stderr",
     "output_type": "stream",
     "text": [
      "Processing XML files: 100%|██████████| 50/50 [00:00<00:00, 662.92it/s]\n"
     ]
    },
    {
     "name": "stdout",
     "output_type": "stream",
     "text": [
      "Inserting 2046 game players...\n",
      "Inserting 3110 cards...\n",
      "Inserting 6854 actions in smaller batches...\n"
     ]
    },
    {
     "name": "stderr",
     "output_type": "stream",
     "text": [
      "Inserting actions: 100%|██████████| 6854/6854 [00:00<00:00, 125462.11it/s]\n"
     ]
    },
    {
     "name": "stdout",
     "output_type": "stream",
     "text": [
      "Chunk complete in 1.31s. Progress: 8100/10056 files, 8100 successful, 0 games, 1056550 actions\n",
      "Processing chunk 163/202 (50 files)\n"
     ]
    },
    {
     "name": "stderr",
     "output_type": "stream",
     "text": [
      "Processing XML files: 100%|██████████| 50/50 [00:00<00:00, 5083.27it/s]\n"
     ]
    },
    {
     "name": "stdout",
     "output_type": "stream",
     "text": [
      "Inserting 1865 game players...\n",
      "Inserting 2896 cards...\n",
      "Inserting 6294 actions in smaller batches...\n"
     ]
    },
    {
     "name": "stderr",
     "output_type": "stream",
     "text": [
      "Inserting actions: 100%|██████████| 6294/6294 [00:00<00:00, 186769.60it/s]\n"
     ]
    },
    {
     "name": "stdout",
     "output_type": "stream",
     "text": [
      "Chunk complete in 0.22s. Progress: 8150/10056 files, 8150 successful, 0 games, 1062844 actions\n",
      "Processing chunk 164/202 (50 files)\n"
     ]
    },
    {
     "name": "stderr",
     "output_type": "stream",
     "text": [
      "Processing XML files: 100%|██████████| 50/50 [00:00<00:00, 608.39it/s]\n"
     ]
    },
    {
     "name": "stdout",
     "output_type": "stream",
     "text": [
      "Inserting 2013 game players...\n",
      "Inserting 3145 cards...\n",
      "Inserting 6701 actions in smaller batches...\n"
     ]
    },
    {
     "name": "stderr",
     "output_type": "stream",
     "text": [
      "Inserting actions: 100%|██████████| 6701/6701 [00:01<00:00, 5954.23it/s]\n"
     ]
    },
    {
     "name": "stdout",
     "output_type": "stream",
     "text": [
      "Chunk complete in 1.31s. Progress: 8200/10056 files, 8200 successful, 0 games, 1069545 actions\n",
      "Processing chunk 165/202 (50 files)\n"
     ]
    },
    {
     "name": "stderr",
     "output_type": "stream",
     "text": [
      "Processing XML files: 100%|██████████| 50/50 [00:00<00:00, 2320.53it/s]\n"
     ]
    },
    {
     "name": "stdout",
     "output_type": "stream",
     "text": [
      "Inserting 1856 game players...\n",
      "Inserting 2899 cards...\n",
      "Inserting 6388 actions in smaller batches...\n"
     ]
    },
    {
     "name": "stderr",
     "output_type": "stream",
     "text": [
      "Inserting actions: 100%|██████████| 6388/6388 [00:00<00:00, 189443.71it/s]\n"
     ]
    },
    {
     "name": "stdout",
     "output_type": "stream",
     "text": [
      "Chunk complete in 0.22s. Progress: 8250/10056 files, 8250 successful, 0 games, 1075933 actions\n",
      "Processing chunk 166/202 (50 files)\n"
     ]
    },
    {
     "name": "stderr",
     "output_type": "stream",
     "text": [
      "Processing XML files: 100%|██████████| 50/50 [00:00<00:00, 346.86it/s]\n"
     ]
    },
    {
     "name": "stdout",
     "output_type": "stream",
     "text": [
      "Inserting 2075 game players...\n",
      "Inserting 3160 cards...\n",
      "Inserting 6879 actions in smaller batches...\n"
     ]
    },
    {
     "name": "stderr",
     "output_type": "stream",
     "text": [
      "Inserting actions: 100%|██████████| 6879/6879 [00:01<00:00, 5981.66it/s]\n"
     ]
    },
    {
     "name": "stdout",
     "output_type": "stream",
     "text": [
      "Chunk complete in 1.39s. Progress: 8300/10056 files, 8300 successful, 0 games, 1082812 actions\n",
      "Processing chunk 167/202 (50 files)\n"
     ]
    },
    {
     "name": "stderr",
     "output_type": "stream",
     "text": [
      "Processing XML files: 100%|██████████| 50/50 [00:00<00:00, 1734.52it/s]\n"
     ]
    },
    {
     "name": "stdout",
     "output_type": "stream",
     "text": [
      "Inserting 2040 game players...\n",
      "Inserting 3176 cards...\n",
      "Inserting 6740 actions in smaller batches...\n"
     ]
    },
    {
     "name": "stderr",
     "output_type": "stream",
     "text": [
      "Inserting actions: 100%|██████████| 6740/6740 [00:00<00:00, 186078.53it/s]\n"
     ]
    },
    {
     "name": "stdout",
     "output_type": "stream",
     "text": [
      "Chunk complete in 0.23s. Progress: 8350/10056 files, 8350 successful, 0 games, 1089552 actions\n",
      "Processing chunk 168/202 (50 files)\n"
     ]
    },
    {
     "name": "stderr",
     "output_type": "stream",
     "text": [
      "Processing XML files: 100%|██████████| 50/50 [00:00<00:00, 3712.89it/s]\n"
     ]
    },
    {
     "name": "stdout",
     "output_type": "stream",
     "text": [
      "Inserting 1937 game players...\n",
      "Inserting 3056 cards...\n",
      "Inserting 6699 actions in smaller batches...\n"
     ]
    },
    {
     "name": "stderr",
     "output_type": "stream",
     "text": [
      "Inserting actions: 100%|██████████| 6699/6699 [00:01<00:00, 5470.75it/s]\n"
     ]
    },
    {
     "name": "stdout",
     "output_type": "stream",
     "text": [
      "Chunk complete in 1.42s. Progress: 8400/10056 files, 8400 successful, 0 games, 1096251 actions\n",
      "Processing chunk 169/202 (50 files)\n"
     ]
    },
    {
     "name": "stderr",
     "output_type": "stream",
     "text": [
      "Processing XML files: 100%|██████████| 50/50 [00:00<00:00, 652.18it/s]\n"
     ]
    },
    {
     "name": "stdout",
     "output_type": "stream",
     "text": [
      "Inserting 1787 game players...\n",
      "Inserting 2761 cards...\n",
      "Inserting 5978 actions in smaller batches...\n"
     ]
    },
    {
     "name": "stderr",
     "output_type": "stream",
     "text": [
      "Inserting actions: 100%|██████████| 5978/5978 [00:00<00:00, 184061.17it/s]\n"
     ]
    },
    {
     "name": "stdout",
     "output_type": "stream",
     "text": [
      "Chunk complete in 0.20s. Progress: 8450/10056 files, 8450 successful, 0 games, 1102229 actions\n",
      "Processing chunk 170/202 (50 files)\n"
     ]
    },
    {
     "name": "stderr",
     "output_type": "stream",
     "text": [
      "Processing XML files: 100%|██████████| 50/50 [00:00<00:00, 4075.23it/s]\n"
     ]
    },
    {
     "name": "stdout",
     "output_type": "stream",
     "text": [
      "Inserting 1984 game players...\n",
      "Inserting 3067 cards...\n",
      "Inserting 6760 actions in smaller batches...\n"
     ]
    },
    {
     "name": "stderr",
     "output_type": "stream",
     "text": [
      "Inserting actions: 100%|██████████| 6760/6760 [00:01<00:00, 5381.95it/s]\n"
     ]
    },
    {
     "name": "stdout",
     "output_type": "stream",
     "text": [
      "Chunk complete in 1.45s. Progress: 8500/10056 files, 8500 successful, 0 games, 1108989 actions\n",
      "Processing chunk 171/202 (50 files)\n"
     ]
    },
    {
     "name": "stderr",
     "output_type": "stream",
     "text": [
      "Processing XML files: 100%|██████████| 50/50 [00:00<00:00, 570.09it/s]\n"
     ]
    },
    {
     "name": "stdout",
     "output_type": "stream",
     "text": [
      "Inserting 1728 game players...\n",
      "Inserting 2710 cards...\n",
      "Inserting 5856 actions in smaller batches...\n"
     ]
    },
    {
     "name": "stderr",
     "output_type": "stream",
     "text": [
      "Inserting actions: 100%|██████████| 5856/5856 [00:00<00:00, 183611.13it/s]\n"
     ]
    },
    {
     "name": "stdout",
     "output_type": "stream",
     "text": [
      "Chunk complete in 0.22s. Progress: 8550/10056 files, 8550 successful, 0 games, 1114845 actions\n",
      "Processing chunk 172/202 (50 files)\n"
     ]
    },
    {
     "name": "stderr",
     "output_type": "stream",
     "text": [
      "Processing XML files: 100%|██████████| 50/50 [00:00<00:00, 1117.52it/s]\n"
     ]
    },
    {
     "name": "stdout",
     "output_type": "stream",
     "text": [
      "Inserting 1855 game players...\n",
      "Inserting 2856 cards...\n",
      "Inserting 6168 actions in smaller batches...\n"
     ]
    },
    {
     "name": "stderr",
     "output_type": "stream",
     "text": [
      "Inserting actions: 100%|██████████| 6168/6168 [00:00<00:00, 189607.80it/s]\n"
     ]
    },
    {
     "name": "stdout",
     "output_type": "stream",
     "text": [
      "Chunk complete in 0.21s. Progress: 8600/10056 files, 8600 successful, 0 games, 1121013 actions\n",
      "Processing chunk 173/202 (50 files)\n"
     ]
    },
    {
     "name": "stderr",
     "output_type": "stream",
     "text": [
      "Processing XML files: 100%|██████████| 50/50 [00:00<00:00, 5842.79it/s]\n"
     ]
    },
    {
     "name": "stdout",
     "output_type": "stream",
     "text": [
      "Inserting 1775 game players...\n",
      "Inserting 2822 cards...\n",
      "Inserting 6065 actions in smaller batches...\n"
     ]
    },
    {
     "name": "stderr",
     "output_type": "stream",
     "text": [
      "Inserting actions: 100%|██████████| 6065/6065 [00:01<00:00, 4698.19it/s]\n"
     ]
    },
    {
     "name": "stdout",
     "output_type": "stream",
     "text": [
      "Chunk complete in 1.48s. Progress: 8650/10056 files, 8650 successful, 0 games, 1127078 actions\n",
      "Processing chunk 174/202 (50 files)\n"
     ]
    },
    {
     "name": "stderr",
     "output_type": "stream",
     "text": [
      "Processing XML files: 100%|██████████| 50/50 [00:00<00:00, 702.76it/s]\n"
     ]
    },
    {
     "name": "stdout",
     "output_type": "stream",
     "text": [
      "Inserting 2043 game players...\n",
      "Inserting 3221 cards...\n",
      "Inserting 6871 actions in smaller batches...\n"
     ]
    },
    {
     "name": "stderr",
     "output_type": "stream",
     "text": [
      "Inserting actions: 100%|██████████| 6871/6871 [00:00<00:00, 186597.58it/s]\n"
     ]
    },
    {
     "name": "stdout",
     "output_type": "stream",
     "text": [
      "Chunk complete in 0.23s. Progress: 8700/10056 files, 8700 successful, 0 games, 1133949 actions\n",
      "Processing chunk 175/202 (50 files)\n"
     ]
    },
    {
     "name": "stderr",
     "output_type": "stream",
     "text": [
      "Processing XML files: 100%|██████████| 50/50 [00:00<?, ?it/s]\n"
     ]
    },
    {
     "name": "stdout",
     "output_type": "stream",
     "text": [
      "Inserting 1929 game players...\n",
      "Inserting 3049 cards...\n",
      "Inserting 6591 actions in smaller batches...\n"
     ]
    },
    {
     "name": "stderr",
     "output_type": "stream",
     "text": [
      "Inserting actions: 100%|██████████| 6591/6591 [00:01<00:00, 5755.13it/s]\n"
     ]
    },
    {
     "name": "stdout",
     "output_type": "stream",
     "text": [
      "Chunk complete in 1.33s. Progress: 8750/10056 files, 8750 successful, 0 games, 1140540 actions\n",
      "Processing chunk 176/202 (50 files)\n"
     ]
    },
    {
     "name": "stderr",
     "output_type": "stream",
     "text": [
      "Processing XML files: 100%|██████████| 50/50 [00:00<00:00, 20380.49it/s]\n"
     ]
    },
    {
     "name": "stdout",
     "output_type": "stream",
     "text": [
      "Inserting 1942 game players...\n",
      "Inserting 2915 cards...\n",
      "Inserting 6157 actions in smaller batches...\n"
     ]
    },
    {
     "name": "stderr",
     "output_type": "stream",
     "text": [
      "Inserting actions: 100%|██████████| 6157/6157 [00:00<00:00, 182362.33it/s]\n"
     ]
    },
    {
     "name": "stdout",
     "output_type": "stream",
     "text": [
      "Chunk complete in 0.25s. Progress: 8800/10056 files, 8800 successful, 0 games, 1146697 actions\n",
      "Processing chunk 177/202 (50 files)\n"
     ]
    },
    {
     "name": "stderr",
     "output_type": "stream",
     "text": [
      "Processing XML files: 100%|██████████| 50/50 [00:00<00:00, 3261.61it/s]\n"
     ]
    },
    {
     "name": "stdout",
     "output_type": "stream",
     "text": [
      "Inserting 1686 game players...\n",
      "Inserting 2647 cards...\n",
      "Inserting 5650 actions in smaller batches...\n"
     ]
    },
    {
     "name": "stderr",
     "output_type": "stream",
     "text": [
      "Inserting actions: 100%|██████████| 5650/5650 [00:00<00:00, 180453.06it/s]\n"
     ]
    },
    {
     "name": "stdout",
     "output_type": "stream",
     "text": [
      "Chunk complete in 0.20s. Progress: 8850/10056 files, 8850 successful, 0 games, 1152347 actions\n",
      "Processing chunk 178/202 (50 files)\n"
     ]
    },
    {
     "name": "stderr",
     "output_type": "stream",
     "text": [
      "Processing XML files: 100%|██████████| 50/50 [00:00<00:00, 762.20it/s]\n"
     ]
    },
    {
     "name": "stdout",
     "output_type": "stream",
     "text": [
      "Inserting 2053 game players...\n",
      "Inserting 3169 cards...\n",
      "Inserting 6762 actions in smaller batches...\n"
     ]
    },
    {
     "name": "stderr",
     "output_type": "stream",
     "text": [
      "Inserting actions: 100%|██████████| 6762/6762 [00:01<00:00, 6056.20it/s]\n"
     ]
    },
    {
     "name": "stdout",
     "output_type": "stream",
     "text": [
      "Chunk complete in 1.31s. Progress: 8900/10056 files, 8900 successful, 0 games, 1159109 actions\n",
      "Processing chunk 179/202 (50 files)\n"
     ]
    },
    {
     "name": "stderr",
     "output_type": "stream",
     "text": [
      "Processing XML files: 100%|██████████| 50/50 [00:00<00:00, 895.84it/s]\n"
     ]
    },
    {
     "name": "stdout",
     "output_type": "stream",
     "text": [
      "Inserting 1865 game players...\n",
      "Inserting 2957 cards...\n",
      "Inserting 6567 actions in smaller batches...\n"
     ]
    },
    {
     "name": "stderr",
     "output_type": "stream",
     "text": [
      "Inserting actions: 100%|██████████| 6567/6567 [00:00<00:00, 181679.03it/s]\n"
     ]
    },
    {
     "name": "stdout",
     "output_type": "stream",
     "text": [
      "Chunk complete in 0.23s. Progress: 8950/10056 files, 8950 successful, 0 games, 1165676 actions\n",
      "Processing chunk 180/202 (50 files)\n"
     ]
    },
    {
     "name": "stderr",
     "output_type": "stream",
     "text": [
      "Processing XML files: 100%|██████████| 50/50 [00:00<00:00, 721.43it/s]\n"
     ]
    },
    {
     "name": "stdout",
     "output_type": "stream",
     "text": [
      "Inserting 1931 game players...\n",
      "Inserting 2949 cards...\n",
      "Inserting 6311 actions in smaller batches...\n"
     ]
    },
    {
     "name": "stderr",
     "output_type": "stream",
     "text": [
      "Inserting actions: 100%|██████████| 6311/6311 [00:01<00:00, 5619.21it/s]\n"
     ]
    },
    {
     "name": "stdout",
     "output_type": "stream",
     "text": [
      "Chunk complete in 1.31s. Progress: 9000/10056 files, 9000 successful, 0 games, 1171987 actions\n",
      "Processing chunk 181/202 (50 files)\n"
     ]
    },
    {
     "name": "stderr",
     "output_type": "stream",
     "text": [
      "Processing XML files: 100%|██████████| 50/50 [00:00<00:00, 8221.22it/s]\n"
     ]
    },
    {
     "name": "stdout",
     "output_type": "stream",
     "text": [
      "Inserting 1940 game players...\n",
      "Inserting 3097 cards...\n",
      "Inserting 6642 actions in smaller batches...\n"
     ]
    },
    {
     "name": "stderr",
     "output_type": "stream",
     "text": [
      "Inserting actions: 100%|██████████| 6642/6642 [00:00<00:00, 189844.68it/s]\n"
     ]
    },
    {
     "name": "stdout",
     "output_type": "stream",
     "text": [
      "Chunk complete in 0.26s. Progress: 9050/10056 files, 9050 successful, 0 games, 1178629 actions\n",
      "Processing chunk 182/202 (50 files)\n"
     ]
    },
    {
     "name": "stderr",
     "output_type": "stream",
     "text": [
      "Processing XML files: 100%|██████████| 50/50 [00:00<00:00, 685.07it/s]\n"
     ]
    },
    {
     "name": "stdout",
     "output_type": "stream",
     "text": [
      "Inserting 1766 game players...\n",
      "Inserting 2737 cards...\n",
      "Inserting 5728 actions in smaller batches...\n"
     ]
    },
    {
     "name": "stderr",
     "output_type": "stream",
     "text": [
      "Inserting actions: 100%|██████████| 5728/5728 [00:00<00:00, 190594.22it/s]\n"
     ]
    },
    {
     "name": "stdout",
     "output_type": "stream",
     "text": [
      "Chunk complete in 0.20s. Progress: 9100/10056 files, 9100 successful, 0 games, 1184357 actions\n",
      "Processing chunk 183/202 (50 files)\n"
     ]
    },
    {
     "name": "stderr",
     "output_type": "stream",
     "text": [
      "Processing XML files: 100%|██████████| 50/50 [00:00<00:00, 4075.23it/s]\n"
     ]
    },
    {
     "name": "stdout",
     "output_type": "stream",
     "text": [
      "Inserting 2287 game players...\n",
      "Inserting 3381 cards...\n",
      "Inserting 7451 actions in smaller batches...\n"
     ]
    },
    {
     "name": "stderr",
     "output_type": "stream",
     "text": [
      "Inserting actions: 100%|██████████| 7451/7451 [00:01<00:00, 6653.90it/s]\n"
     ]
    },
    {
     "name": "stdout",
     "output_type": "stream",
     "text": [
      "Chunk complete in 1.32s. Progress: 9150/10056 files, 9150 successful, 0 games, 1191808 actions\n",
      "Processing chunk 184/202 (50 files)\n"
     ]
    },
    {
     "name": "stderr",
     "output_type": "stream",
     "text": [
      "Processing XML files: 100%|██████████| 50/50 [00:00<00:00, 1895.76it/s]\n"
     ]
    },
    {
     "name": "stdout",
     "output_type": "stream",
     "text": [
      "Inserting 1947 game players...\n",
      "Inserting 2932 cards...\n",
      "Inserting 6258 actions in smaller batches...\n"
     ]
    },
    {
     "name": "stderr",
     "output_type": "stream",
     "text": [
      "Inserting actions: 100%|██████████| 6258/6258 [00:00<00:00, 184657.49it/s]\n"
     ]
    },
    {
     "name": "stdout",
     "output_type": "stream",
     "text": [
      "Chunk complete in 0.21s. Progress: 9200/10056 files, 9200 successful, 0 games, 1198066 actions\n",
      "Processing chunk 185/202 (50 files)\n"
     ]
    },
    {
     "name": "stderr",
     "output_type": "stream",
     "text": [
      "Processing XML files: 100%|██████████| 50/50 [00:00<00:00, 39405.34it/s]\n"
     ]
    },
    {
     "name": "stdout",
     "output_type": "stream",
     "text": [
      "Inserting 2010 game players...\n",
      "Inserting 3014 cards...\n",
      "Inserting 6485 actions in smaller batches...\n"
     ]
    },
    {
     "name": "stderr",
     "output_type": "stream",
     "text": [
      "Inserting actions: 100%|██████████| 6485/6485 [00:00<00:00, 9224.55it/s]\n"
     ]
    },
    {
     "name": "stdout",
     "output_type": "stream",
     "text": [
      "Chunk complete in 0.89s. Progress: 9250/10056 files, 9250 successful, 0 games, 1204551 actions\n",
      "Processing chunk 186/202 (50 files)\n"
     ]
    },
    {
     "name": "stderr",
     "output_type": "stream",
     "text": [
      "Processing XML files: 100%|██████████| 50/50 [00:00<00:00, 2136.16it/s]\n"
     ]
    },
    {
     "name": "stdout",
     "output_type": "stream",
     "text": [
      "Inserting 2002 game players...\n",
      "Inserting 2945 cards...\n",
      "Inserting 6263 actions in smaller batches...\n"
     ]
    },
    {
     "name": "stderr",
     "output_type": "stream",
     "text": [
      "Inserting actions: 100%|██████████| 6263/6263 [00:00<00:00, 192529.56it/s]\n"
     ]
    },
    {
     "name": "stdout",
     "output_type": "stream",
     "text": [
      "Chunk complete in 0.24s. Progress: 9300/10056 files, 9300 successful, 0 games, 1210814 actions\n",
      "Processing chunk 187/202 (50 files)\n"
     ]
    },
    {
     "name": "stderr",
     "output_type": "stream",
     "text": [
      "Processing XML files: 100%|██████████| 50/50 [00:00<00:00, 3390.49it/s]\n"
     ]
    },
    {
     "name": "stdout",
     "output_type": "stream",
     "text": [
      "Inserting 2095 game players...\n",
      "Inserting 3143 cards...\n",
      "Inserting 6710 actions in smaller batches...\n"
     ]
    },
    {
     "name": "stderr",
     "output_type": "stream",
     "text": [
      "Inserting actions: 100%|██████████| 6710/6710 [00:00<00:00, 160884.11it/s]\n"
     ]
    },
    {
     "name": "stdout",
     "output_type": "stream",
     "text": [
      "Chunk complete in 0.23s. Progress: 9350/10056 files, 9350 successful, 0 games, 1217524 actions\n",
      "Processing chunk 188/202 (50 files)\n"
     ]
    },
    {
     "name": "stderr",
     "output_type": "stream",
     "text": [
      "Processing XML files: 100%|██████████| 50/50 [00:00<00:00, 27568.71it/s]\n"
     ]
    },
    {
     "name": "stdout",
     "output_type": "stream",
     "text": [
      "Inserting 1682 game players...\n",
      "Inserting 2531 cards...\n",
      "Inserting 5345 actions in smaller batches...\n"
     ]
    },
    {
     "name": "stderr",
     "output_type": "stream",
     "text": [
      "Inserting actions: 100%|██████████| 5345/5345 [00:00<00:00, 8064.04it/s]\n"
     ]
    },
    {
     "name": "stdout",
     "output_type": "stream",
     "text": [
      "Chunk complete in 0.82s. Progress: 9400/10056 files, 9400 successful, 0 games, 1222869 actions\n",
      "Processing chunk 189/202 (50 files)\n"
     ]
    },
    {
     "name": "stderr",
     "output_type": "stream",
     "text": [
      "Processing XML files: 100%|██████████| 50/50 [00:00<00:00, 27446.04it/s]\n"
     ]
    },
    {
     "name": "stdout",
     "output_type": "stream",
     "text": [
      "Inserting 1696 game players...\n",
      "Inserting 2555 cards...\n",
      "Inserting 5422 actions in smaller batches...\n"
     ]
    },
    {
     "name": "stderr",
     "output_type": "stream",
     "text": [
      "Inserting actions: 100%|██████████| 5422/5422 [00:00<00:00, 188120.54it/s]\n"
     ]
    },
    {
     "name": "stdout",
     "output_type": "stream",
     "text": [
      "Chunk complete in 0.19s. Progress: 9450/10056 files, 9450 successful, 0 games, 1228291 actions\n",
      "Processing chunk 190/202 (50 files)\n"
     ]
    },
    {
     "name": "stderr",
     "output_type": "stream",
     "text": [
      "Processing XML files: 100%|██████████| 50/50 [00:00<00:00, 926.87it/s]\n"
     ]
    },
    {
     "name": "stdout",
     "output_type": "stream",
     "text": [
      "Inserting 1880 game players...\n",
      "Inserting 2822 cards...\n",
      "Inserting 6076 actions in smaller batches...\n"
     ]
    },
    {
     "name": "stderr",
     "output_type": "stream",
     "text": [
      "Inserting actions: 100%|██████████| 6076/6076 [00:00<00:00, 194094.37it/s]\n"
     ]
    },
    {
     "name": "stdout",
     "output_type": "stream",
     "text": [
      "Chunk complete in 0.20s. Progress: 9500/10056 files, 9500 successful, 0 games, 1234367 actions\n",
      "Processing chunk 191/202 (50 files)\n"
     ]
    },
    {
     "name": "stderr",
     "output_type": "stream",
     "text": [
      "Processing XML files: 100%|██████████| 50/50 [00:00<00:00, 7406.77it/s]\n"
     ]
    },
    {
     "name": "stdout",
     "output_type": "stream",
     "text": [
      "Inserting 1944 game players...\n",
      "Inserting 2986 cards...\n",
      "Inserting 6482 actions in smaller batches...\n"
     ]
    },
    {
     "name": "stderr",
     "output_type": "stream",
     "text": [
      "Inserting actions: 100%|██████████| 6482/6482 [00:00<00:00, 7881.45it/s]\n"
     ]
    },
    {
     "name": "stdout",
     "output_type": "stream",
     "text": [
      "Chunk complete in 1.00s. Progress: 9550/10056 files, 9550 successful, 0 games, 1240849 actions\n",
      "Processing chunk 192/202 (50 files)\n"
     ]
    },
    {
     "name": "stderr",
     "output_type": "stream",
     "text": [
      "Processing XML files: 100%|██████████| 50/50 [00:00<00:00, 5835.47it/s]\n"
     ]
    },
    {
     "name": "stdout",
     "output_type": "stream",
     "text": [
      "Inserting 2379 game players...\n",
      "Inserting 3556 cards...\n",
      "Inserting 7792 actions in smaller batches...\n"
     ]
    },
    {
     "name": "stderr",
     "output_type": "stream",
     "text": [
      "Inserting actions: 100%|██████████| 7792/7792 [00:00<00:00, 195590.61it/s]\n"
     ]
    },
    {
     "name": "stdout",
     "output_type": "stream",
     "text": [
      "Chunk complete in 0.25s. Progress: 9600/10056 files, 9600 successful, 0 games, 1248641 actions\n",
      "Processing chunk 193/202 (50 files)\n"
     ]
    },
    {
     "name": "stderr",
     "output_type": "stream",
     "text": [
      "Processing XML files: 100%|██████████| 50/50 [00:00<00:00, 1315.72it/s]\n"
     ]
    },
    {
     "name": "stdout",
     "output_type": "stream",
     "text": [
      "Inserting 2181 game players...\n",
      "Inserting 3219 cards...\n",
      "Inserting 6853 actions in smaller batches...\n"
     ]
    },
    {
     "name": "stderr",
     "output_type": "stream",
     "text": [
      "Inserting actions: 100%|██████████| 6853/6853 [00:00<00:00, 8459.84it/s]\n"
     ]
    },
    {
     "name": "stdout",
     "output_type": "stream",
     "text": [
      "Chunk complete in 1.04s. Progress: 9650/10056 files, 9650 successful, 0 games, 1255494 actions\n",
      "Processing chunk 194/202 (50 files)\n"
     ]
    },
    {
     "name": "stderr",
     "output_type": "stream",
     "text": [
      "Processing XML files: 100%|██████████| 50/50 [00:00<00:00, 1045.13it/s]\n"
     ]
    },
    {
     "name": "stdout",
     "output_type": "stream",
     "text": [
      "Inserting 1922 game players...\n",
      "Inserting 3082 cards...\n",
      "Inserting 6726 actions in smaller batches...\n"
     ]
    },
    {
     "name": "stderr",
     "output_type": "stream",
     "text": [
      "Inserting actions: 100%|██████████| 6726/6726 [00:00<00:00, 192262.64it/s]\n"
     ]
    },
    {
     "name": "stdout",
     "output_type": "stream",
     "text": [
      "Chunk complete in 0.24s. Progress: 9700/10056 files, 9700 successful, 0 games, 1262220 actions\n",
      "Processing chunk 195/202 (50 files)\n"
     ]
    },
    {
     "name": "stderr",
     "output_type": "stream",
     "text": [
      "Processing XML files: 100%|██████████| 50/50 [00:00<00:00, 2145.31it/s]"
     ]
    },
    {
     "name": "stdout",
     "output_type": "stream",
     "text": [
      "Inserting 2057 game players...\n"
     ]
    },
    {
     "name": "stderr",
     "output_type": "stream",
     "text": [
      "\n"
     ]
    },
    {
     "name": "stdout",
     "output_type": "stream",
     "text": [
      "Inserting 3215 cards...\n",
      "Inserting 6945 actions in smaller batches...\n"
     ]
    },
    {
     "name": "stderr",
     "output_type": "stream",
     "text": [
      "Inserting actions: 100%|██████████| 6945/6945 [00:00<00:00, 195081.95it/s]\n"
     ]
    },
    {
     "name": "stdout",
     "output_type": "stream",
     "text": [
      "Chunk complete in 0.23s. Progress: 9750/10056 files, 9750 successful, 0 games, 1269165 actions\n",
      "Processing chunk 196/202 (50 files)\n"
     ]
    },
    {
     "name": "stderr",
     "output_type": "stream",
     "text": [
      "Processing XML files: 100%|██████████| 50/50 [00:00<00:00, 13486.51it/s]\n"
     ]
    },
    {
     "name": "stdout",
     "output_type": "stream",
     "text": [
      "Inserting 2139 game players...\n",
      "Inserting 3255 cards...\n",
      "Inserting 7087 actions in smaller batches...\n"
     ]
    },
    {
     "name": "stderr",
     "output_type": "stream",
     "text": [
      "Inserting actions: 100%|██████████| 7087/7087 [00:00<00:00, 9230.53it/s]\n"
     ]
    },
    {
     "name": "stdout",
     "output_type": "stream",
     "text": [
      "Chunk complete in 0.96s. Progress: 9800/10056 files, 9800 successful, 0 games, 1276252 actions\n",
      "Processing chunk 197/202 (50 files)\n"
     ]
    },
    {
     "name": "stderr",
     "output_type": "stream",
     "text": [
      "Processing XML files: 100%|██████████| 50/50 [00:00<00:00, 1031.94it/s]\n"
     ]
    },
    {
     "name": "stdout",
     "output_type": "stream",
     "text": [
      "Inserting 2218 game players...\n",
      "Inserting 3405 cards...\n",
      "Inserting 7386 actions in smaller batches...\n"
     ]
    },
    {
     "name": "stderr",
     "output_type": "stream",
     "text": [
      "Inserting actions: 100%|██████████| 7386/7386 [00:00<00:00, 194092.66it/s]\n"
     ]
    },
    {
     "name": "stdout",
     "output_type": "stream",
     "text": [
      "Chunk complete in 0.24s. Progress: 9850/10056 files, 9850 successful, 0 games, 1283638 actions\n",
      "Processing chunk 198/202 (50 files)\n"
     ]
    },
    {
     "name": "stderr",
     "output_type": "stream",
     "text": [
      "Processing XML files: 100%|██████████| 50/50 [00:00<00:00, 814.87it/s]\n"
     ]
    },
    {
     "name": "stdout",
     "output_type": "stream",
     "text": [
      "Inserting 1845 game players...\n",
      "Inserting 2860 cards...\n",
      "Inserting 6122 actions in smaller batches...\n"
     ]
    },
    {
     "name": "stderr",
     "output_type": "stream",
     "text": [
      "Inserting actions: 100%|██████████| 6122/6122 [00:00<00:00, 6363.12it/s]\n"
     ]
    },
    {
     "name": "stdout",
     "output_type": "stream",
     "text": [
      "Chunk complete in 1.14s. Progress: 9900/10056 files, 9900 successful, 0 games, 1289760 actions\n",
      "Processing chunk 199/202 (50 files)\n"
     ]
    },
    {
     "name": "stderr",
     "output_type": "stream",
     "text": [
      "Processing XML files: 100%|██████████| 50/50 [00:00<00:00, 747.59it/s]\n"
     ]
    },
    {
     "name": "stdout",
     "output_type": "stream",
     "text": [
      "Inserting 1918 game players...\n",
      "Inserting 2896 cards...\n",
      "Inserting 6129 actions in smaller batches...\n"
     ]
    },
    {
     "name": "stderr",
     "output_type": "stream",
     "text": [
      "Inserting actions: 100%|██████████| 6129/6129 [00:00<00:00, 188393.73it/s]\n"
     ]
    },
    {
     "name": "stdout",
     "output_type": "stream",
     "text": [
      "Chunk complete in 0.21s. Progress: 9950/10056 files, 9950 successful, 0 games, 1295889 actions\n",
      "Processing chunk 200/202 (50 files)\n"
     ]
    },
    {
     "name": "stderr",
     "output_type": "stream",
     "text": [
      "Processing XML files: 100%|██████████| 50/50 [00:00<00:00, 740.79it/s]\n"
     ]
    },
    {
     "name": "stdout",
     "output_type": "stream",
     "text": [
      "Inserting 1779 game players...\n",
      "Inserting 2737 cards...\n",
      "Inserting 5932 actions in smaller batches...\n"
     ]
    },
    {
     "name": "stderr",
     "output_type": "stream",
     "text": [
      "Inserting actions: 100%|██████████| 5932/5932 [00:00<00:00, 7228.43it/s]\n"
     ]
    },
    {
     "name": "stdout",
     "output_type": "stream",
     "text": [
      "Chunk complete in 0.99s. Progress: 10000/10056 files, 10000 successful, 0 games, 1301821 actions\n",
      "Processing chunk 201/202 (50 files)\n"
     ]
    },
    {
     "name": "stderr",
     "output_type": "stream",
     "text": [
      "Processing XML files: 100%|██████████| 50/50 [00:00<00:00, 6249.52it/s]\n"
     ]
    },
    {
     "name": "stdout",
     "output_type": "stream",
     "text": [
      "Inserting 1741 game players...\n",
      "Inserting 2678 cards...\n",
      "Inserting 5600 actions in smaller batches...\n"
     ]
    },
    {
     "name": "stderr",
     "output_type": "stream",
     "text": [
      "Inserting actions: 100%|██████████| 5600/5600 [00:00<00:00, 186172.67it/s]\n"
     ]
    },
    {
     "name": "stdout",
     "output_type": "stream",
     "text": [
      "Chunk complete in 0.25s. Progress: 10050/10056 files, 10050 successful, 0 games, 1307421 actions\n",
      "Processing chunk 202/202 (6 files)\n"
     ]
    },
    {
     "name": "stderr",
     "output_type": "stream",
     "text": [
      "Processing XML files: 100%|██████████| 6/6 [00:00<?, ?it/s]\n"
     ]
    },
    {
     "name": "stdout",
     "output_type": "stream",
     "text": [
      "Inserting 235 game players...\n",
      "Inserting 353 cards...\n",
      "Inserting 741 actions in smaller batches...\n"
     ]
    },
    {
     "name": "stderr",
     "output_type": "stream",
     "text": [
      "Inserting actions: 100%|██████████| 741/741 [00:00<00:00, 133596.08it/s]"
     ]
    },
    {
     "name": "stdout",
     "output_type": "stream",
     "text": [
      "Chunk complete in 0.04s. Progress: 10056/10056 files, 10056 successful, 0 games, 1308162 actions\n",
      "Adding indexes...\n",
      "Optimizing database...\n",
      "Total processing time: 123.43 seconds\n",
      "Processed 10056 files, 10056 successful, inserted 0 games and 1308162 actions\n",
      "Processing complete!\n"
     ]
    },
    {
     "name": "stderr",
     "output_type": "stream",
     "text": [
      "\n"
     ]
    }
   ],
   "source": [
    "import os\n",
    "import sqlite3\n",
    "import pandas as pd\n",
    "import numpy as np\n",
    "from tqdm import tqdm\n",
    "import time\n",
    "import re\n",
    "import json\n",
    "import traceback\n",
    "from concurrent.futures import ThreadPoolExecutor\n",
    "from lxml import etree as ET\n",
    "\n",
    "# For reproducibility\n",
    "np.random.seed(42)\n",
    "\n",
    "def optimize_sqlite_connection(conn):\n",
    "    \"\"\"Apply performance optimizations to SQLite connection\"\"\"\n",
    "    conn.execute('PRAGMA journal_mode = WAL')\n",
    "    conn.execute('PRAGMA synchronous = NORMAL')\n",
    "    conn.execute('PRAGMA cache_size = -64000')  # 64MB cache\n",
    "    conn.execute('PRAGMA temp_store = MEMORY')\n",
    "    conn.execute('PRAGMA page_size = 4096')\n",
    "\n",
    "def create_database_schema(db_path, with_indexes=True):\n",
    "    \"\"\"Create the database schema for poker hand history analysis\"\"\"\n",
    "    conn = sqlite3.connect(db_path)\n",
    "    optimize_sqlite_connection(conn)\n",
    "    c = conn.cursor()\n",
    "    \n",
    "    # Create tables without indexes first for faster bulk loading\n",
    "    c.execute('''\n",
    "    CREATE TABLE IF NOT EXISTS games (\n",
    "        game_id TEXT PRIMARY KEY,\n",
    "        session_id TEXT,\n",
    "        start_date TEXT,\n",
    "        small_blind REAL,\n",
    "        big_blind REAL,\n",
    "        ante REAL,\n",
    "        table_name TEXT,\n",
    "        player_count INTEGER,\n",
    "        is_tournament INTEGER\n",
    "    )\n",
    "    ''')\n",
    "    \n",
    "    c.execute('''\n",
    "    CREATE TABLE IF NOT EXISTS players (\n",
    "        player_id INTEGER PRIMARY KEY AUTOINCREMENT,\n",
    "        player_name TEXT UNIQUE\n",
    "    )\n",
    "    ''')\n",
    "    \n",
    "    c.execute('''\n",
    "    CREATE TABLE IF NOT EXISTS game_players (\n",
    "        game_id TEXT,\n",
    "        player_id INTEGER,\n",
    "        position TEXT,\n",
    "        position_numeric INTEGER,\n",
    "        initial_stack REAL,\n",
    "        is_hero INTEGER,\n",
    "        is_dealer INTEGER,\n",
    "        final_stack REAL,\n",
    "        total_won REAL,\n",
    "        total_bet REAL,\n",
    "        PRIMARY KEY (game_id, player_id),\n",
    "        FOREIGN KEY (game_id) REFERENCES games(game_id),\n",
    "        FOREIGN KEY (player_id) REFERENCES players(player_id)\n",
    "    )\n",
    "    ''')\n",
    "    \n",
    "    c.execute('''\n",
    "    CREATE TABLE IF NOT EXISTS cards (\n",
    "        card_id INTEGER PRIMARY KEY AUTOINCREMENT,\n",
    "        game_id TEXT,\n",
    "        card_type TEXT,  -- Pocket, Flop, Turn, River\n",
    "        player_id INTEGER NULL,\n",
    "        card_values TEXT,\n",
    "        FOREIGN KEY (game_id) REFERENCES games(game_id),\n",
    "        FOREIGN KEY (player_id) REFERENCES players(player_id)\n",
    "    )\n",
    "    ''')\n",
    "    \n",
    "    c.execute('''\n",
    "    CREATE TABLE IF NOT EXISTS actions (\n",
    "        action_id INTEGER PRIMARY KEY AUTOINCREMENT,\n",
    "        game_id TEXT,\n",
    "        player_id INTEGER,\n",
    "        action_round INTEGER,\n",
    "        action_type INTEGER,\n",
    "        simple_action_type TEXT,\n",
    "        action_sum REAL,\n",
    "        action_order INTEGER,\n",
    "        pot_before_action REAL,\n",
    "        players_remaining INTEGER,\n",
    "        FOREIGN KEY (game_id) REFERENCES games(game_id),\n",
    "        FOREIGN KEY (player_id) REFERENCES players(player_id)\n",
    "    )\n",
    "    ''')\n",
    "    \n",
    "    # Only create indexes if requested (defer for bulk loading)\n",
    "    if with_indexes:\n",
    "        c.execute('CREATE INDEX IF NOT EXISTS idx_game_id ON actions(game_id)')\n",
    "        c.execute('CREATE INDEX IF NOT EXISTS idx_player_id ON actions(player_id)')\n",
    "        c.execute('CREATE INDEX IF NOT EXISTS idx_action_type ON actions(simple_action_type)')\n",
    "        c.execute('CREATE INDEX IF NOT EXISTS idx_game_players ON game_players(game_id, player_id)')\n",
    "    \n",
    "    conn.commit()\n",
    "    conn.close()\n",
    "    \n",
    "    print(f\"Database schema created at {db_path}\")\n",
    "\n",
    "# Helper functions\n",
    "def safe_float(text):\n",
    "    \"\"\"Convert text to float, handling currency symbols and errors\"\"\"\n",
    "    if text is None:\n",
    "        return 0.0\n",
    "    try:\n",
    "        return float(re.sub(r\"[^\\d\\.]\", \"\", str(text)))\n",
    "    except Exception:\n",
    "        return 0.0\n",
    "\n",
    "def get_action_type(type_code):\n",
    "    \"\"\"Convert action type code to readable format\"\"\"\n",
    "    action_types = {\n",
    "        0: \"fold\", \n",
    "        1: \"small_blind\", \n",
    "        2: \"big_blind\", \n",
    "        3: \"call\", \n",
    "        4: \"check\", \n",
    "        5: \"raise\", \n",
    "        7: \"raise\", \n",
    "        15: \"ante\",\n",
    "        23: \"raise\"\n",
    "    }\n",
    "    return action_types.get(int(type_code) if type_code else 0, f\"unknown_{type_code}\")\n",
    "\n",
    "def simplify_action(action_details, round_no, blinds, pot_before_action, round_contributions, current_round_max):\n",
    "    \"\"\"\n",
    "    Simplify the action into a single string category based on context.\n",
    "    \"\"\"\n",
    "    allowed_types = {0: \"fold\", 3: \"call\", 4: \"check\", 5: \"raise\", 7: \"raise\", 15: \"ante\", 23: \"raise\"}\n",
    "    orig_type = action_details['action_type']\n",
    "    if orig_type not in allowed_types:\n",
    "        return None\n",
    "    base_action = allowed_types[orig_type]\n",
    "    new_action = action_details.copy()\n",
    "    \n",
    "    if base_action != \"raise\":\n",
    "        new_action[\"simple_action_type\"] = base_action\n",
    "    else:\n",
    "        if round_no == 1:  # Preflop\n",
    "            bb = blinds.get(\"big_blind\", 1)\n",
    "            ratio = action_details['action_sum'] / bb if bb != 0 else 0\n",
    "            if ratio <= 2.2:\n",
    "                new_action[\"simple_action_type\"] = \"small_raise_preflop\"\n",
    "            elif ratio <= 2.7:\n",
    "                new_action[\"simple_action_type\"] = \"mid_raise_preflop\"\n",
    "            elif ratio <= 3.2:\n",
    "                new_action[\"simple_action_type\"] = \"big_raise_preflop\"\n",
    "            else:\n",
    "                new_action[\"simple_action_type\"] = \"all_in_preflop\"\n",
    "        else:  # Postflop\n",
    "            current_player_contrib = round_contributions.get(action_details['player_id'], 0)\n",
    "            call_amount = max(0, current_round_max - current_player_contrib)\n",
    "            effective_raise = action_details['action_sum'] - call_amount\n",
    "            effective_pot = pot_before_action + call_amount\n",
    "            ratio = effective_raise / effective_pot if effective_pot > 0 else 0\n",
    "            if ratio <= 0.33:\n",
    "                new_action[\"simple_action_type\"] = \"small_raise_postflop\"\n",
    "            elif ratio <= 0.66:\n",
    "                new_action[\"simple_action_type\"] = \"mid_raise_postflop\"\n",
    "            else:\n",
    "                new_action[\"simple_action_type\"] = \"big_raise_postflop\"\n",
    "    return new_action\n",
    "\n",
    "def process_xml_file(xml_file_path):\n",
    "    \"\"\"Process a single XML file and return extracted data\"\"\"\n",
    "    try:\n",
    "        # Data structures to collect results\n",
    "        games_data = []\n",
    "        game_players_data = []\n",
    "        cards_data = []\n",
    "        actions_data = []\n",
    "        player_names = set()\n",
    "        \n",
    "        try:\n",
    "            # Use safer XML parsing approach\n",
    "            parser = ET.XMLParser(recover=True)\n",
    "            tree = ET.parse(xml_file_path, parser)\n",
    "            root = tree.getroot()\n",
    "        except Exception as e:\n",
    "            return {\n",
    "                'success': False,\n",
    "                'error': f\"XML parsing error: {str(e)}\",\n",
    "                'filename': xml_file_path\n",
    "            }\n",
    "        \n",
    "        # Get session info\n",
    "        session_id = root.get('sessioncode', '')\n",
    "        session_general = root.find('general')\n",
    "        hero_nickname = session_general.findtext('nickname', '') if session_general is not None else ''\n",
    "        \n",
    "        # Process each game\n",
    "        for game in root.findall('game'):\n",
    "            game_id = game.get('gamecode', '')\n",
    "            if not game_id:\n",
    "                continue\n",
    "                \n",
    "            # Parse general game info\n",
    "            general = game.find('general')\n",
    "            if general is None:\n",
    "                continue\n",
    "                \n",
    "            # Get blinds and ante\n",
    "            small_blind = safe_float(general.findtext('smallblind', \"0\"))\n",
    "            big_blind = safe_float(general.findtext('bigblind', \"0\"))\n",
    "            ante = safe_float(general.findtext('ante', \"0\"))\n",
    "            \n",
    "            # Get start date\n",
    "            start_date = general.findtext('startdate', '')\n",
    "            \n",
    "            # Get table info\n",
    "            table_name = ''\n",
    "            is_tournament = 0\n",
    "            for parent_general in root.findall('general'):\n",
    "                table_name = parent_general.findtext('tablename', '')\n",
    "                is_tournament = 1 if parent_general.findtext('tournamentcode', '') else 0\n",
    "            \n",
    "            # Get player count\n",
    "            players_elem = general.find('players')\n",
    "            if players_elem is None:\n",
    "                continue\n",
    "            player_count = len(players_elem.findall('player'))\n",
    "            \n",
    "            # Store game info\n",
    "            games_data.append({\n",
    "                'game_id': game_id,\n",
    "                'session_id': session_id,\n",
    "                'start_date': start_date,\n",
    "                'small_blind': small_blind,\n",
    "                'big_blind': big_blind,\n",
    "                'ante': ante,\n",
    "                'table_name': table_name,\n",
    "                'player_count': player_count,\n",
    "                'is_tournament': is_tournament\n",
    "            })\n",
    "            \n",
    "            # Process player positions\n",
    "            player_positions = {}\n",
    "            position_numeric = {}\n",
    "            \n",
    "            # Find button player\n",
    "            button_player = None\n",
    "            for p in players_elem.findall('player'):\n",
    "                if p.get('dealer', '0') == '1':\n",
    "                    button_player = p.get('name')\n",
    "                    break\n",
    "            \n",
    "            # Find SB and BB from round 0 actions\n",
    "            sb_player = None\n",
    "            bb_player = None\n",
    "            for r in game.findall('round'):\n",
    "                if r.get('no') == '0':\n",
    "                    for act in r.findall('action'):\n",
    "                        action_type = act.get('type')\n",
    "                        player = act.get('player')\n",
    "                        if action_type == '1':\n",
    "                            sb_player = player\n",
    "                        elif action_type == '2':\n",
    "                            bb_player = player\n",
    "            \n",
    "            # Assign positions\n",
    "            heads_up = (player_count == 2)\n",
    "            \n",
    "            # For 2-player games\n",
    "            if heads_up and button_player and sb_player:\n",
    "                player_positions[button_player] = 'BTN/SB'\n",
    "                position_numeric[button_player] = 0\n",
    "                \n",
    "                # In heads-up, the other player must be BB\n",
    "                for p in players_elem.findall('player'):\n",
    "                    player_name = p.get('name')\n",
    "                    if player_name != button_player:\n",
    "                        player_positions[player_name] = 'BB'\n",
    "                        position_numeric[player_name] = 1\n",
    "                        break\n",
    "            # For 3+ player games\n",
    "            else:\n",
    "                if sb_player:\n",
    "                    player_positions[sb_player] = 'SB'\n",
    "                    position_numeric[sb_player] = 0\n",
    "                if bb_player:\n",
    "                    player_positions[bb_player] = 'BB'\n",
    "                    position_numeric[bb_player] = 1\n",
    "                \n",
    "                # In 3-player games, the third position is button if not SB or BB\n",
    "                if player_count == 3 and button_player:\n",
    "                    if button_player not in (sb_player, bb_player):\n",
    "                        player_positions[button_player] = 'BTN'\n",
    "                        position_numeric[button_player] = 2\n",
    "            \n",
    "            # Process each player\n",
    "            for p in players_elem.findall('player'):\n",
    "                player_name = p.get('name')\n",
    "                if not player_name:\n",
    "                    continue\n",
    "                    \n",
    "                # Add to set of player names\n",
    "                player_names.add(player_name)\n",
    "                \n",
    "                initial_stack = safe_float(p.get('chips', '0'))\n",
    "                is_hero = 1 if player_name == hero_nickname else 0\n",
    "                is_dealer = 1 if p.get('dealer', '0') == '1' else 0\n",
    "                total_won = safe_float(p.get('win', '0'))\n",
    "                total_bet = safe_float(p.get('bet', '0'))\n",
    "                final_stack = initial_stack + total_won - total_bet\n",
    "                \n",
    "                position = player_positions.get(player_name, 'unknown')\n",
    "                pos_num = position_numeric.get(player_name, -1)\n",
    "                \n",
    "                # Store player info for this game\n",
    "                game_players_data.append({\n",
    "                    'game_id': game_id,\n",
    "                    'player_name': player_name,\n",
    "                    'position': position,\n",
    "                    'position_numeric': pos_num,\n",
    "                    'initial_stack': initial_stack,\n",
    "                    'is_hero': is_hero,\n",
    "                    'is_dealer': is_dealer,\n",
    "                    'final_stack': final_stack,\n",
    "                    'total_won': total_won,\n",
    "                    'total_bet': total_bet\n",
    "                })\n",
    "            \n",
    "            # Process cards\n",
    "            for r in game.findall('round'):\n",
    "                for card in r.findall('cards'):\n",
    "                    card_type = card.get('type')\n",
    "                    player_name = card.get('player', None)\n",
    "                    card_values = card.text.strip() if card.text else ''\n",
    "                    \n",
    "                    # Store card info\n",
    "                    cards_data.append({\n",
    "                        'game_id': game_id,\n",
    "                        'card_type': card_type,\n",
    "                        'player_name': player_name,\n",
    "                        'card_values': card_values\n",
    "                    })\n",
    "            \n",
    "            # Process actions with contextualized information\n",
    "            active_players = {p.get('name'): True for p in players_elem.findall('player')}\n",
    "            pot_size = 0.0\n",
    "            action_order = 0\n",
    "            \n",
    "            # Track cumulative contributions\n",
    "            player_contributions = {p.get('name'): 0.0 for p in players_elem.findall('player')}\n",
    "            \n",
    "            for r in game.findall('round'):\n",
    "                round_no = int(r.get('no', '0'))\n",
    "                \n",
    "                # Reset round contributions and maximum for new betting rounds\n",
    "                if round_no >= 1:\n",
    "                    round_contributions = {player_name: 0.0 for player_name in player_contributions}\n",
    "                    current_round_max = 0.0\n",
    "                \n",
    "                for action in r.findall('action'):\n",
    "                    player_name = action.get('player')\n",
    "                    if not player_name:\n",
    "                        continue\n",
    "                        \n",
    "                    action_type = int(action.get('type', '0'))\n",
    "                    action_sum = safe_float(action.get('sum', '0'))\n",
    "                    action_order += 1\n",
    "                    \n",
    "                    # Prepare action details\n",
    "                    action_details = {\n",
    "                        'player_id': player_name,  # We'll resolve player_id later\n",
    "                        'action_type': action_type,\n",
    "                        'action_sum': action_sum,\n",
    "                        'action_round': round_no\n",
    "                    }\n",
    "                    \n",
    "                    current_pot = pot_size\n",
    "                    players_remaining = sum(1 for v in active_players.values() if v)\n",
    "                    \n",
    "                    simple_action_type = get_action_type(action_type)\n",
    "                    \n",
    "                    # Skip round 0 for simplification analysis\n",
    "                    # For rounds ≥ 1, analyze actions in context\n",
    "                    if round_no >= 1:\n",
    "                        # Simplify the action using the round-level data\n",
    "                        simple_action = simplify_action(\n",
    "                            action_details, \n",
    "                            round_no, \n",
    "                            {\"big_blind\": big_blind, \"small_blind\": small_blind, \"ante\": ante}, \n",
    "                            current_pot, \n",
    "                            round_contributions, \n",
    "                            current_round_max\n",
    "                        )\n",
    "                        \n",
    "                        if simple_action is not None:\n",
    "                            # Store the action with context\n",
    "                            actions_data.append({\n",
    "                                'game_id': game_id,\n",
    "                                'player_name': player_name,\n",
    "                                'action_round': round_no,\n",
    "                                'action_type': action_type,\n",
    "                                'simple_action_type': simple_action.get(\"simple_action_type\", simple_action_type),\n",
    "                                'action_sum': action_sum,\n",
    "                                'action_order': action_order,\n",
    "                                'pot_before_action': current_pot,\n",
    "                                'players_remaining': players_remaining\n",
    "                            })\n",
    "                        \n",
    "                        # Update round-level contributions for this action\n",
    "                        round_contributions[player_name] = round_contributions.get(player_name, 0) + action_sum\n",
    "                        current_round_max = max(current_round_max, round_contributions[player_name])\n",
    "                    else:\n",
    "                        # For round 0 (blinds/antes), just record the action\n",
    "                        actions_data.append({\n",
    "                            'game_id': game_id,\n",
    "                            'player_name': player_name,\n",
    "                            'action_round': round_no,\n",
    "                            'action_type': action_type,\n",
    "                            'simple_action_type': simple_action_type,\n",
    "                            'action_sum': action_sum,\n",
    "                            'action_order': action_order,\n",
    "                            'pot_before_action': pot_size,\n",
    "                            'players_remaining': player_count\n",
    "                        })\n",
    "                    \n",
    "                    # Update cumulative contributions and pot\n",
    "                    player_contributions[player_name] = player_contributions.get(player_name, 0) + action_sum\n",
    "                    pot_size += action_sum\n",
    "                    \n",
    "                    # Mark a player as inactive if they folded\n",
    "                    if action_type == 0:  # fold\n",
    "                        active_players[player_name] = False\n",
    "        \n",
    "        return {\n",
    "            'games': games_data,\n",
    "            'game_players': game_players_data,\n",
    "            'cards': cards_data,\n",
    "            'actions': actions_data,\n",
    "            'players': list(player_names),\n",
    "            'success': True\n",
    "        }\n",
    "        \n",
    "    except Exception as e:\n",
    "        print(f\"Error processing {xml_file_path}: {str(e)}\")\n",
    "        traceback.print_exc()\n",
    "        return {\n",
    "            'games': [],\n",
    "            'game_players': [],\n",
    "            'cards': [],\n",
    "            'actions': [],\n",
    "            'players': [],\n",
    "            'success': False,\n",
    "            'error': str(e),\n",
    "            'filename': xml_file_path\n",
    "        }\n",
    "\n",
    "def get_player_id_cache(conn, player_names):\n",
    "    \"\"\"Pre-cache player IDs to avoid repeated lookups\"\"\"\n",
    "    cursor = conn.cursor()\n",
    "    player_id_cache = {}\n",
    "    \n",
    "    # Get existing players\n",
    "    cursor.execute(\"SELECT player_id, player_name FROM players\")\n",
    "    for player_id, player_name in cursor.fetchall():\n",
    "        player_id_cache[player_name] = player_id\n",
    "    \n",
    "    # Insert any new players all at once\n",
    "    new_players = [(name,) for name in player_names if name not in player_id_cache]\n",
    "    if new_players:\n",
    "        cursor.executemany(\"INSERT OR IGNORE INTO players (player_name) VALUES (?)\", new_players)\n",
    "        conn.commit()\n",
    "        \n",
    "        # Get the newly inserted IDs\n",
    "        for name, in new_players:\n",
    "            if name not in player_id_cache:\n",
    "                cursor.execute(\"SELECT player_id FROM players WHERE player_name = ?\", (name,))\n",
    "                result = cursor.fetchone()\n",
    "                if result:\n",
    "                    player_id_cache[name] = result[0]\n",
    "    \n",
    "    return player_id_cache\n",
    "\n",
    "def process_directory(directory_path, db_path, limit=None):\n",
    "    \"\"\"Process all XML files in a directory and store them in the database\"\"\"\n",
    "    start_time = time.time()\n",
    "    \n",
    "    # Get all XML files\n",
    "    xml_files = []\n",
    "    for root, _, files in os.walk(directory_path):\n",
    "        for file in files:\n",
    "            if file.endswith(\".xml\"):\n",
    "                xml_files.append(os.path.join(root, file))\n",
    "    \n",
    "    # Limit files if requested\n",
    "    if limit and limit > 0:\n",
    "        if limit < len(xml_files):\n",
    "            xml_files = xml_files[:limit]\n",
    "    \n",
    "    print(f\"Found {len(xml_files)} XML files to process\")\n",
    "    \n",
    "    # Create database schema without indexes for faster insertion\n",
    "    if not os.path.exists(db_path):\n",
    "        create_database_schema(db_path, with_indexes=False)\n",
    "    \n",
    "    # Set up database connection in main thread\n",
    "    conn = sqlite3.connect(db_path)\n",
    "    optimize_sqlite_connection(conn)\n",
    "    \n",
    "    # Check for existing games to avoid duplicates\n",
    "    cursor = conn.cursor()\n",
    "    cursor.execute(\"SELECT game_id FROM games\")\n",
    "    existing_games = {row[0] for row in cursor.fetchall()}\n",
    "    \n",
    "    # Determine optimal chunk size and number of workers\n",
    "    chunk_size = 50  # A smaller batch size for better stability\n",
    "    num_files = len(xml_files)\n",
    "    num_chunks = max(1, (num_files + chunk_size - 1) // chunk_size)\n",
    "    \n",
    "    # Use thread-based parallelism (more reliable on Windows)\n",
    "    max_workers = min(os.cpu_count() * 2, 16)  # More threads since they're lighter weight\n",
    "    print(f\"Processing with {max_workers} threads in {num_chunks} chunks\")\n",
    "    \n",
    "    # Set up progress tracking\n",
    "    processed_files = 0\n",
    "    successful_files = 0\n",
    "    total_games = 0\n",
    "    total_actions = 0\n",
    "    \n",
    "    # Process files in batches\n",
    "    for i in range(0, num_files, chunk_size):\n",
    "        chunk = xml_files[i:i+chunk_size]\n",
    "        chunk_start = time.time()\n",
    "        print(f\"Processing chunk {i//chunk_size + 1}/{num_chunks} ({len(chunk)} files)\")\n",
    "        \n",
    "        # Process files with thread pool\n",
    "        results = []\n",
    "        \n",
    "        try:\n",
    "            with ThreadPoolExecutor(max_workers=max_workers) as executor:\n",
    "                futures = {executor.submit(process_xml_file, file_path): file_path for file_path in chunk}\n",
    "                \n",
    "                # Use tqdm for progress tracking\n",
    "                with tqdm(total=len(chunk), desc=\"Processing XML files\") as pbar:\n",
    "                    for future in futures:\n",
    "                        try:\n",
    "                            result = future.result()\n",
    "                            results.append(result)\n",
    "                            if result['success']:\n",
    "                                successful_files += 1\n",
    "                            pbar.update(1)\n",
    "                        except Exception as e:\n",
    "                            print(f\"Error processing {futures[future]}: {str(e)}\")\n",
    "                            pbar.update(1)\n",
    "        except Exception as e:\n",
    "            print(f\"Error with thread pool: {str(e)}\")\n",
    "            # If thread pool fails, try sequential processing\n",
    "            print(\"Falling back to sequential processing...\")\n",
    "            results = []\n",
    "            for file_path in tqdm(chunk, desc=\"Processing files sequentially\"):\n",
    "                result = process_xml_file(file_path)\n",
    "                results.append(result)\n",
    "                if result['success']:\n",
    "                    successful_files += 1\n",
    "        \n",
    "        processed_files += len(chunk)\n",
    "        \n",
    "        # Collect data from successful results\n",
    "        all_players = set()\n",
    "        all_games = []\n",
    "        all_game_players = []\n",
    "        all_cards = []\n",
    "        all_actions = []\n",
    "        \n",
    "        for result in results:\n",
    "            if result.get('success', False):\n",
    "                all_players.update(result.get('players', []))\n",
    "                all_games.extend(result.get('games', []))\n",
    "                all_game_players.extend(result.get('game_players', []))\n",
    "                all_cards.extend(result.get('cards', []))\n",
    "                all_actions.extend(result.get('actions', []))\n",
    "        \n",
    "        # Get player IDs\n",
    "        player_id_cache = get_player_id_cache(conn, all_players)\n",
    "        \n",
    "        # Insert games\n",
    "        games_to_insert = []\n",
    "        for game in all_games:\n",
    "            if game['game_id'] not in existing_games:\n",
    "                games_to_insert.append((\n",
    "                    game['game_id'], game['session_id'], game['start_date'],\n",
    "                    game['small_blind'], game['big_blind'], game['ante'],\n",
    "                    game['table_name'], game['player_count'], game['is_tournament']\n",
    "                ))\n",
    "                existing_games.add(game['game_id'])\n",
    "        \n",
    "        if games_to_insert:\n",
    "            print(f\"Inserting {len(games_to_insert)} games...\")\n",
    "            cursor.executemany('''\n",
    "                INSERT OR IGNORE INTO games \n",
    "                (game_id, session_id, start_date, small_blind, big_blind, ante, table_name, player_count, is_tournament)\n",
    "                VALUES (?, ?, ?, ?, ?, ?, ?, ?, ?)\n",
    "            ''', games_to_insert)\n",
    "            conn.commit()\n",
    "            total_games += len(games_to_insert)\n",
    "        \n",
    "        # Insert game_players\n",
    "        game_players_to_insert = []\n",
    "        for gp in all_game_players:\n",
    "            player_id = player_id_cache.get(gp['player_name'])\n",
    "            if player_id:\n",
    "                game_players_to_insert.append((\n",
    "                    gp['game_id'], player_id, gp['position'], gp['position_numeric'],\n",
    "                    gp['initial_stack'], gp['is_hero'], gp['is_dealer'],\n",
    "                    gp['final_stack'], gp['total_won'], gp['total_bet']\n",
    "                ))\n",
    "        \n",
    "        if game_players_to_insert:\n",
    "            print(f\"Inserting {len(game_players_to_insert)} game players...\")\n",
    "            cursor.executemany('''\n",
    "                INSERT OR IGNORE INTO game_players\n",
    "                (game_id, player_id, position, position_numeric, initial_stack, \n",
    "                 is_hero, is_dealer, final_stack, total_won, total_bet)\n",
    "                VALUES (?, ?, ?, ?, ?, ?, ?, ?, ?, ?)\n",
    "            ''', game_players_to_insert)\n",
    "            conn.commit()\n",
    "        \n",
    "        # Insert cards\n",
    "        cards_to_insert = []\n",
    "        for card in all_cards:\n",
    "            player_id = player_id_cache.get(card['player_name']) if card['player_name'] else None\n",
    "            cards_to_insert.append((\n",
    "                card['game_id'], card['card_type'], player_id, card['card_values']\n",
    "            ))\n",
    "        \n",
    "        if cards_to_insert:\n",
    "            print(f\"Inserting {len(cards_to_insert)} cards...\")\n",
    "            cursor.executemany('''\n",
    "                INSERT INTO cards\n",
    "                (game_id, card_type, player_id, card_values)\n",
    "                VALUES (?, ?, ?, ?)\n",
    "            ''', cards_to_insert)\n",
    "            conn.commit()\n",
    "        \n",
    "        # Insert actions in smaller batches to avoid excessive memory usage\n",
    "        action_batch_size = 5000\n",
    "        total_batch_actions = len(all_actions)\n",
    "        \n",
    "        if total_batch_actions > 0:\n",
    "            print(f\"Inserting {total_batch_actions} actions in smaller batches...\")\n",
    "            \n",
    "            with tqdm(total=total_batch_actions, desc=\"Inserting actions\") as pbar:\n",
    "                for j in range(0, total_batch_actions, action_batch_size):\n",
    "                    actions_batch = all_actions[j:j+action_batch_size]\n",
    "                    actions_to_insert = []\n",
    "                    \n",
    "                    for action in actions_batch:\n",
    "                        player_id = player_id_cache.get(action['player_name'])\n",
    "                        if player_id:\n",
    "                            actions_to_insert.append((\n",
    "                                action['game_id'], player_id, action['action_round'], action['action_type'],\n",
    "                                action['simple_action_type'], action['action_sum'], action['action_order'],\n",
    "                                action['pot_before_action'], action['players_remaining']\n",
    "                            ))\n",
    "                    \n",
    "                    if actions_to_insert:\n",
    "                        cursor.executemany('''\n",
    "                            INSERT INTO actions\n",
    "                            (game_id, player_id, action_round, action_type, simple_action_type, \n",
    "                             action_sum, action_order, pot_before_action, players_remaining)\n",
    "                            VALUES (?, ?, ?, ?, ?, ?, ?, ?, ?)\n",
    "                        ''', actions_to_insert)\n",
    "                        conn.commit()\n",
    "                        total_actions += len(actions_to_insert)\n",
    "                        pbar.update(len(actions_batch))\n",
    "        \n",
    "        chunk_time = time.time() - chunk_start\n",
    "        print(f\"Chunk complete in {chunk_time:.2f}s. Progress: {processed_files}/{num_files} files, {successful_files} successful, {total_games} games, {total_actions} actions\")\n",
    "    \n",
    "    # Add indexes after all data is inserted\n",
    "    print(\"Adding indexes...\")\n",
    "    cursor.execute('CREATE INDEX IF NOT EXISTS idx_game_id ON actions(game_id)')\n",
    "    cursor.execute('CREATE INDEX IF NOT EXISTS idx_player_id ON actions(player_id)')\n",
    "    cursor.execute('CREATE INDEX IF NOT EXISTS idx_action_type ON actions(simple_action_type)')\n",
    "    cursor.execute('CREATE INDEX IF NOT EXISTS idx_game_players ON game_players(game_id, player_id)')\n",
    "    conn.commit()\n",
    "    \n",
    "    # Optimize database\n",
    "    print(\"Optimizing database...\")\n",
    "    cursor.execute('PRAGMA optimize')\n",
    "    conn.commit()\n",
    "    conn.close()\n",
    "    \n",
    "    end_time = time.time()\n",
    "    print(f\"Total processing time: {end_time - start_time:.2f} seconds\")\n",
    "    print(f\"Processed {processed_files} files, {successful_files} successful, inserted {total_games} games and {total_actions} actions\")\n",
    "\n",
    "def main():\n",
    "    \"\"\"Main function to demonstrate the workflow\"\"\"\n",
    "    # Configuration\n",
    "    db_path = \"poker_analysis_optimized.db\"\n",
    "    xml_folder = \"ipoker_hh_test\"  # Folder containing XML files\n",
    "    \n",
    "    # Process files with optimized code\n",
    "    process_directory(xml_folder, db_path, limit=None)  # Set a limit or None for all files\n",
    "    \n",
    "    print(\"Processing complete!\")\n",
    "\n",
    "if __name__ == \"__main__\":\n",
    "    main()"
   ]
  }
 ],
 "metadata": {
  "kernelspec": {
   "display_name": "tf",
   "language": "python",
   "name": "python3"
  },
  "language_info": {
   "codemirror_mode": {
    "name": "ipython",
    "version": 3
   },
   "file_extension": ".py",
   "mimetype": "text/x-python",
   "name": "python",
   "nbconvert_exporter": "python",
   "pygments_lexer": "ipython3",
   "version": "3.7.12"
  }
 },
 "nbformat": 4,
 "nbformat_minor": 2
}
